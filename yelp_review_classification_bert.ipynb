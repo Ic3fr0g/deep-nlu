{
  "nbformat": 4,
  "nbformat_minor": 0,
  "metadata": {
    "colab": {
      "name": "yelp-review-classification-bert.ipynb",
      "version": "0.3.2",
      "provenance": [],
      "collapsed_sections": [],
      "toc_visible": true,
      "include_colab_link": true
    },
    "kernelspec": {
      "name": "python3",
      "display_name": "Python 3"
    },
    "accelerator": "GPU"
  },
  "cells": [
    {
      "cell_type": "markdown",
      "metadata": {
        "id": "view-in-github",
        "colab_type": "text"
      },
      "source": [
        "<a href=\"https://colab.research.google.com/github/madhugopinathan/deep-nlu/blob/master/yelp_review_classification_bert.ipynb\" target=\"_parent\"><img src=\"https://colab.research.google.com/assets/colab-badge.svg\" alt=\"Open In Colab\"/></a>"
      ]
    },
    {
      "cell_type": "markdown",
      "metadata": {
        "id": "ZmLzCtcE9NJl",
        "colab_type": "text"
      },
      "source": [
        "# Predict Yelp Review Ratings (1 star - 5 star)\n",
        "\n",
        "\n",
        "---\n",
        "\n",
        "\n",
        "**Change Runtime Type to GPU**\n",
        "\n",
        "---\n",
        "\n",
        "* Model: BERT uncased (fine tuned)\n"
      ]
    },
    {
      "cell_type": "markdown",
      "metadata": {
        "id": "nbEYhEErBMqe",
        "colab_type": "text"
      },
      "source": [
        "## Initialize model"
      ]
    },
    {
      "cell_type": "code",
      "metadata": {
        "id": "pQoD8CbI843E",
        "colab_type": "code",
        "colab": {
          "base_uri": "https://localhost:8080/",
          "height": 445
        },
        "outputId": "3057ac61-2984-4978-e65b-2941783d7e56"
      },
      "source": [
        "!wget https://www.dropbox.com/s/kwyyirozli33p2e/yelp-bert-model.tar.gz?dl=0"
      ],
      "execution_count": 1,
      "outputs": [
        {
          "output_type": "stream",
          "text": [
            "--2019-08-23 10:17:19--  https://www.dropbox.com/s/kwyyirozli33p2e/yelp-bert-model.tar.gz?dl=0\n",
            "Resolving www.dropbox.com (www.dropbox.com)... 162.125.65.1, 2620:100:6021:1::a27d:4101\n",
            "Connecting to www.dropbox.com (www.dropbox.com)|162.125.65.1|:443... connected.\n",
            "HTTP request sent, awaiting response... 301 Moved Permanently\n",
            "Location: /s/raw/kwyyirozli33p2e/yelp-bert-model.tar.gz [following]\n",
            "--2019-08-23 10:17:19--  https://www.dropbox.com/s/raw/kwyyirozli33p2e/yelp-bert-model.tar.gz\n",
            "Reusing existing connection to www.dropbox.com:443.\n",
            "HTTP request sent, awaiting response... 302 Found\n",
            "Location: https://uc49e2fb1809b99097311c06cec1.dl.dropboxusercontent.com/cd/0/inline/AnJhBGN5szRjXmPBPYBzadqnirn9ku5oMNkxEdlfJfc7H1jhmM1LUZSXSJyu3R2klGFyelkPA0J46ZSSR3Wor8-V1DEbSbPd-WRO_gQfjv4VMwV7ukkhfRZo18XMTVzYNW4/file# [following]\n",
            "--2019-08-23 10:17:19--  https://uc49e2fb1809b99097311c06cec1.dl.dropboxusercontent.com/cd/0/inline/AnJhBGN5szRjXmPBPYBzadqnirn9ku5oMNkxEdlfJfc7H1jhmM1LUZSXSJyu3R2klGFyelkPA0J46ZSSR3Wor8-V1DEbSbPd-WRO_gQfjv4VMwV7ukkhfRZo18XMTVzYNW4/file\n",
            "Resolving uc49e2fb1809b99097311c06cec1.dl.dropboxusercontent.com (uc49e2fb1809b99097311c06cec1.dl.dropboxusercontent.com)... 162.125.65.6, 2620:100:6021:6::a27d:4106\n",
            "Connecting to uc49e2fb1809b99097311c06cec1.dl.dropboxusercontent.com (uc49e2fb1809b99097311c06cec1.dl.dropboxusercontent.com)|162.125.65.6|:443... connected.\n",
            "HTTP request sent, awaiting response... 302 FOUND\n",
            "Location: /cd/0/inline2/AnLNDT5GjVzRBaDlH_Arq7DO_A3jFZw0bVKk4Txx5Ydo1A2nLgvxZvanT60F1hCnEfZPjDXfq_0Cbte2LLTWvouEexoInbA0eEX9ByvTTs5EAE0NyZPMBKGHqIvaFbdnmAJDxdXiLqnwvZdLcjHFrMrlfOtxu_HSEirPklEhFLKnRlniY53IWuZzm7VikxlZy8yWe-CBI_M2HVT5qEkLvks2_OXAlia0_hdNsmwc9q2xDqtrzPE3ZP_7Zjd5LpUAjK5wOFDZcX-ar4Kaqu9gjQwXTK2qed3mLSCt9-SsupO86QUwB0gPFehKlSGnMwEisc88KHp1X9OjA0O43kueB-zMpd7jY_6sX05mEA7cbAG9xg/file [following]\n",
            "--2019-08-23 10:17:20--  https://uc49e2fb1809b99097311c06cec1.dl.dropboxusercontent.com/cd/0/inline2/AnLNDT5GjVzRBaDlH_Arq7DO_A3jFZw0bVKk4Txx5Ydo1A2nLgvxZvanT60F1hCnEfZPjDXfq_0Cbte2LLTWvouEexoInbA0eEX9ByvTTs5EAE0NyZPMBKGHqIvaFbdnmAJDxdXiLqnwvZdLcjHFrMrlfOtxu_HSEirPklEhFLKnRlniY53IWuZzm7VikxlZy8yWe-CBI_M2HVT5qEkLvks2_OXAlia0_hdNsmwc9q2xDqtrzPE3ZP_7Zjd5LpUAjK5wOFDZcX-ar4Kaqu9gjQwXTK2qed3mLSCt9-SsupO86QUwB0gPFehKlSGnMwEisc88KHp1X9OjA0O43kueB-zMpd7jY_6sX05mEA7cbAG9xg/file\n",
            "Reusing existing connection to uc49e2fb1809b99097311c06cec1.dl.dropboxusercontent.com:443.\n",
            "HTTP request sent, awaiting response... 200 OK\n",
            "Length: 405603312 (387M) [application/octet-stream]\n",
            "Saving to: ‘yelp-bert-model.tar.gz?dl=0’\n",
            "\n",
            "yelp-bert-model.tar 100%[===================>] 386.81M  43.6MB/s    in 8.2s    \n",
            "\n",
            "2019-08-23 10:17:29 (47.4 MB/s) - ‘yelp-bert-model.tar.gz?dl=0’ saved [405603312/405603312]\n",
            "\n"
          ],
          "name": "stdout"
        }
      ]
    },
    {
      "cell_type": "code",
      "metadata": {
        "id": "_PfZFGfE89N_",
        "colab_type": "code",
        "colab": {
          "base_uri": "https://localhost:8080/",
          "height": 68
        },
        "outputId": "cf7761a5-af97-4d3c-ea2c-7054ed81fb69"
      },
      "source": [
        "!tar xvfz yelp-bert-model.tar.gz?dl=0"
      ],
      "execution_count": 2,
      "outputs": [
        {
          "output_type": "stream",
          "text": [
            "yelp-bert-model/\n",
            "yelp-bert-model/config.json\n",
            "yelp-bert-model/pytorch_model.bin\n"
          ],
          "name": "stdout"
        }
      ]
    },
    {
      "cell_type": "code",
      "metadata": {
        "id": "PvmfrzM89eKW",
        "colab_type": "code",
        "colab": {
          "base_uri": "https://localhost:8080/",
          "height": 564
        },
        "outputId": "ecfb53ee-65af-4335-a34a-857e9802dbf4"
      },
      "source": [
        "!pip install pytorch-transformers"
      ],
      "execution_count": 3,
      "outputs": [
        {
          "output_type": "stream",
          "text": [
            "Collecting pytorch-transformers\n",
            "\u001b[?25l  Downloading https://files.pythonhosted.org/packages/50/89/ad0d6bb932d0a51793eaabcf1617a36ff530dc9ab9e38f765a35dc293306/pytorch_transformers-1.1.0-py3-none-any.whl (158kB)\n",
            "\u001b[K     |████████████████████████████████| 163kB 6.5MB/s \n",
            "\u001b[?25hCollecting regex (from pytorch-transformers)\n",
            "\u001b[?25l  Downloading https://files.pythonhosted.org/packages/6f/a6/99eeb5904ab763db87af4bd71d9b1dfdd9792681240657a4c0a599c10a81/regex-2019.08.19.tar.gz (654kB)\n",
            "\u001b[K     |████████████████████████████████| 655kB 39.0MB/s \n",
            "\u001b[?25hRequirement already satisfied: requests in /usr/local/lib/python3.6/dist-packages (from pytorch-transformers) (2.21.0)\n",
            "Collecting sentencepiece (from pytorch-transformers)\n",
            "\u001b[?25l  Downloading https://files.pythonhosted.org/packages/14/3d/efb655a670b98f62ec32d66954e1109f403db4d937c50d779a75b9763a29/sentencepiece-0.1.83-cp36-cp36m-manylinux1_x86_64.whl (1.0MB)\n",
            "\u001b[K     |████████████████████████████████| 1.0MB 39.3MB/s \n",
            "\u001b[?25hRequirement already satisfied: boto3 in /usr/local/lib/python3.6/dist-packages (from pytorch-transformers) (1.9.205)\n",
            "Requirement already satisfied: tqdm in /usr/local/lib/python3.6/dist-packages (from pytorch-transformers) (4.28.1)\n",
            "Requirement already satisfied: torch>=1.0.0 in /usr/local/lib/python3.6/dist-packages (from pytorch-transformers) (1.1.0)\n",
            "Requirement already satisfied: numpy in /usr/local/lib/python3.6/dist-packages (from pytorch-transformers) (1.16.4)\n",
            "Requirement already satisfied: urllib3<1.25,>=1.21.1 in /usr/local/lib/python3.6/dist-packages (from requests->pytorch-transformers) (1.24.3)\n",
            "Requirement already satisfied: idna<2.9,>=2.5 in /usr/local/lib/python3.6/dist-packages (from requests->pytorch-transformers) (2.8)\n",
            "Requirement already satisfied: chardet<3.1.0,>=3.0.2 in /usr/local/lib/python3.6/dist-packages (from requests->pytorch-transformers) (3.0.4)\n",
            "Requirement already satisfied: certifi>=2017.4.17 in /usr/local/lib/python3.6/dist-packages (from requests->pytorch-transformers) (2019.6.16)\n",
            "Requirement already satisfied: jmespath<1.0.0,>=0.7.1 in /usr/local/lib/python3.6/dist-packages (from boto3->pytorch-transformers) (0.9.4)\n",
            "Requirement already satisfied: botocore<1.13.0,>=1.12.205 in /usr/local/lib/python3.6/dist-packages (from boto3->pytorch-transformers) (1.12.205)\n",
            "Requirement already satisfied: s3transfer<0.3.0,>=0.2.0 in /usr/local/lib/python3.6/dist-packages (from boto3->pytorch-transformers) (0.2.1)\n",
            "Requirement already satisfied: docutils<0.15,>=0.10 in /usr/local/lib/python3.6/dist-packages (from botocore<1.13.0,>=1.12.205->boto3->pytorch-transformers) (0.14)\n",
            "Requirement already satisfied: python-dateutil<3.0.0,>=2.1; python_version >= \"2.7\" in /usr/local/lib/python3.6/dist-packages (from botocore<1.13.0,>=1.12.205->boto3->pytorch-transformers) (2.5.3)\n",
            "Requirement already satisfied: six>=1.5 in /usr/local/lib/python3.6/dist-packages (from python-dateutil<3.0.0,>=2.1; python_version >= \"2.7\"->botocore<1.13.0,>=1.12.205->boto3->pytorch-transformers) (1.12.0)\n",
            "Building wheels for collected packages: regex\n",
            "  Building wheel for regex (setup.py) ... \u001b[?25l\u001b[?25hdone\n",
            "  Created wheel for regex: filename=regex-2019.8.19-cp36-cp36m-linux_x86_64.whl size=609225 sha256=08aedaff19c084cd57d86f4d92976be902fea2a8b7e847a5e5b291d6018c60e0\n",
            "  Stored in directory: /root/.cache/pip/wheels/90/04/07/b5010fb816721eb3d6dd64ed5cc8111ca23f97fdab8619b5be\n",
            "Successfully built regex\n",
            "Installing collected packages: regex, sentencepiece, pytorch-transformers\n",
            "Successfully installed pytorch-transformers-1.1.0 regex-2019.8.19 sentencepiece-0.1.83\n"
          ],
          "name": "stdout"
        }
      ]
    },
    {
      "cell_type": "code",
      "metadata": {
        "id": "30SXiRPpC72B",
        "colab_type": "code",
        "colab": {
          "base_uri": "https://localhost:8080/",
          "height": 204
        },
        "outputId": "de83f206-8745-452a-88bb-aaf0071f507a"
      },
      "source": [
        "!wget https://s3.amazonaws.com/fast-ai-nlp/yelp_review_full_csv.tgz"
      ],
      "execution_count": 10,
      "outputs": [
        {
          "output_type": "stream",
          "text": [
            "--2019-08-23 10:36:50--  https://s3.amazonaws.com/fast-ai-nlp/yelp_review_full_csv.tgz\n",
            "Resolving s3.amazonaws.com (s3.amazonaws.com)... 52.216.237.61\n",
            "Connecting to s3.amazonaws.com (s3.amazonaws.com)|52.216.237.61|:443... connected.\n",
            "HTTP request sent, awaiting response... 200 OK\n",
            "Length: 196146755 (187M) [application/x-tar]\n",
            "Saving to: ‘yelp_review_full_csv.tgz’\n",
            "\n",
            "yelp_review_full_cs 100%[===================>] 187.06M  11.1MB/s    in 23s     \n",
            "\n",
            "2019-08-23 10:37:13 (8.31 MB/s) - ‘yelp_review_full_csv.tgz’ saved [196146755/196146755]\n",
            "\n"
          ],
          "name": "stdout"
        }
      ]
    },
    {
      "cell_type": "code",
      "metadata": {
        "id": "MTjyZf-YDeyi",
        "colab_type": "code",
        "colab": {
          "base_uri": "https://localhost:8080/",
          "height": 85
        },
        "outputId": "ba3d29f4-f461-48ca-d25f-d3fc36c17323"
      },
      "source": [
        "!tar xvfz yelp_review_full_csv.tgz"
      ],
      "execution_count": 11,
      "outputs": [
        {
          "output_type": "stream",
          "text": [
            "yelp_review_full_csv/\n",
            "yelp_review_full_csv/train.csv\n",
            "yelp_review_full_csv/readme.txt\n",
            "yelp_review_full_csv/test.csv\n"
          ],
          "name": "stdout"
        }
      ]
    },
    {
      "cell_type": "code",
      "metadata": {
        "id": "j_QXqVjcF97h",
        "colab_type": "code",
        "colab": {
          "base_uri": "https://localhost:8080/",
          "height": 122
        },
        "outputId": "616738f5-e7b6-4ac2-8e5f-d797c8a27552"
      },
      "source": [
        "!pip install -U vaderSentiment"
      ],
      "execution_count": 27,
      "outputs": [
        {
          "output_type": "stream",
          "text": [
            "Collecting vaderSentiment\n",
            "\u001b[?25l  Downloading https://files.pythonhosted.org/packages/86/9e/c53e1fc61aac5ee490a6ac5e21b1ac04e55a7c2aba647bb8411c9aadf24e/vaderSentiment-3.2.1-py2.py3-none-any.whl (125kB)\n",
            "\r\u001b[K     |██▋                             | 10kB 13.8MB/s eta 0:00:01\r\u001b[K     |█████▏                          | 20kB 4.6MB/s eta 0:00:01\r\u001b[K     |███████▉                        | 30kB 6.4MB/s eta 0:00:01\r\u001b[K     |██████████▍                     | 40kB 4.2MB/s eta 0:00:01\r\u001b[K     |█████████████                   | 51kB 5.1MB/s eta 0:00:01\r\u001b[K     |███████████████▋                | 61kB 6.0MB/s eta 0:00:01\r\u001b[K     |██████████████████▎             | 71kB 6.8MB/s eta 0:00:01\r\u001b[K     |████████████████████▉           | 81kB 7.6MB/s eta 0:00:01\r\u001b[K     |███████████████████████▍        | 92kB 8.4MB/s eta 0:00:01\r\u001b[K     |██████████████████████████      | 102kB 6.8MB/s eta 0:00:01\r\u001b[K     |████████████████████████████▋   | 112kB 6.8MB/s eta 0:00:01\r\u001b[K     |███████████████████████████████▎| 122kB 6.8MB/s eta 0:00:01\r\u001b[K     |████████████████████████████████| 133kB 6.8MB/s \n",
            "\u001b[?25hInstalling collected packages: vaderSentiment\n",
            "Successfully installed vaderSentiment-3.2.1\n"
          ],
          "name": "stdout"
        }
      ]
    },
    {
      "cell_type": "code",
      "metadata": {
        "id": "RpRVgCoN-9ON",
        "colab_type": "code",
        "colab": {}
      },
      "source": [
        "from pytorch_transformers import BertForSequenceClassification, BertTokenizer"
      ],
      "execution_count": 0,
      "outputs": []
    },
    {
      "cell_type": "code",
      "metadata": {
        "id": "taXKvspQ90PQ",
        "colab_type": "code",
        "colab": {
          "base_uri": "https://localhost:8080/",
          "height": 1000
        },
        "outputId": "f8f799bc-a34d-4dde-ff11-de3086acc2cd"
      },
      "source": [
        "model = BertForSequenceClassification.from_pretrained(\"yelp-bert-model\", \n",
        "                                                      num_labels=5)\n",
        "model.cuda()"
      ],
      "execution_count": 7,
      "outputs": [
        {
          "output_type": "execute_result",
          "data": {
            "text/plain": [
              "BertForSequenceClassification(\n",
              "  (bert): BertModel(\n",
              "    (embeddings): BertEmbeddings(\n",
              "      (word_embeddings): Embedding(30522, 768, padding_idx=0)\n",
              "      (position_embeddings): Embedding(512, 768)\n",
              "      (token_type_embeddings): Embedding(2, 768)\n",
              "      (LayerNorm): BertLayerNorm()\n",
              "      (dropout): Dropout(p=0.1)\n",
              "    )\n",
              "    (encoder): BertEncoder(\n",
              "      (layer): ModuleList(\n",
              "        (0): BertLayer(\n",
              "          (attention): BertAttention(\n",
              "            (self): BertSelfAttention(\n",
              "              (query): Linear(in_features=768, out_features=768, bias=True)\n",
              "              (key): Linear(in_features=768, out_features=768, bias=True)\n",
              "              (value): Linear(in_features=768, out_features=768, bias=True)\n",
              "              (dropout): Dropout(p=0.1)\n",
              "            )\n",
              "            (output): BertSelfOutput(\n",
              "              (dense): Linear(in_features=768, out_features=768, bias=True)\n",
              "              (LayerNorm): BertLayerNorm()\n",
              "              (dropout): Dropout(p=0.1)\n",
              "            )\n",
              "          )\n",
              "          (intermediate): BertIntermediate(\n",
              "            (dense): Linear(in_features=768, out_features=3072, bias=True)\n",
              "          )\n",
              "          (output): BertOutput(\n",
              "            (dense): Linear(in_features=3072, out_features=768, bias=True)\n",
              "            (LayerNorm): BertLayerNorm()\n",
              "            (dropout): Dropout(p=0.1)\n",
              "          )\n",
              "        )\n",
              "        (1): BertLayer(\n",
              "          (attention): BertAttention(\n",
              "            (self): BertSelfAttention(\n",
              "              (query): Linear(in_features=768, out_features=768, bias=True)\n",
              "              (key): Linear(in_features=768, out_features=768, bias=True)\n",
              "              (value): Linear(in_features=768, out_features=768, bias=True)\n",
              "              (dropout): Dropout(p=0.1)\n",
              "            )\n",
              "            (output): BertSelfOutput(\n",
              "              (dense): Linear(in_features=768, out_features=768, bias=True)\n",
              "              (LayerNorm): BertLayerNorm()\n",
              "              (dropout): Dropout(p=0.1)\n",
              "            )\n",
              "          )\n",
              "          (intermediate): BertIntermediate(\n",
              "            (dense): Linear(in_features=768, out_features=3072, bias=True)\n",
              "          )\n",
              "          (output): BertOutput(\n",
              "            (dense): Linear(in_features=3072, out_features=768, bias=True)\n",
              "            (LayerNorm): BertLayerNorm()\n",
              "            (dropout): Dropout(p=0.1)\n",
              "          )\n",
              "        )\n",
              "        (2): BertLayer(\n",
              "          (attention): BertAttention(\n",
              "            (self): BertSelfAttention(\n",
              "              (query): Linear(in_features=768, out_features=768, bias=True)\n",
              "              (key): Linear(in_features=768, out_features=768, bias=True)\n",
              "              (value): Linear(in_features=768, out_features=768, bias=True)\n",
              "              (dropout): Dropout(p=0.1)\n",
              "            )\n",
              "            (output): BertSelfOutput(\n",
              "              (dense): Linear(in_features=768, out_features=768, bias=True)\n",
              "              (LayerNorm): BertLayerNorm()\n",
              "              (dropout): Dropout(p=0.1)\n",
              "            )\n",
              "          )\n",
              "          (intermediate): BertIntermediate(\n",
              "            (dense): Linear(in_features=768, out_features=3072, bias=True)\n",
              "          )\n",
              "          (output): BertOutput(\n",
              "            (dense): Linear(in_features=3072, out_features=768, bias=True)\n",
              "            (LayerNorm): BertLayerNorm()\n",
              "            (dropout): Dropout(p=0.1)\n",
              "          )\n",
              "        )\n",
              "        (3): BertLayer(\n",
              "          (attention): BertAttention(\n",
              "            (self): BertSelfAttention(\n",
              "              (query): Linear(in_features=768, out_features=768, bias=True)\n",
              "              (key): Linear(in_features=768, out_features=768, bias=True)\n",
              "              (value): Linear(in_features=768, out_features=768, bias=True)\n",
              "              (dropout): Dropout(p=0.1)\n",
              "            )\n",
              "            (output): BertSelfOutput(\n",
              "              (dense): Linear(in_features=768, out_features=768, bias=True)\n",
              "              (LayerNorm): BertLayerNorm()\n",
              "              (dropout): Dropout(p=0.1)\n",
              "            )\n",
              "          )\n",
              "          (intermediate): BertIntermediate(\n",
              "            (dense): Linear(in_features=768, out_features=3072, bias=True)\n",
              "          )\n",
              "          (output): BertOutput(\n",
              "            (dense): Linear(in_features=3072, out_features=768, bias=True)\n",
              "            (LayerNorm): BertLayerNorm()\n",
              "            (dropout): Dropout(p=0.1)\n",
              "          )\n",
              "        )\n",
              "        (4): BertLayer(\n",
              "          (attention): BertAttention(\n",
              "            (self): BertSelfAttention(\n",
              "              (query): Linear(in_features=768, out_features=768, bias=True)\n",
              "              (key): Linear(in_features=768, out_features=768, bias=True)\n",
              "              (value): Linear(in_features=768, out_features=768, bias=True)\n",
              "              (dropout): Dropout(p=0.1)\n",
              "            )\n",
              "            (output): BertSelfOutput(\n",
              "              (dense): Linear(in_features=768, out_features=768, bias=True)\n",
              "              (LayerNorm): BertLayerNorm()\n",
              "              (dropout): Dropout(p=0.1)\n",
              "            )\n",
              "          )\n",
              "          (intermediate): BertIntermediate(\n",
              "            (dense): Linear(in_features=768, out_features=3072, bias=True)\n",
              "          )\n",
              "          (output): BertOutput(\n",
              "            (dense): Linear(in_features=3072, out_features=768, bias=True)\n",
              "            (LayerNorm): BertLayerNorm()\n",
              "            (dropout): Dropout(p=0.1)\n",
              "          )\n",
              "        )\n",
              "        (5): BertLayer(\n",
              "          (attention): BertAttention(\n",
              "            (self): BertSelfAttention(\n",
              "              (query): Linear(in_features=768, out_features=768, bias=True)\n",
              "              (key): Linear(in_features=768, out_features=768, bias=True)\n",
              "              (value): Linear(in_features=768, out_features=768, bias=True)\n",
              "              (dropout): Dropout(p=0.1)\n",
              "            )\n",
              "            (output): BertSelfOutput(\n",
              "              (dense): Linear(in_features=768, out_features=768, bias=True)\n",
              "              (LayerNorm): BertLayerNorm()\n",
              "              (dropout): Dropout(p=0.1)\n",
              "            )\n",
              "          )\n",
              "          (intermediate): BertIntermediate(\n",
              "            (dense): Linear(in_features=768, out_features=3072, bias=True)\n",
              "          )\n",
              "          (output): BertOutput(\n",
              "            (dense): Linear(in_features=3072, out_features=768, bias=True)\n",
              "            (LayerNorm): BertLayerNorm()\n",
              "            (dropout): Dropout(p=0.1)\n",
              "          )\n",
              "        )\n",
              "        (6): BertLayer(\n",
              "          (attention): BertAttention(\n",
              "            (self): BertSelfAttention(\n",
              "              (query): Linear(in_features=768, out_features=768, bias=True)\n",
              "              (key): Linear(in_features=768, out_features=768, bias=True)\n",
              "              (value): Linear(in_features=768, out_features=768, bias=True)\n",
              "              (dropout): Dropout(p=0.1)\n",
              "            )\n",
              "            (output): BertSelfOutput(\n",
              "              (dense): Linear(in_features=768, out_features=768, bias=True)\n",
              "              (LayerNorm): BertLayerNorm()\n",
              "              (dropout): Dropout(p=0.1)\n",
              "            )\n",
              "          )\n",
              "          (intermediate): BertIntermediate(\n",
              "            (dense): Linear(in_features=768, out_features=3072, bias=True)\n",
              "          )\n",
              "          (output): BertOutput(\n",
              "            (dense): Linear(in_features=3072, out_features=768, bias=True)\n",
              "            (LayerNorm): BertLayerNorm()\n",
              "            (dropout): Dropout(p=0.1)\n",
              "          )\n",
              "        )\n",
              "        (7): BertLayer(\n",
              "          (attention): BertAttention(\n",
              "            (self): BertSelfAttention(\n",
              "              (query): Linear(in_features=768, out_features=768, bias=True)\n",
              "              (key): Linear(in_features=768, out_features=768, bias=True)\n",
              "              (value): Linear(in_features=768, out_features=768, bias=True)\n",
              "              (dropout): Dropout(p=0.1)\n",
              "            )\n",
              "            (output): BertSelfOutput(\n",
              "              (dense): Linear(in_features=768, out_features=768, bias=True)\n",
              "              (LayerNorm): BertLayerNorm()\n",
              "              (dropout): Dropout(p=0.1)\n",
              "            )\n",
              "          )\n",
              "          (intermediate): BertIntermediate(\n",
              "            (dense): Linear(in_features=768, out_features=3072, bias=True)\n",
              "          )\n",
              "          (output): BertOutput(\n",
              "            (dense): Linear(in_features=3072, out_features=768, bias=True)\n",
              "            (LayerNorm): BertLayerNorm()\n",
              "            (dropout): Dropout(p=0.1)\n",
              "          )\n",
              "        )\n",
              "        (8): BertLayer(\n",
              "          (attention): BertAttention(\n",
              "            (self): BertSelfAttention(\n",
              "              (query): Linear(in_features=768, out_features=768, bias=True)\n",
              "              (key): Linear(in_features=768, out_features=768, bias=True)\n",
              "              (value): Linear(in_features=768, out_features=768, bias=True)\n",
              "              (dropout): Dropout(p=0.1)\n",
              "            )\n",
              "            (output): BertSelfOutput(\n",
              "              (dense): Linear(in_features=768, out_features=768, bias=True)\n",
              "              (LayerNorm): BertLayerNorm()\n",
              "              (dropout): Dropout(p=0.1)\n",
              "            )\n",
              "          )\n",
              "          (intermediate): BertIntermediate(\n",
              "            (dense): Linear(in_features=768, out_features=3072, bias=True)\n",
              "          )\n",
              "          (output): BertOutput(\n",
              "            (dense): Linear(in_features=3072, out_features=768, bias=True)\n",
              "            (LayerNorm): BertLayerNorm()\n",
              "            (dropout): Dropout(p=0.1)\n",
              "          )\n",
              "        )\n",
              "        (9): BertLayer(\n",
              "          (attention): BertAttention(\n",
              "            (self): BertSelfAttention(\n",
              "              (query): Linear(in_features=768, out_features=768, bias=True)\n",
              "              (key): Linear(in_features=768, out_features=768, bias=True)\n",
              "              (value): Linear(in_features=768, out_features=768, bias=True)\n",
              "              (dropout): Dropout(p=0.1)\n",
              "            )\n",
              "            (output): BertSelfOutput(\n",
              "              (dense): Linear(in_features=768, out_features=768, bias=True)\n",
              "              (LayerNorm): BertLayerNorm()\n",
              "              (dropout): Dropout(p=0.1)\n",
              "            )\n",
              "          )\n",
              "          (intermediate): BertIntermediate(\n",
              "            (dense): Linear(in_features=768, out_features=3072, bias=True)\n",
              "          )\n",
              "          (output): BertOutput(\n",
              "            (dense): Linear(in_features=3072, out_features=768, bias=True)\n",
              "            (LayerNorm): BertLayerNorm()\n",
              "            (dropout): Dropout(p=0.1)\n",
              "          )\n",
              "        )\n",
              "        (10): BertLayer(\n",
              "          (attention): BertAttention(\n",
              "            (self): BertSelfAttention(\n",
              "              (query): Linear(in_features=768, out_features=768, bias=True)\n",
              "              (key): Linear(in_features=768, out_features=768, bias=True)\n",
              "              (value): Linear(in_features=768, out_features=768, bias=True)\n",
              "              (dropout): Dropout(p=0.1)\n",
              "            )\n",
              "            (output): BertSelfOutput(\n",
              "              (dense): Linear(in_features=768, out_features=768, bias=True)\n",
              "              (LayerNorm): BertLayerNorm()\n",
              "              (dropout): Dropout(p=0.1)\n",
              "            )\n",
              "          )\n",
              "          (intermediate): BertIntermediate(\n",
              "            (dense): Linear(in_features=768, out_features=3072, bias=True)\n",
              "          )\n",
              "          (output): BertOutput(\n",
              "            (dense): Linear(in_features=3072, out_features=768, bias=True)\n",
              "            (LayerNorm): BertLayerNorm()\n",
              "            (dropout): Dropout(p=0.1)\n",
              "          )\n",
              "        )\n",
              "        (11): BertLayer(\n",
              "          (attention): BertAttention(\n",
              "            (self): BertSelfAttention(\n",
              "              (query): Linear(in_features=768, out_features=768, bias=True)\n",
              "              (key): Linear(in_features=768, out_features=768, bias=True)\n",
              "              (value): Linear(in_features=768, out_features=768, bias=True)\n",
              "              (dropout): Dropout(p=0.1)\n",
              "            )\n",
              "            (output): BertSelfOutput(\n",
              "              (dense): Linear(in_features=768, out_features=768, bias=True)\n",
              "              (LayerNorm): BertLayerNorm()\n",
              "              (dropout): Dropout(p=0.1)\n",
              "            )\n",
              "          )\n",
              "          (intermediate): BertIntermediate(\n",
              "            (dense): Linear(in_features=768, out_features=3072, bias=True)\n",
              "          )\n",
              "          (output): BertOutput(\n",
              "            (dense): Linear(in_features=3072, out_features=768, bias=True)\n",
              "            (LayerNorm): BertLayerNorm()\n",
              "            (dropout): Dropout(p=0.1)\n",
              "          )\n",
              "        )\n",
              "      )\n",
              "    )\n",
              "    (pooler): BertPooler(\n",
              "      (dense): Linear(in_features=768, out_features=768, bias=True)\n",
              "      (activation): Tanh()\n",
              "    )\n",
              "  )\n",
              "  (dropout): Dropout(p=0.1)\n",
              "  (classifier): Linear(in_features=768, out_features=5, bias=True)\n",
              ")"
            ]
          },
          "metadata": {
            "tags": []
          },
          "execution_count": 7
        }
      ]
    },
    {
      "cell_type": "code",
      "metadata": {
        "id": "WLdKowWOIurD",
        "colab_type": "code",
        "colab": {
          "base_uri": "https://localhost:8080/",
          "height": 34
        },
        "outputId": "9749dc76-6d54-4592-8882-9043e2ec247e"
      },
      "source": [
        "pretrained_weights = 'bert-base-uncased'\n",
        "tokenizer = BertTokenizer.from_pretrained(pretrained_weights)"
      ],
      "execution_count": 37,
      "outputs": [
        {
          "output_type": "stream",
          "text": [
            "100%|██████████| 231508/231508 [00:00<00:00, 929545.13B/s]\n"
          ],
          "name": "stderr"
        }
      ]
    },
    {
      "cell_type": "markdown",
      "metadata": {
        "id": "WureS9ydCKiJ",
        "colab_type": "text"
      },
      "source": [
        "## Review Vectorizer"
      ]
    },
    {
      "cell_type": "code",
      "metadata": {
        "id": "ID2SleUe-6GA",
        "colab_type": "code",
        "colab": {}
      },
      "source": [
        "def to_features(df, tokenizer, max_seq_length=256):\n",
        "    features = {'all_token_ids' : [],\n",
        "                'all_input_mask' : [],\n",
        "                'all_segment_ids' : [],\n",
        "                'all_label_ids' : []}\n",
        "    \n",
        "    for row in df.itertuples():\n",
        "        # tokenize + index tokens\n",
        "        if hasattr(row,'bert_tokens'):\n",
        "            token_ids = row.bert_tokens\n",
        "        else:\n",
        "            token_ids = tokenizer.encode(row.review)\n",
        "            \n",
        "        if len(token_ids) > max_seq_length-2:\n",
        "            desired_length = max_seq_length-2\n",
        "            # one fourth of the tokens from the head\n",
        "            head_len = int(desired_length/4)\n",
        "            # remaining three fourth from the tail\n",
        "            tail_len = int(3*desired_length/4)\n",
        "            token_ids = token_ids[:head_len] + token_ids[-tail_len:]\n",
        "        token_ids = tokenizer.encode(tokenizer.cls_token) + \\\n",
        "                    token_ids + \\\n",
        "                    tokenizer.encode(tokenizer.sep_token)\n",
        "        input_mask = [1] * len(token_ids)\n",
        "        segment_ids = [0] * len(token_ids)\n",
        "        \n",
        "        # pad upto max_seq_length\n",
        "        padding_length = max_seq_length - len(token_ids)\n",
        "        pad_token_id_list = tokenizer.encode(tokenizer.pad_token)\n",
        "        \n",
        "        token_ids += pad_token_id_list * padding_length\n",
        "        input_mask += pad_token_id_list * padding_length\n",
        "        segment_ids += pad_token_id_list * padding_length\n",
        "        \n",
        "        assert len(token_ids) == max_seq_length\n",
        "        assert len(input_mask) == max_seq_length\n",
        "        assert len(segment_ids) == max_seq_length\n",
        "        \n",
        "        features['all_token_ids'].append(token_ids)\n",
        "        features['all_input_mask'].append(input_mask)\n",
        "        features['all_segment_ids'].append(segment_ids)\n",
        "        \n",
        "        if hasattr(row,'rating'):\n",
        "            features['all_label_ids'].append(row.rating-1)\n",
        "        \n",
        "    return features"
      ],
      "execution_count": 0,
      "outputs": []
    },
    {
      "cell_type": "markdown",
      "metadata": {
        "id": "JcK2Wde_HzTN",
        "colab_type": "text"
      },
      "source": [
        "## Rating Prediction"
      ]
    },
    {
      "cell_type": "code",
      "metadata": {
        "id": "tpvD9bJ5H5Je",
        "colab_type": "code",
        "colab": {}
      },
      "source": [
        "import torch\n",
        "from torch.utils.data import TensorDataset"
      ],
      "execution_count": 0,
      "outputs": []
    },
    {
      "cell_type": "code",
      "metadata": {
        "id": "tbAkbz5WHux7",
        "colab_type": "code",
        "colab": {}
      },
      "source": [
        "device = torch.device(\"cuda\" if torch.cuda.is_available() else \"cpu\")"
      ],
      "execution_count": 0,
      "outputs": []
    },
    {
      "cell_type": "code",
      "metadata": {
        "id": "tiXOizPNH4Y0",
        "colab_type": "code",
        "colab": {}
      },
      "source": [
        "def predict_rating(review):\n",
        "    model.eval()\n",
        "    \n",
        "    one_df = pd.DataFrame(data=[(review,)], columns=['review'])\n",
        "    eval_features = to_features(one_df, tokenizer)\n",
        "    eval_dataset = TensorDataset(torch.tensor(eval_features['all_token_ids']),\n",
        "                        torch.tensor(eval_features['all_input_mask']),\n",
        "                        torch.tensor(eval_features['all_segment_ids']),\n",
        "                       )\n",
        "    batch = eval_dataset.tensors\n",
        "    batch = tuple(t.to(device) for t in batch)\n",
        "    \n",
        "    model.eval()\n",
        "    with torch.no_grad():\n",
        "        inputs = {'input_ids' : batch[0],\n",
        "              'attention_mask' : batch[1],\n",
        "              'token_type_ids' : batch[2],\n",
        "             }\n",
        "        outputs = model(**inputs)\n",
        "        logits = outputs[0]\n",
        "        \n",
        "    preds = logits.detach().cpu().numpy()\n",
        "    preds = np.argmax(preds, axis=1)\n",
        "    return preds[0]+1"
      ],
      "execution_count": 0,
      "outputs": []
    },
    {
      "cell_type": "markdown",
      "metadata": {
        "id": "oQLYvGv5Cy8P",
        "colab_type": "text"
      },
      "source": [
        "## Load Yelp Reviews (df contains test set)"
      ]
    },
    {
      "cell_type": "code",
      "metadata": {
        "id": "GuxcKF0XCFXI",
        "colab_type": "code",
        "colab": {}
      },
      "source": [
        "%config InlineBackend.figure_format = 'retina'"
      ],
      "execution_count": 0,
      "outputs": []
    },
    {
      "cell_type": "code",
      "metadata": {
        "id": "PwK-kL5CDz1e",
        "colab_type": "code",
        "colab": {}
      },
      "source": [
        "import matplotlib.pyplot as plt\n",
        "import numpy as np\n",
        "import pandas as pd"
      ],
      "execution_count": 0,
      "outputs": []
    },
    {
      "cell_type": "code",
      "metadata": {
        "id": "3myzetDpEFZN",
        "colab_type": "code",
        "colab": {}
      },
      "source": [
        "pd.options.display.max_colwidth=-1"
      ],
      "execution_count": 0,
      "outputs": []
    },
    {
      "cell_type": "code",
      "metadata": {
        "id": "5X5wAbzyD5PE",
        "colab_type": "code",
        "colab": {}
      },
      "source": [
        "df = pd.read_csv(\"./yelp_review_full_csv/test.csv\", header=None, names=['rating', 'review'])"
      ],
      "execution_count": 0,
      "outputs": []
    },
    {
      "cell_type": "code",
      "metadata": {
        "id": "_EIfkMtXFlzE",
        "colab_type": "code",
        "colab": {}
      },
      "source": [
        "np.random.seed(42)"
      ],
      "execution_count": 0,
      "outputs": []
    },
    {
      "cell_type": "code",
      "metadata": {
        "id": "d81HiS5EKyDD",
        "colab_type": "code",
        "colab": {}
      },
      "source": [
        "sample_df = df.groupby('rating',group_keys=False).apply(lambda g:g.sample(2))"
      ],
      "execution_count": 0,
      "outputs": []
    },
    {
      "cell_type": "code",
      "metadata": {
        "id": "2iBdA9csQQbr",
        "colab_type": "code",
        "colab": {
          "base_uri": "https://localhost:8080/",
          "height": 1000
        },
        "outputId": "69fe55da-0985-4b87-ed8a-fc3753acc52e"
      },
      "source": [
        "sample_df"
      ],
      "execution_count": 73,
      "outputs": [
        {
          "output_type": "execute_result",
          "data": {
            "text/html": [
              "<div>\n",
              "<style scoped>\n",
              "    .dataframe tbody tr th:only-of-type {\n",
              "        vertical-align: middle;\n",
              "    }\n",
              "\n",
              "    .dataframe tbody tr th {\n",
              "        vertical-align: top;\n",
              "    }\n",
              "\n",
              "    .dataframe thead th {\n",
              "        text-align: right;\n",
              "    }\n",
              "</style>\n",
              "<table border=\"1\" class=\"dataframe\">\n",
              "  <thead>\n",
              "    <tr style=\"text-align: right;\">\n",
              "      <th></th>\n",
              "      <th>rating</th>\n",
              "      <th>review</th>\n",
              "      <th>compound_score</th>\n",
              "      <th>review_len</th>\n",
              "    </tr>\n",
              "  </thead>\n",
              "  <tbody>\n",
              "    <tr>\n",
              "      <th>32328</th>\n",
              "      <td>1</td>\n",
              "      <td>If you are a human being and thus may at some point after midnight need to pee or poop, don't eat here. The restaurant is open until 3 or 4 a.m. and is quite willing to take your money and serve you food and biiiiiiiiig giant sodas, but beware...their restroom closes at midnight. \\n\\nI couldn't believe that as a customer, eating in, I was not allowed to use the restroom. Is that even legal?? \\n\\nI asked where customers were expected to use the restroom after eating and drinking at their establishment. The girl informed me that customers can go \\\"next door to Fat Tuesday\\\". \\nThere are 2 MAJOR issues with that:\\n1 - you can't get into Fat Tuesday (a bar) if you aren't 21, so late night 20 year old sandwich eaters better have big ass bladders.\\n2 - the line to get into Fat Tuesday is sometimes about 20 people long, then once you get carded, get inside, and navigate through the crowd, the bathroom line for the ladies room is another 10-15 long. This means if you leave Jimmy Johns in the middle of eating to pee, you must be 21+ and you will be gone for 20 minutes to an hour to take a leak next door. You can then come back to your crusty sandwich and your annoyed friends who have been babysitting your food while you went pee pee partying over at Tuesdays. Screw that.\\n\\nI'll tell you right now, if I were a guy, I seriously would've pissed on their floor under my table. But...as a girl, that could be messy for me. So...lucky for you Jimmy Johns...I was born without a penis. You win the prize of no pee on your floor, but you will never win my business EVER again.</td>\n",
              "      <td>-0.9585</td>\n",
              "      <td>1582</td>\n",
              "    </tr>\n",
              "    <tr>\n",
              "      <th>48344</th>\n",
              "      <td>1</td>\n",
              "      <td>Is it possible to rate an establishment with less than 1 star? The security team here is a joke. I came in with a pocket knife (I am a woman mind you) only to have it confiscated at the door. This wasn't too much to ask as I understand the need for a safe environment. I do want to make it known that I carry my pocket knife everywhere and have never had it confiscated at any of the bars on Fremont. I forgot to get it back that night but came back the next day to grab it. \\n\\nThe only person that was available to talk was the barista that worked the counter at the coffee shop. She informed me that the knife was potbelly locked away in a safe because she couldn't find it. She took down my information and told me she would call once my knife was found. She called me with in a few hours to let me know my knife was there and safe. I was unable to come on Saturday night because I had to work. I came back on Sunday and Monday during the day and found the establishment  closed on both of hose days. Because I work and go to school full time, tonight was the first day I could come back. \\n\\nI was greeted by security and waited for about 15 minutes for the manager to come from upstairs to open the safe that my knife was supposedly kept in. After waiting for the manger for 15 minutes, the manager informs me that there was in fact no knife in the safe. This left me very confused. After gathering my thoughts and confusion, approached the manager with my question about the whereabouts of my pocket knife. After a few minutes the director of security became involved. The director went on to ask me why they would even bother putting someone's knife in safe to begin with. I was just as confused about that as he was. I went on to ask him why several people would tell me that my property was put in a safe and why the where about of my property we're know one day and unknown the next. I also asked his if he was concerned about his employees taking property from customers, specifically weapons. \\n\\nBoth gentlemen were unconcerned with the fact that a weapon was missing and that a customer was very unhappy with losing property at their establishment. Both of these gentlemen need to be taught a few lessons on how to talk and deal with customers. I am very upset and am looking into how I can get this resolved. This security team is very unprofessional in every way possible. I can get past the value of my knife, what's harder to get past is the unclear communication about the situation and the ignorance of the incompetence of their own company and team.</td>\n",
              "      <td>-0.8829</td>\n",
              "      <td>2571</td>\n",
              "    </tr>\n",
              "    <tr>\n",
              "      <th>43089</th>\n",
              "      <td>2</td>\n",
              "      <td>Sunday brunch, is just average, nothing special. As for the selection I felt it lacked in variety...basic breakfast foods and flatbread pizzas. (Upstream set the bar high for brunch) the food wasn't cold but  could've been hotter. Previous reviews said the beer was watered down, it must be a theme w/their alcohol selections b/c the Bloody Mary was watered down as we'll, I'm not sure if it's the mix they used...have definitely had better.  The atmosphere is cool and it was packed, but just don't see what all the hype is about.</td>\n",
              "      <td>0.5312</td>\n",
              "      <td>531</td>\n",
              "    </tr>\n",
              "    <tr>\n",
              "      <th>38033</th>\n",
              "      <td>2</td>\n",
              "      <td>This location has a much bigger seating area than other locations, which is a big plus in the morning.\\n\\nHowever, their quality control is severely lacking. I love the smokehouse sausage breakfast sandwich but the last one I got  was from here and it was terrible. The sausages tasted uncooked, the egg was about twice the size of the english muffin, and the english muffin itself had been cooked way too long (not burned, but hard).\\n\\nAnother small plus, since theyre bigger, they tend to have more than one box of each flavor of KCup packs available. But if you purchase one, you have to deal w/ their register guy who is really not the brightest bulb in the box. Thats mean, I know, but its unfortunately true. Ive had the same guy 4 times and ive experienced slow service, having my order voided 2-3 times because wrong buttons were pushed, a reply of \\\"Huh?\\\" to every order Ive made....super frustrating.</td>\n",
              "      <td>-0.9491</td>\n",
              "      <td>912</td>\n",
              "    </tr>\n",
              "    <tr>\n",
              "      <th>21419</th>\n",
              "      <td>3</td>\n",
              "      <td>After having the ice cream cookie sandwich from next door I felt we needed just a little something else.. so I had a 'like it', sweet and tart ice cream, meh.. its their attempt at the tangy tart fro yo which was mediocre at best. They need to focus on their strengths. However the customer service in here was awesome! 3 adorable and friendly guys who were super eager to help! Such a great change from the usual little bitches behind the counter. I'd come back for sure!</td>\n",
              "      <td>0.9882</td>\n",
              "      <td>472</td>\n",
              "    </tr>\n",
              "    <tr>\n",
              "      <th>7434</th>\n",
              "      <td>3</td>\n",
              "      <td>Please hire more help in the evenings and keep black walnut in stock! That's all. Thank you.</td>\n",
              "      <td>0.7955</td>\n",
              "      <td>92</td>\n",
              "    </tr>\n",
              "    <tr>\n",
              "      <th>42688</th>\n",
              "      <td>4</td>\n",
              "      <td>Lots of food for the money! They are fast and food good...our favorite it the beef chimi and asada fries! Both are huge! Staff is always friendly.</td>\n",
              "      <td>0.8547</td>\n",
              "      <td>146</td>\n",
              "    </tr>\n",
              "    <tr>\n",
              "      <th>8947</th>\n",
              "      <td>4</td>\n",
              "      <td>I have been going to Altered Ego for a while now and absolutely love it! I recently moved to CA and still go visit them when I'm in town!\\n\\nLet me first start by saying that I did have one HORRIBLE experience here when I made an appointment for a partial highlight and cut with Kasondra on a whim. My normal gal did not have any available appointments so I decided to test Kasondra out-BAD IDEA. I came in and took the time to explain in detail the type of color and look I wanted. She was very sweet during the process, however when she was finished there was absolutely no difference at all!!! I am naturally a brunette and have always liked to have natural-looking golden blonde highlights. Kasondra gave me no blonde color and my highlights looked brassy and unnatural. On top of that I had asked for a trim of my layers and it literally looked like someone had taken a butcher knife to my hair. It was completely uneven! I went into work the next day and my boss felt so bad for me she allowed me to take 3 hours off to go get my hair fixed!\\n\\nEnter Tawni-the owner of the salon. I called in a panic needing to get my hair fixed as I was leaving town on vacation. The salon offered to put me with Kasondra again but, needless to say, I was not excited about that option. Tawni was AMAZING! She completely fixed Kasondra's botched job on my hair and made my highlights and color look phenomenal! Tawni was also so interactive and engaging the whole time I was in her chair. Her assistant Sonni even gave the most wonderful scalp massage! Since then I will only see Tawni and trust her with my hair! One thing I will say is since she is the owner of the salon and very busy you are often there for a long time with other stylists washing your hair and blowdrying/styling you.\\n\\nI gave this review 4 stars because the salon is so quaint, the staff is lovely, and Tawni is awesome! I will never go back to Kasondra again, but Tawni's service recovery turned a horrible situation into a positive one.</td>\n",
              "      <td>0.9866</td>\n",
              "      <td>2003</td>\n",
              "    </tr>\n",
              "    <tr>\n",
              "      <th>5825</th>\n",
              "      <td>5</td>\n",
              "      <td>I love this pizza</td>\n",
              "      <td>0.6369</td>\n",
              "      <td>17</td>\n",
              "    </tr>\n",
              "    <tr>\n",
              "      <th>10016</th>\n",
              "      <td>5</td>\n",
              "      <td>In my 8 years living in Las Vegas, I never had a chance to try Spago.  I view it as a bit out of price range, so when their 20 Year Anniversary came up with roll-back pricing, I had to try it.  Went last night with my date, and we asked the assistant GM Drew to pick our food.  Here's what he picked, and my thoughts on each:\\n\\nSignature Roasted Beet Goat Cheese Salad\\nI never would have ordered this but it was delicious.\\n\\nHouse Smoked Sturgeon, Crisp Potato Galette, Horseradish Cream - $12\\nIt was like a spicy latke with fish on top.  Really good.\\n\\n\\n\\\"Chinois Style\\\" Colorado Lamb Chops, Cilantro Mint Vinaigrette, Sweet &amp; Sour Eggplant - $33\\nTender and delicious even without the sauce.  Eggplant was so good my date and I couldn't figure out if it was eggplant!\\n\\nCantonese Style Roasted Duck with Wild Huckleberries, Ginger and Stir-Fried Baby Bok Choy - $20\\nHuge and delicious, and unexpected as we thought we were only getting 1 main course to share.  Needless to say we had plenty of leftovers.\\n\\nEven with the discount I spent a bit more than I had hoped, but everything was delicious and the service was great, as well.  Oh, and they have an amazing bread platter.  Wish I was hungrier and got to try more of that!\\n\\nThanks, Drew W &amp; Scott G!</td>\n",
              "      <td>0.9955</td>\n",
              "      <td>1267</td>\n",
              "    </tr>\n",
              "  </tbody>\n",
              "</table>\n",
              "</div>"
            ],
            "text/plain": [
              "       rating  ... review_len\n",
              "32328  1       ...  1582     \n",
              "48344  1       ...  2571     \n",
              "43089  2       ...  531      \n",
              "38033  2       ...  912      \n",
              "21419  3       ...  472      \n",
              "7434   3       ...  92       \n",
              "42688  4       ...  146      \n",
              "8947   4       ...  2003     \n",
              "5825   5       ...  17       \n",
              "10016  5       ...  1267     \n",
              "\n",
              "[10 rows x 4 columns]"
            ]
          },
          "metadata": {
            "tags": []
          },
          "execution_count": 73
        }
      ]
    },
    {
      "cell_type": "code",
      "metadata": {
        "id": "072BX0JpIiCB",
        "colab_type": "code",
        "colab": {
          "base_uri": "https://localhost:8080/",
          "height": 224
        },
        "outputId": "c70ed12a-5dc1-4fe5-b5b9-a0e27ca72b52"
      },
      "source": [
        "for row in sample_df.itertuples():\n",
        "  print(row.Index, row.rating, predict_rating(row.review))"
      ],
      "execution_count": 80,
      "outputs": [
        {
          "output_type": "stream",
          "text": [
            "Token indices sequence length is longer than the specified maximum sequence length for this model (560 > 512). Running this sequence through the model will result in indexing errors\n"
          ],
          "name": "stderr"
        },
        {
          "output_type": "stream",
          "text": [
            "32328 1 1\n",
            "48344 1 1\n",
            "43089 2 2\n",
            "38033 2 2\n",
            "21419 3 4\n",
            "7434 3 5\n",
            "42688 4 4\n",
            "8947 4 4\n",
            "5825 5 5\n",
            "10016 5 5\n"
          ],
          "name": "stdout"
        }
      ]
    },
    {
      "cell_type": "markdown",
      "metadata": {
        "id": "kL6hqWSGGfFt",
        "colab_type": "text"
      },
      "source": [
        "## Rule based sentiment analysis (Vader)\n",
        "\n",
        "Typical threshold values:\n",
        "\n",
        "* positive sentiment: compound score >= 0.05\n",
        "* neutral sentiment: (compound score > -0.05) and (compound score < 0.05)\n",
        "* negative sentiment: compound score <= -0.05\n",
        "\n",
        "* The pos, neu, and neg scores are ratios for proportions of text that fall in each category (so these should all add up to be 1... or close to it with float operation). These are the most useful metrics if you want multidimensional measures of sentiment for a given sentence."
      ]
    },
    {
      "cell_type": "code",
      "metadata": {
        "id": "zTd7x3yuEEDp",
        "colab_type": "code",
        "colab": {}
      },
      "source": [
        "from vaderSentiment.vaderSentiment import SentimentIntensityAnalyzer"
      ],
      "execution_count": 0,
      "outputs": []
    },
    {
      "cell_type": "code",
      "metadata": {
        "id": "m3mBpUrCGVDr",
        "colab_type": "code",
        "colab": {}
      },
      "source": [
        "analyzer = SentimentIntensityAnalyzer()"
      ],
      "execution_count": 0,
      "outputs": []
    },
    {
      "cell_type": "code",
      "metadata": {
        "id": "c1yVb65uKYa6",
        "colab_type": "code",
        "colab": {}
      },
      "source": [
        "def get_compound_score(review):\n",
        "  return analyzer.polarity_scores(review)['compound']"
      ],
      "execution_count": 0,
      "outputs": []
    },
    {
      "cell_type": "code",
      "metadata": {
        "id": "sGu1KyVEReSN",
        "colab_type": "code",
        "colab": {
          "base_uri": "https://localhost:8080/",
          "height": 394
        },
        "outputId": "a02036db-a1f3-447f-c542-c5b3e4e35641"
      },
      "source": [
        "for row in sample_df.itertuples():\n",
        "  print(f\"\"\"{row.Index}, {row.rating} => \n",
        "            Model: {predict_rating(row.review)}, Rule: {get_compound_score(row.review)}\"\"\")"
      ],
      "execution_count": 83,
      "outputs": [
        {
          "output_type": "stream",
          "text": [
            "Token indices sequence length is longer than the specified maximum sequence length for this model (560 > 512). Running this sequence through the model will result in indexing errors\n"
          ],
          "name": "stderr"
        },
        {
          "output_type": "stream",
          "text": [
            "32328, 1 => \n",
            "            Model: 1, Rule: -0.9585\n",
            "48344, 1 => \n",
            "            Model: 1, Rule: -0.8829\n",
            "43089, 2 => \n",
            "            Model: 2, Rule: 0.5312\n",
            "38033, 2 => \n",
            "            Model: 2, Rule: -0.9491\n",
            "21419, 3 => \n",
            "            Model: 4, Rule: 0.9882\n",
            "7434, 3 => \n",
            "            Model: 5, Rule: 0.7955\n",
            "42688, 4 => \n",
            "            Model: 4, Rule: 0.8547\n",
            "8947, 4 => \n",
            "            Model: 4, Rule: 0.9866\n",
            "5825, 5 => \n",
            "            Model: 5, Rule: 0.6369\n",
            "10016, 5 => \n",
            "            Model: 5, Rule: 0.9955\n"
          ],
          "name": "stdout"
        }
      ]
    },
    {
      "cell_type": "code",
      "metadata": {
        "id": "Wk0DAGjWMOaH",
        "colab_type": "code",
        "colab": {
          "base_uri": "https://localhost:8080/",
          "height": 34
        },
        "outputId": "9cc4dcb2-cb02-4586-92ec-9da1f704ae28"
      },
      "source": [
        "get_compound_score(df.iloc[28515].review)"
      ],
      "execution_count": 54,
      "outputs": [
        {
          "output_type": "execute_result",
          "data": {
            "text/plain": [
              "0.8197"
            ]
          },
          "metadata": {
            "tags": []
          },
          "execution_count": 54
        }
      ]
    },
    {
      "cell_type": "code",
      "metadata": {
        "id": "LrMirk6VMvAF",
        "colab_type": "code",
        "colab": {
          "base_uri": "https://localhost:8080/",
          "height": 34
        },
        "outputId": "ec4906be-69d0-4c46-ac74-426069fb924e"
      },
      "source": [
        "get_compound_score(df.iloc[24807].review) # 24807"
      ],
      "execution_count": 55,
      "outputs": [
        {
          "output_type": "execute_result",
          "data": {
            "text/plain": [
              "-0.5393"
            ]
          },
          "metadata": {
            "tags": []
          },
          "execution_count": 55
        }
      ]
    },
    {
      "cell_type": "code",
      "metadata": {
        "id": "oWkLzpM6Gv7k",
        "colab_type": "code",
        "colab": {}
      },
      "source": [
        "df['compound_score'] = df.review.apply(get_compound_score)"
      ],
      "execution_count": 0,
      "outputs": []
    },
    {
      "cell_type": "code",
      "metadata": {
        "id": "kT2kQxPlPr5j",
        "colab_type": "code",
        "colab": {}
      },
      "source": [
        "df['review_len'] = df.review.str.len()"
      ],
      "execution_count": 0,
      "outputs": []
    },
    {
      "cell_type": "code",
      "metadata": {
        "id": "E-R_yD_GNYVS",
        "colab_type": "code",
        "colab": {
          "base_uri": "https://localhost:8080/",
          "height": 280
        },
        "outputId": "197abe48-2756-4ead-fd28-c17cc4ea4f5c"
      },
      "source": [
        "df.plot.scatter('rating', 'compound_score');"
      ],
      "execution_count": 61,
      "outputs": [
        {
          "output_type": "display_data",
          "data": {
            "image/png": "[encoded data removed]",
            "text/plain": [
              "<Figure size 432x288 with 1 Axes>"
            ]
          },
          "metadata": {
            "tags": [],
            "image/png": {
              "width": 402,
              "height": 263
            }
          }
        }
      ]
    },
    {
      "cell_type": "code",
      "metadata": {
        "id": "Pn97Z0DlO5i1",
        "colab_type": "code",
        "colab": {
          "base_uri": "https://localhost:8080/",
          "height": 1000
        },
        "outputId": "32eca3cd-ff99-443c-9a22-e59de777d802"
      },
      "source": [
        "df[(df.rating==1) & (df.compound_score >= 0.99)].sort_values('review_len').head(5)"
      ],
      "execution_count": 67,
      "outputs": [
        {
          "output_type": "execute_result",
          "data": {
            "text/html": [
              "<div>\n",
              "<style scoped>\n",
              "    .dataframe tbody tr th:only-of-type {\n",
              "        vertical-align: middle;\n",
              "    }\n",
              "\n",
              "    .dataframe tbody tr th {\n",
              "        vertical-align: top;\n",
              "    }\n",
              "\n",
              "    .dataframe thead th {\n",
              "        text-align: right;\n",
              "    }\n",
              "</style>\n",
              "<table border=\"1\" class=\"dataframe\">\n",
              "  <thead>\n",
              "    <tr style=\"text-align: right;\">\n",
              "      <th></th>\n",
              "      <th>rating</th>\n",
              "      <th>review</th>\n",
              "      <th>compound_score</th>\n",
              "      <th>review_len</th>\n",
              "    </tr>\n",
              "  </thead>\n",
              "  <tbody>\n",
              "    <tr>\n",
              "      <th>13310</th>\n",
              "      <td>1</td>\n",
              "      <td>Great ambience but the food doesn't cut it.  The only thing that was pod was the free dinner rolls that were buttery and had sea salt on top to offset the sweetness.  \\n\\nGot the $55 ribeye that came luke warm and under seasoned.  By far the worst ribeye I've ever had at a nice steakhouse.  It was full of fat too.\\n\\nThe risotto was horrible.  Sour like something we bad and it came with huge cherry tomatoes, very unrefined.\\n\\nShort rib was delicious, highly recommended.  Scallops were just whatever and the carpaccio was good, savory and worth trying.\\n\\nService was excellent minus out main server.  He didn't do much but the other help was amazing.\\n\\nMonkey bread was recommended so we tried it.  Very very very sweet, too sweet.  I y thing that was good was the banana ice cream but I wouldn't get this of you for like your deserts too sweet.\\n\\nOverall, it was a bad steakhouse.  Skip it</td>\n",
              "      <td>0.9939</td>\n",
              "      <td>898</td>\n",
              "    </tr>\n",
              "    <tr>\n",
              "      <th>2127</th>\n",
              "      <td>1</td>\n",
              "      <td>2/2/11- Talk about going downhill! Dunno know if it is a new mgr or what but when I get a roll with my salad and the bottom half is covered in black mold...EEK! \\n\\nThis little stuck-in-the-seventies place is the restaurant at the Belair Golf Course off of Bell Rd. Its really somewhat of a hidden gem though if you're looking for regular ol' American food. Its quiet, has a lovely view of the lake, peaceful, good service and above average food. The breakfast is especially good with the chicken fried steak being my personal favorite. Its actually real steak not some pre-breaded b.s. I like the club sandwich for lunch- generous amounts of meat, fresh lettuce &amp; tomato, hot fries- how can you go wrong? My only reason for not giving it another star would be the decor. Its perfectly fine, I guess. It's clean. Its just so seventies. But, hey, go there to relax with friends, get a drink from the bar and soak up the seventies charm.</td>\n",
              "      <td>0.9945</td>\n",
              "      <td>935</td>\n",
              "    </tr>\n",
              "    <tr>\n",
              "      <th>12757</th>\n",
              "      <td>1</td>\n",
              "      <td>Nice hotel, but for the first time I can honestly say the gambling machines are fixed and the MGM experience is a perfect example why I making these accusations. I spent 4 days at the MGM and played both the tables and the machines. I found a great five cent machine that was very exciting to play. Over the course of 4 days I kept going back to the 10 FREE GAMES machine that offers 10 ways of winning . For 3 staight evenings I played this game and played for atleast 20 minutes or a little longer until it gave you a free spin. Regardless of the amount that I won, I always got atleast one free spin, The last night I was there, I tried the same machine and after 2 1/2 hours of playing ,that  machine never gave me that free spin. $270.00 later I called the manager and he took it out of commission and I called the gaming board. Of course nobody has contacted me but I can assure you that Machines in Casinos are FIXED and controlled. What a waste of time and precious money! MGM you should be ashamed!</td>\n",
              "      <td>0.9967</td>\n",
              "      <td>1007</td>\n",
              "    </tr>\n",
              "    <tr>\n",
              "      <th>38244</th>\n",
              "      <td>1</td>\n",
              "      <td>Bad Attitude - Well, that about sums it up. I moved out to the north valley in July of last year and thus far have spent $1900 at this shop. On two occasions I have had to deal with attitude from one of the bike mechanics there - big guy with the beard. I took my road bike in today to ask a question and the condescending mechanic only made fun of how old my bike is - yep, it's a vintage 2003 model. Not the best bike in the world but it has been a great ride for 11 years.  He also felt compelled to tell me \\\"you really need a new bike but don't worry it won't make you any faster\\\". Here's the kicker, I did a race last weekend and decided I was going to upgrade before my next one in September. Sorry Bicycle Vibe, I'll be taking the $4K I have for my new purchase elsewhere. \\n\\nWhy do people have to talk down to others? Did that really make him feel better? Not only did he have a chance to make a great sell and win a customer, he had a chance to be nice to another human being. Does it really matter how old your bike is? It would be so cool to have a nice bike shop here up north, without the attitude.</td>\n",
              "      <td>0.9921</td>\n",
              "      <td>1114</td>\n",
              "    </tr>\n",
              "    <tr>\n",
              "      <th>25823</th>\n",
              "      <td>1</td>\n",
              "      <td>We went there just because Tony  Bourdain went there and he loved it.  Well Tony you did us dirt!  This place is for people who like to think they are cool and like to be seen being what they think is cool.  We started with a tomato soup that was flat in flavor and tasteless with raw crunchy slices of tomatoes placed in it.  But that was not the worsted of it.  It was served luke warm  with a chunk of brie,, oh but there is more, the rind  was still on eeeuuuu, omg it was gross!  We ordered the big New York steak ... Dont bother talk about false advertising this is more like a  top round of the lowest quality.  It was not edible, you just chew and chew and chew.  If you enjoy beef gum this is the steak for you, but lay in some dental floss cause boy you will need it.  Service was something out of a fast food restaurant hurried and careless.  For us this by far has won the #1 bad meal of the last 5 years.  Up side they sat us in the garden area which was cool temp wise and very pleasant if I had known the best food in the house was in those pots growing besides me not only would I have saved a bucked to cash, but had a better meal.</td>\n",
              "      <td>0.9903</td>\n",
              "      <td>1148</td>\n",
              "    </tr>\n",
              "  </tbody>\n",
              "</table>\n",
              "</div>"
            ],
            "text/plain": [
              "       rating  ... review_len\n",
              "13310  1       ...  898      \n",
              "2127   1       ...  935      \n",
              "12757  1       ...  1007     \n",
              "38244  1       ...  1114     \n",
              "25823  1       ...  1148     \n",
              "\n",
              "[5 rows x 4 columns]"
            ]
          },
          "metadata": {
            "tags": []
          },
          "execution_count": 67
        }
      ]
    },
    {
      "cell_type": "code",
      "metadata": {
        "id": "c8SIMMHvPNk-",
        "colab_type": "code",
        "colab": {}
      },
      "source": [
        ""
      ],
      "execution_count": 0,
      "outputs": []
    }
  ]
}