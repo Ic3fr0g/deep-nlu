{
  "nbformat": 4,
  "nbformat_minor": 0,
  "metadata": {
    "colab": {
      "name": "access-glove-test.ipynb",
      "version": "0.3.2",
      "provenance": [],
      "collapsed_sections": [],
      "include_colab_link": true
    },
    "kernelspec": {
      "name": "python3",
      "display_name": "Python 3"
    },
    "accelerator": "GPU"
  },
  "cells": [
    {
      "cell_type": "markdown",
      "metadata": {
        "id": "view-in-github",
        "colab_type": "text"
      },
      "source": [
        "<a href=\"https://colab.research.google.com/github/madhugopinathan/deep-nlu/blob/master/access_glove_test.ipynb\" target=\"_parent\"><img src=\"https://colab.research.google.com/assets/colab-badge.svg\" alt=\"Open In Colab\"/></a>"
      ]
    },
    {
      "cell_type": "code",
      "metadata": {
        "id": "msHbcPhSJise",
        "colab_type": "code",
        "colab": {
          "base_uri": "https://localhost:8080/",
          "height": 357
        },
        "outputId": "00a2d89a-186c-4268-c22f-77e325f31367"
      },
      "source": [
        "!wget http://nlp.stanford.edu/data/glove.6B.zip"
      ],
      "execution_count": 38,
      "outputs": [
        {
          "output_type": "stream",
          "text": [
            "--2019-08-03 07:38:05--  http://nlp.stanford.edu/data/glove.6B.zip\n",
            "Resolving nlp.stanford.edu (nlp.stanford.edu)... 171.64.67.140\n",
            "Connecting to nlp.stanford.edu (nlp.stanford.edu)|171.64.67.140|:80... connected.\n",
            "HTTP request sent, awaiting response... 302 Found\n",
            "Location: https://nlp.stanford.edu/data/glove.6B.zip [following]\n",
            "--2019-08-03 07:38:05--  https://nlp.stanford.edu/data/glove.6B.zip\n",
            "Connecting to nlp.stanford.edu (nlp.stanford.edu)|171.64.67.140|:443... connected.\n",
            "HTTP request sent, awaiting response... 301 Moved Permanently\n",
            "Location: http://downloads.cs.stanford.edu/nlp/data/glove.6B.zip [following]\n",
            "--2019-08-03 07:38:05--  http://downloads.cs.stanford.edu/nlp/data/glove.6B.zip\n",
            "Resolving downloads.cs.stanford.edu (downloads.cs.stanford.edu)... 171.64.64.22\n",
            "Connecting to downloads.cs.stanford.edu (downloads.cs.stanford.edu)|171.64.64.22|:80... connected.\n",
            "HTTP request sent, awaiting response... 200 OK\n",
            "Length: 862182613 (822M) [application/zip]\n",
            "Saving to: ‘glove.6B.zip’\n",
            "\n",
            "glove.6B.zip        100%[===================>] 822.24M  30.6MB/s    in 24s     \n",
            "\n",
            "2019-08-03 07:38:29 (34.9 MB/s) - ‘glove.6B.zip’ saved [862182613/862182613]\n",
            "\n"
          ],
          "name": "stdout"
        }
      ]
    },
    {
      "cell_type": "code",
      "metadata": {
        "id": "hj9ml4vTMvd3",
        "colab_type": "code",
        "colab": {
          "base_uri": "https://localhost:8080/",
          "height": 34
        },
        "outputId": "61de02e2-6c1d-437f-aaf9-bf31f4682362"
      },
      "source": [
        "!ls"
      ],
      "execution_count": 39,
      "outputs": [
        {
          "output_type": "stream",
          "text": [
            "glove.6B.zip  sample_data\n"
          ],
          "name": "stdout"
        }
      ]
    },
    {
      "cell_type": "code",
      "metadata": {
        "id": "ginPCMMhaqPe",
        "colab_type": "code",
        "colab": {
          "base_uri": "https://localhost:8080/",
          "height": 34
        },
        "outputId": "b0e2d1cc-5630-4fc6-cb86-1fa90cd5b7ad"
      },
      "source": [
        "!mkdir glove\n",
        "!mv glove.6B.zip glove"
      ],
      "execution_count": 40,
      "outputs": [
        {
          "output_type": "stream",
          "text": [
            "unzip:  cannot find or open glove.6B.zip, glove.6B.zip.zip or glove.6B.zip.ZIP.\n"
          ],
          "name": "stdout"
        }
      ]
    },
    {
      "cell_type": "code",
      "metadata": {
        "id": "Saz5LKw0bA93",
        "colab_type": "code",
        "colab": {
          "base_uri": "https://localhost:8080/",
          "height": 119
        },
        "outputId": "ca3e1891-8cbc-4dd5-a317-8b6c08d45de3"
      },
      "source": [
        "%cd glove\n",
        "!unzip glove.6B.zip"
      ],
      "execution_count": 43,
      "outputs": [
        {
          "output_type": "stream",
          "text": [
            "/content/glove\n",
            "Archive:  glove.6B.zip\n",
            "  inflating: glove.6B.50d.txt        \n",
            "  inflating: glove.6B.100d.txt       \n",
            "  inflating: glove.6B.200d.txt       \n",
            "  inflating: glove.6B.300d.txt       \n"
          ],
          "name": "stdout"
        }
      ]
    },
    {
      "cell_type": "code",
      "metadata": {
        "id": "WKmci623M0FR",
        "colab_type": "code",
        "colab": {}
      },
      "source": [
        "import pandas as pd"
      ],
      "execution_count": 0,
      "outputs": []
    },
    {
      "cell_type": "code",
      "metadata": {
        "id": "DrbOfplyN58C",
        "colab_type": "code",
        "colab": {}
      },
      "source": [
        "import csv"
      ],
      "execution_count": 0,
      "outputs": []
    },
    {
      "cell_type": "code",
      "metadata": {
        "id": "V2V-P449Nxf0",
        "colab_type": "code",
        "colab": {}
      },
      "source": [
        "glove_df = pd.read_csv(\"./glove.6B.300d.txt\", sep=' ', \n",
        "                       header=None, index_col=0, \n",
        "                       quoting=csv.QUOTE_NONE)"
      ],
      "execution_count": 0,
      "outputs": []
    },
    {
      "cell_type": "code",
      "metadata": {
        "id": "LHKnVsO6N31y",
        "colab_type": "code",
        "colab": {
          "base_uri": "https://localhost:8080/",
          "height": 284
        },
        "outputId": "57fbed6e-760d-4b5b-bc25-69c138f2a3b7"
      },
      "source": [
        "glove_df.head()"
      ],
      "execution_count": 47,
      "outputs": [
        {
          "output_type": "execute_result",
          "data": {
            "text/html": [
              "<div>\n",
              "<style scoped>\n",
              "    .dataframe tbody tr th:only-of-type {\n",
              "        vertical-align: middle;\n",
              "    }\n",
              "\n",
              "    .dataframe tbody tr th {\n",
              "        vertical-align: top;\n",
              "    }\n",
              "\n",
              "    .dataframe thead th {\n",
              "        text-align: right;\n",
              "    }\n",
              "</style>\n",
              "<table border=\"1\" class=\"dataframe\">\n",
              "  <thead>\n",
              "    <tr style=\"text-align: right;\">\n",
              "      <th></th>\n",
              "      <th>1</th>\n",
              "      <th>2</th>\n",
              "      <th>3</th>\n",
              "      <th>4</th>\n",
              "      <th>5</th>\n",
              "      <th>6</th>\n",
              "      <th>7</th>\n",
              "      <th>8</th>\n",
              "      <th>9</th>\n",
              "      <th>10</th>\n",
              "      <th>11</th>\n",
              "      <th>12</th>\n",
              "      <th>13</th>\n",
              "      <th>14</th>\n",
              "      <th>15</th>\n",
              "      <th>16</th>\n",
              "      <th>17</th>\n",
              "      <th>18</th>\n",
              "      <th>19</th>\n",
              "      <th>20</th>\n",
              "      <th>21</th>\n",
              "      <th>22</th>\n",
              "      <th>23</th>\n",
              "      <th>24</th>\n",
              "      <th>25</th>\n",
              "      <th>26</th>\n",
              "      <th>27</th>\n",
              "      <th>28</th>\n",
              "      <th>29</th>\n",
              "      <th>30</th>\n",
              "      <th>31</th>\n",
              "      <th>32</th>\n",
              "      <th>33</th>\n",
              "      <th>34</th>\n",
              "      <th>35</th>\n",
              "      <th>36</th>\n",
              "      <th>37</th>\n",
              "      <th>38</th>\n",
              "      <th>39</th>\n",
              "      <th>40</th>\n",
              "      <th>...</th>\n",
              "      <th>261</th>\n",
              "      <th>262</th>\n",
              "      <th>263</th>\n",
              "      <th>264</th>\n",
              "      <th>265</th>\n",
              "      <th>266</th>\n",
              "      <th>267</th>\n",
              "      <th>268</th>\n",
              "      <th>269</th>\n",
              "      <th>270</th>\n",
              "      <th>271</th>\n",
              "      <th>272</th>\n",
              "      <th>273</th>\n",
              "      <th>274</th>\n",
              "      <th>275</th>\n",
              "      <th>276</th>\n",
              "      <th>277</th>\n",
              "      <th>278</th>\n",
              "      <th>279</th>\n",
              "      <th>280</th>\n",
              "      <th>281</th>\n",
              "      <th>282</th>\n",
              "      <th>283</th>\n",
              "      <th>284</th>\n",
              "      <th>285</th>\n",
              "      <th>286</th>\n",
              "      <th>287</th>\n",
              "      <th>288</th>\n",
              "      <th>289</th>\n",
              "      <th>290</th>\n",
              "      <th>291</th>\n",
              "      <th>292</th>\n",
              "      <th>293</th>\n",
              "      <th>294</th>\n",
              "      <th>295</th>\n",
              "      <th>296</th>\n",
              "      <th>297</th>\n",
              "      <th>298</th>\n",
              "      <th>299</th>\n",
              "      <th>300</th>\n",
              "    </tr>\n",
              "    <tr>\n",
              "      <th>0</th>\n",
              "      <th></th>\n",
              "      <th></th>\n",
              "      <th></th>\n",
              "      <th></th>\n",
              "      <th></th>\n",
              "      <th></th>\n",
              "      <th></th>\n",
              "      <th></th>\n",
              "      <th></th>\n",
              "      <th></th>\n",
              "      <th></th>\n",
              "      <th></th>\n",
              "      <th></th>\n",
              "      <th></th>\n",
              "      <th></th>\n",
              "      <th></th>\n",
              "      <th></th>\n",
              "      <th></th>\n",
              "      <th></th>\n",
              "      <th></th>\n",
              "      <th></th>\n",
              "      <th></th>\n",
              "      <th></th>\n",
              "      <th></th>\n",
              "      <th></th>\n",
              "      <th></th>\n",
              "      <th></th>\n",
              "      <th></th>\n",
              "      <th></th>\n",
              "      <th></th>\n",
              "      <th></th>\n",
              "      <th></th>\n",
              "      <th></th>\n",
              "      <th></th>\n",
              "      <th></th>\n",
              "      <th></th>\n",
              "      <th></th>\n",
              "      <th></th>\n",
              "      <th></th>\n",
              "      <th></th>\n",
              "      <th></th>\n",
              "      <th></th>\n",
              "      <th></th>\n",
              "      <th></th>\n",
              "      <th></th>\n",
              "      <th></th>\n",
              "      <th></th>\n",
              "      <th></th>\n",
              "      <th></th>\n",
              "      <th></th>\n",
              "      <th></th>\n",
              "      <th></th>\n",
              "      <th></th>\n",
              "      <th></th>\n",
              "      <th></th>\n",
              "      <th></th>\n",
              "      <th></th>\n",
              "      <th></th>\n",
              "      <th></th>\n",
              "      <th></th>\n",
              "      <th></th>\n",
              "      <th></th>\n",
              "      <th></th>\n",
              "      <th></th>\n",
              "      <th></th>\n",
              "      <th></th>\n",
              "      <th></th>\n",
              "      <th></th>\n",
              "      <th></th>\n",
              "      <th></th>\n",
              "      <th></th>\n",
              "      <th></th>\n",
              "      <th></th>\n",
              "      <th></th>\n",
              "      <th></th>\n",
              "      <th></th>\n",
              "      <th></th>\n",
              "      <th></th>\n",
              "      <th></th>\n",
              "      <th></th>\n",
              "      <th></th>\n",
              "    </tr>\n",
              "  </thead>\n",
              "  <tbody>\n",
              "    <tr>\n",
              "      <th>the</th>\n",
              "      <td>0.046560</td>\n",
              "      <td>0.213180</td>\n",
              "      <td>-0.007436</td>\n",
              "      <td>-0.458540</td>\n",
              "      <td>-0.035639</td>\n",
              "      <td>0.236430</td>\n",
              "      <td>-0.288360</td>\n",
              "      <td>0.215210</td>\n",
              "      <td>-0.134860</td>\n",
              "      <td>-1.6413</td>\n",
              "      <td>-0.26091</td>\n",
              "      <td>0.032434</td>\n",
              "      <td>0.056621</td>\n",
              "      <td>-0.043296</td>\n",
              "      <td>-0.021672</td>\n",
              "      <td>0.224760</td>\n",
              "      <td>-0.075129</td>\n",
              "      <td>-0.067018</td>\n",
              "      <td>-0.142470</td>\n",
              "      <td>0.038825</td>\n",
              "      <td>-0.189510</td>\n",
              "      <td>0.29977</td>\n",
              "      <td>0.393050</td>\n",
              "      <td>0.178870</td>\n",
              "      <td>-0.173430</td>\n",
              "      <td>-0.211780</td>\n",
              "      <td>0.236170</td>\n",
              "      <td>-0.063681</td>\n",
              "      <td>-0.423180</td>\n",
              "      <td>-0.116610</td>\n",
              "      <td>0.093754</td>\n",
              "      <td>0.172960</td>\n",
              "      <td>-0.33073</td>\n",
              "      <td>0.491120</td>\n",
              "      <td>-0.68995</td>\n",
              "      <td>-0.092462</td>\n",
              "      <td>0.247420</td>\n",
              "      <td>-0.179910</td>\n",
              "      <td>0.097908</td>\n",
              "      <td>0.083118</td>\n",
              "      <td>...</td>\n",
              "      <td>-0.287970</td>\n",
              "      <td>-0.058996</td>\n",
              "      <td>-0.032436</td>\n",
              "      <td>-0.004701</td>\n",
              "      <td>-0.170520</td>\n",
              "      <td>-0.034741</td>\n",
              "      <td>-0.114890</td>\n",
              "      <td>0.075093</td>\n",
              "      <td>0.099526</td>\n",
              "      <td>0.048183</td>\n",
              "      <td>-0.073775</td>\n",
              "      <td>-0.418170</td>\n",
              "      <td>0.004127</td>\n",
              "      <td>0.44414</td>\n",
              "      <td>-0.16062</td>\n",
              "      <td>0.142940</td>\n",
              "      <td>-2.2628</td>\n",
              "      <td>-0.027347</td>\n",
              "      <td>0.81311</td>\n",
              "      <td>0.774170</td>\n",
              "      <td>-0.256390</td>\n",
              "      <td>-0.115760</td>\n",
              "      <td>-0.119820</td>\n",
              "      <td>-0.21363</td>\n",
              "      <td>0.028429</td>\n",
              "      <td>0.27261</td>\n",
              "      <td>0.031026</td>\n",
              "      <td>0.096782</td>\n",
              "      <td>0.006777</td>\n",
              "      <td>0.140820</td>\n",
              "      <td>-0.013064</td>\n",
              "      <td>-0.296860</td>\n",
              "      <td>-0.079913</td>\n",
              "      <td>0.195000</td>\n",
              "      <td>0.031549</td>\n",
              "      <td>0.285060</td>\n",
              "      <td>-0.087461</td>\n",
              "      <td>0.009061</td>\n",
              "      <td>-0.209890</td>\n",
              "      <td>0.053913</td>\n",
              "    </tr>\n",
              "    <tr>\n",
              "      <th>,</th>\n",
              "      <td>-0.255390</td>\n",
              "      <td>-0.257230</td>\n",
              "      <td>0.131690</td>\n",
              "      <td>-0.042688</td>\n",
              "      <td>0.218170</td>\n",
              "      <td>-0.022702</td>\n",
              "      <td>-0.178540</td>\n",
              "      <td>0.107560</td>\n",
              "      <td>0.058936</td>\n",
              "      <td>-1.3854</td>\n",
              "      <td>0.58509</td>\n",
              "      <td>0.036501</td>\n",
              "      <td>-0.198460</td>\n",
              "      <td>0.196130</td>\n",
              "      <td>0.409290</td>\n",
              "      <td>0.157020</td>\n",
              "      <td>-0.153050</td>\n",
              "      <td>0.050447</td>\n",
              "      <td>0.300450</td>\n",
              "      <td>-0.112950</td>\n",
              "      <td>-0.017043</td>\n",
              "      <td>0.18593</td>\n",
              "      <td>0.199820</td>\n",
              "      <td>0.200530</td>\n",
              "      <td>-0.631410</td>\n",
              "      <td>-0.126220</td>\n",
              "      <td>0.295100</td>\n",
              "      <td>-0.262820</td>\n",
              "      <td>-0.158310</td>\n",
              "      <td>0.001238</td>\n",
              "      <td>0.011784</td>\n",
              "      <td>0.587580</td>\n",
              "      <td>-0.15914</td>\n",
              "      <td>0.277310</td>\n",
              "      <td>-0.82343</td>\n",
              "      <td>-0.211340</td>\n",
              "      <td>0.013414</td>\n",
              "      <td>0.196370</td>\n",
              "      <td>-0.414700</td>\n",
              "      <td>0.001028</td>\n",
              "      <td>...</td>\n",
              "      <td>-0.063187</td>\n",
              "      <td>-0.245530</td>\n",
              "      <td>-0.059751</td>\n",
              "      <td>0.068787</td>\n",
              "      <td>-0.116270</td>\n",
              "      <td>-0.008340</td>\n",
              "      <td>0.005204</td>\n",
              "      <td>-0.201590</td>\n",
              "      <td>-0.023663</td>\n",
              "      <td>0.175620</td>\n",
              "      <td>-0.314750</td>\n",
              "      <td>-0.111620</td>\n",
              "      <td>-0.124920</td>\n",
              "      <td>0.10949</td>\n",
              "      <td>-0.26913</td>\n",
              "      <td>0.348930</td>\n",
              "      <td>-1.6997</td>\n",
              "      <td>-0.244700</td>\n",
              "      <td>0.30292</td>\n",
              "      <td>0.056720</td>\n",
              "      <td>-0.317370</td>\n",
              "      <td>0.083612</td>\n",
              "      <td>0.095949</td>\n",
              "      <td>-0.17590</td>\n",
              "      <td>0.102350</td>\n",
              "      <td>0.36808</td>\n",
              "      <td>-0.343800</td>\n",
              "      <td>0.206070</td>\n",
              "      <td>0.191350</td>\n",
              "      <td>0.109920</td>\n",
              "      <td>0.075968</td>\n",
              "      <td>-0.014359</td>\n",
              "      <td>-0.073794</td>\n",
              "      <td>0.221760</td>\n",
              "      <td>0.146520</td>\n",
              "      <td>0.566860</td>\n",
              "      <td>0.053307</td>\n",
              "      <td>-0.232900</td>\n",
              "      <td>-0.122260</td>\n",
              "      <td>0.354990</td>\n",
              "    </tr>\n",
              "    <tr>\n",
              "      <th>.</th>\n",
              "      <td>-0.125590</td>\n",
              "      <td>0.013630</td>\n",
              "      <td>0.103060</td>\n",
              "      <td>-0.101230</td>\n",
              "      <td>0.098128</td>\n",
              "      <td>0.136270</td>\n",
              "      <td>-0.107210</td>\n",
              "      <td>0.236970</td>\n",
              "      <td>0.328700</td>\n",
              "      <td>-1.6785</td>\n",
              "      <td>0.22393</td>\n",
              "      <td>0.124090</td>\n",
              "      <td>-0.086708</td>\n",
              "      <td>0.330100</td>\n",
              "      <td>0.343750</td>\n",
              "      <td>-0.000876</td>\n",
              "      <td>-0.296580</td>\n",
              "      <td>0.244170</td>\n",
              "      <td>-0.115920</td>\n",
              "      <td>-0.035742</td>\n",
              "      <td>-0.010830</td>\n",
              "      <td>0.20776</td>\n",
              "      <td>0.292850</td>\n",
              "      <td>-0.073491</td>\n",
              "      <td>-0.185980</td>\n",
              "      <td>-0.200900</td>\n",
              "      <td>-0.095366</td>\n",
              "      <td>0.006373</td>\n",
              "      <td>-0.136200</td>\n",
              "      <td>0.092028</td>\n",
              "      <td>-0.039957</td>\n",
              "      <td>0.190270</td>\n",
              "      <td>-0.10456</td>\n",
              "      <td>0.002767</td>\n",
              "      <td>-0.71742</td>\n",
              "      <td>-0.129150</td>\n",
              "      <td>-0.001345</td>\n",
              "      <td>0.270020</td>\n",
              "      <td>-0.053023</td>\n",
              "      <td>0.221480</td>\n",
              "      <td>...</td>\n",
              "      <td>-0.136670</td>\n",
              "      <td>-0.439620</td>\n",
              "      <td>0.237040</td>\n",
              "      <td>0.031296</td>\n",
              "      <td>0.074701</td>\n",
              "      <td>-0.223870</td>\n",
              "      <td>0.007816</td>\n",
              "      <td>-0.190160</td>\n",
              "      <td>0.044444</td>\n",
              "      <td>0.201910</td>\n",
              "      <td>-0.208140</td>\n",
              "      <td>-0.283820</td>\n",
              "      <td>0.104270</td>\n",
              "      <td>-0.21098</td>\n",
              "      <td>0.18865</td>\n",
              "      <td>0.316590</td>\n",
              "      <td>-2.0753</td>\n",
              "      <td>-0.071045</td>\n",
              "      <td>0.52419</td>\n",
              "      <td>0.056023</td>\n",
              "      <td>-0.252950</td>\n",
              "      <td>-0.062168</td>\n",
              "      <td>-0.109890</td>\n",
              "      <td>-0.35755</td>\n",
              "      <td>-0.079244</td>\n",
              "      <td>0.37472</td>\n",
              "      <td>-0.283530</td>\n",
              "      <td>0.163370</td>\n",
              "      <td>0.111650</td>\n",
              "      <td>-0.098002</td>\n",
              "      <td>0.060148</td>\n",
              "      <td>-0.156190</td>\n",
              "      <td>-0.119490</td>\n",
              "      <td>0.234450</td>\n",
              "      <td>0.081367</td>\n",
              "      <td>0.246180</td>\n",
              "      <td>-0.152420</td>\n",
              "      <td>-0.342240</td>\n",
              "      <td>-0.022394</td>\n",
              "      <td>0.136840</td>\n",
              "    </tr>\n",
              "    <tr>\n",
              "      <th>of</th>\n",
              "      <td>-0.076947</td>\n",
              "      <td>-0.021211</td>\n",
              "      <td>0.212710</td>\n",
              "      <td>-0.722320</td>\n",
              "      <td>-0.139880</td>\n",
              "      <td>-0.122340</td>\n",
              "      <td>-0.175210</td>\n",
              "      <td>0.121370</td>\n",
              "      <td>-0.070866</td>\n",
              "      <td>-1.5721</td>\n",
              "      <td>-0.22464</td>\n",
              "      <td>0.042690</td>\n",
              "      <td>-0.401800</td>\n",
              "      <td>0.210060</td>\n",
              "      <td>0.014288</td>\n",
              "      <td>0.416280</td>\n",
              "      <td>0.017165</td>\n",
              "      <td>0.071732</td>\n",
              "      <td>0.006925</td>\n",
              "      <td>0.181070</td>\n",
              "      <td>-0.154120</td>\n",
              "      <td>0.14933</td>\n",
              "      <td>-0.030493</td>\n",
              "      <td>0.299180</td>\n",
              "      <td>0.029479</td>\n",
              "      <td>-0.036147</td>\n",
              "      <td>-0.061125</td>\n",
              "      <td>0.083918</td>\n",
              "      <td>-0.123980</td>\n",
              "      <td>-0.100770</td>\n",
              "      <td>-0.005414</td>\n",
              "      <td>0.337100</td>\n",
              "      <td>-0.25612</td>\n",
              "      <td>0.443880</td>\n",
              "      <td>-0.68922</td>\n",
              "      <td>0.180200</td>\n",
              "      <td>0.348980</td>\n",
              "      <td>-0.052284</td>\n",
              "      <td>-0.262260</td>\n",
              "      <td>-0.471090</td>\n",
              "      <td>...</td>\n",
              "      <td>0.467280</td>\n",
              "      <td>0.482140</td>\n",
              "      <td>0.105480</td>\n",
              "      <td>0.065805</td>\n",
              "      <td>0.067221</td>\n",
              "      <td>0.133210</td>\n",
              "      <td>-0.278560</td>\n",
              "      <td>0.015532</td>\n",
              "      <td>0.300260</td>\n",
              "      <td>0.387480</td>\n",
              "      <td>-0.144010</td>\n",
              "      <td>-0.161310</td>\n",
              "      <td>0.176780</td>\n",
              "      <td>0.16448</td>\n",
              "      <td>-0.32440</td>\n",
              "      <td>0.007937</td>\n",
              "      <td>-2.2836</td>\n",
              "      <td>0.096945</td>\n",
              "      <td>0.66131</td>\n",
              "      <td>0.168570</td>\n",
              "      <td>-0.028877</td>\n",
              "      <td>-0.107910</td>\n",
              "      <td>-0.027445</td>\n",
              "      <td>-0.25695</td>\n",
              "      <td>0.046686</td>\n",
              "      <td>0.23087</td>\n",
              "      <td>-0.076458</td>\n",
              "      <td>0.271270</td>\n",
              "      <td>0.251850</td>\n",
              "      <td>0.054947</td>\n",
              "      <td>-0.366730</td>\n",
              "      <td>-0.386030</td>\n",
              "      <td>0.302900</td>\n",
              "      <td>0.015747</td>\n",
              "      <td>0.340360</td>\n",
              "      <td>0.478410</td>\n",
              "      <td>0.068617</td>\n",
              "      <td>0.183510</td>\n",
              "      <td>-0.291830</td>\n",
              "      <td>-0.046533</td>\n",
              "    </tr>\n",
              "    <tr>\n",
              "      <th>to</th>\n",
              "      <td>-0.257560</td>\n",
              "      <td>-0.057132</td>\n",
              "      <td>-0.671900</td>\n",
              "      <td>-0.380820</td>\n",
              "      <td>-0.364210</td>\n",
              "      <td>-0.082155</td>\n",
              "      <td>-0.010955</td>\n",
              "      <td>-0.082047</td>\n",
              "      <td>0.460560</td>\n",
              "      <td>-1.8477</td>\n",
              "      <td>-0.11258</td>\n",
              "      <td>-0.129550</td>\n",
              "      <td>0.272540</td>\n",
              "      <td>0.007289</td>\n",
              "      <td>0.260380</td>\n",
              "      <td>0.120960</td>\n",
              "      <td>-0.231930</td>\n",
              "      <td>0.032260</td>\n",
              "      <td>-0.294720</td>\n",
              "      <td>-0.675940</td>\n",
              "      <td>-0.338440</td>\n",
              "      <td>-0.23297</td>\n",
              "      <td>0.110200</td>\n",
              "      <td>0.188160</td>\n",
              "      <td>-0.451840</td>\n",
              "      <td>-0.338330</td>\n",
              "      <td>0.112740</td>\n",
              "      <td>0.494900</td>\n",
              "      <td>-0.042132</td>\n",
              "      <td>0.079961</td>\n",
              "      <td>-0.013146</td>\n",
              "      <td>0.062284</td>\n",
              "      <td>0.20223</td>\n",
              "      <td>0.038279</td>\n",
              "      <td>-1.11540</td>\n",
              "      <td>-0.121400</td>\n",
              "      <td>0.089846</td>\n",
              "      <td>0.297020</td>\n",
              "      <td>-0.055794</td>\n",
              "      <td>-0.460210</td>\n",
              "      <td>...</td>\n",
              "      <td>0.327080</td>\n",
              "      <td>-0.520490</td>\n",
              "      <td>0.037555</td>\n",
              "      <td>0.023667</td>\n",
              "      <td>-0.068237</td>\n",
              "      <td>-0.229160</td>\n",
              "      <td>0.017755</td>\n",
              "      <td>-0.183940</td>\n",
              "      <td>0.551070</td>\n",
              "      <td>-0.239650</td>\n",
              "      <td>0.391870</td>\n",
              "      <td>-0.017785</td>\n",
              "      <td>0.431130</td>\n",
              "      <td>0.27181</td>\n",
              "      <td>-0.16043</td>\n",
              "      <td>-0.347000</td>\n",
              "      <td>-2.4194</td>\n",
              "      <td>-0.028952</td>\n",
              "      <td>0.95085</td>\n",
              "      <td>0.058040</td>\n",
              "      <td>-0.236230</td>\n",
              "      <td>0.189140</td>\n",
              "      <td>0.311920</td>\n",
              "      <td>0.23064</td>\n",
              "      <td>-0.303090</td>\n",
              "      <td>-0.18603</td>\n",
              "      <td>0.076180</td>\n",
              "      <td>0.373370</td>\n",
              "      <td>-0.144440</td>\n",
              "      <td>-0.028793</td>\n",
              "      <td>-0.012806</td>\n",
              "      <td>-0.597070</td>\n",
              "      <td>0.317340</td>\n",
              "      <td>-0.252670</td>\n",
              "      <td>0.543840</td>\n",
              "      <td>0.063007</td>\n",
              "      <td>-0.049795</td>\n",
              "      <td>-0.160430</td>\n",
              "      <td>0.046744</td>\n",
              "      <td>-0.070621</td>\n",
              "    </tr>\n",
              "  </tbody>\n",
              "</table>\n",
              "<p>5 rows × 300 columns</p>\n",
              "</div>"
            ],
            "text/plain": [
              "          1         2         3    ...       298       299       300\n",
              "0                                  ...                              \n",
              "the  0.046560  0.213180 -0.007436  ...  0.009061 -0.209890  0.053913\n",
              ",   -0.255390 -0.257230  0.131690  ... -0.232900 -0.122260  0.354990\n",
              ".   -0.125590  0.013630  0.103060  ... -0.342240 -0.022394  0.136840\n",
              "of  -0.076947 -0.021211  0.212710  ...  0.183510 -0.291830 -0.046533\n",
              "to  -0.257560 -0.057132 -0.671900  ... -0.160430  0.046744 -0.070621\n",
              "\n",
              "[5 rows x 300 columns]"
            ]
          },
          "metadata": {
            "tags": []
          },
          "execution_count": 47
        }
      ]
    },
    {
      "cell_type": "code",
      "metadata": {
        "id": "tcSykE6gcAuq",
        "colab_type": "code",
        "colab": {}
      },
      "source": [
        "glove_mat = glove_df.values\n",
        "glove_keys = {k:v for k,v in zip(glove_df.index, range(glove_df.shape[0]))}\n",
        "idx2word = {v:k for k,v in glove_keys.items()}"
      ],
      "execution_count": 0,
      "outputs": []
    },
    {
      "cell_type": "code",
      "metadata": {
        "id": "WHqTCnIkcUeD",
        "colab_type": "code",
        "colab": {}
      },
      "source": [
        "del glove_df"
      ],
      "execution_count": 0,
      "outputs": []
    },
    {
      "cell_type": "code",
      "metadata": {
        "id": "LD0YSKYNcWEU",
        "colab_type": "code",
        "colab": {
          "base_uri": "https://localhost:8080/",
          "height": 1000
        },
        "outputId": "8abfea8b-a9dc-4442-dc09-38a0306226e5"
      },
      "source": [
        "%%time\n",
        "glove_mat[glove_keys['queen']]"
      ],
      "execution_count": 50,
      "outputs": [
        {
          "output_type": "stream",
          "text": [
            "CPU times: user 18 µs, sys: 0 ns, total: 18 µs\n",
            "Wall time: 22.6 µs\n"
          ],
          "name": "stdout"
        },
        {
          "output_type": "execute_result",
          "data": {
            "text/plain": [
              "array([-2.2184e-01,  6.4884e-02, -8.6365e-02,  5.1279e-01,  3.2543e-01,\n",
              "       -1.2934e-01,  8.3160e-02,  9.1629e-02, -3.0858e-01, -9.4149e-01,\n",
              "       -8.8608e-02, -1.0847e-01,  2.1129e-01,  7.0052e-01,  2.6751e-01,\n",
              "       -4.0477e-02,  1.7364e-01, -3.0757e-01, -5.2120e-02, -1.7512e-01,\n",
              "       -8.4090e-01,  1.9205e-01, -1.3806e-01,  3.8520e-01,  2.7247e-01,\n",
              "       -1.7401e-01, -4.6626e-01, -2.4944e-02,  9.6500e-02,  3.0107e-01,\n",
              "        1.8020e-01, -6.8892e-02, -2.0452e-01,  3.5746e-01, -2.8313e-01,\n",
              "        2.8063e-01, -1.1503e-02,  1.0674e-01, -2.4369e-01, -1.7907e-01,\n",
              "       -1.3202e-01, -1.7021e-01, -5.9409e-01,  9.5749e-01,  2.0384e-01,\n",
              "       -4.2887e-02,  6.0685e-01, -6.8825e-02,  5.2273e-01, -5.4755e-01,\n",
              "       -5.4525e-01,  4.3453e-01,  4.4516e-01, -2.5659e-02, -1.1531e-01,\n",
              "       -1.8587e-01,  3.6080e-01, -2.5104e-01,  7.2084e-01, -5.8240e-02,\n",
              "        3.4400e-01,  4.7188e-01,  2.0461e-01,  6.9993e-01,  4.8738e-01,\n",
              "       -9.0267e-01, -1.0382e-01,  1.2704e-01, -4.1078e-01,  4.0384e-01,\n",
              "        9.6410e-02,  3.3173e-01,  7.0018e-02, -1.9735e-01,  1.5903e-01,\n",
              "        9.7236e-02,  5.5790e-01, -5.4857e-01,  9.1887e-02,  2.3397e-01,\n",
              "        3.9486e-01, -1.0993e-01,  1.0648e-01, -2.5844e-01,  5.5624e-01,\n",
              "       -5.3970e-01,  1.0160e-01, -3.3093e-02,  1.0949e-01, -4.4593e-01,\n",
              "        2.2759e-01, -4.2394e-01,  7.9741e-02, -4.3659e-01, -2.0300e-01,\n",
              "       -4.2155e-01,  5.2501e-01, -1.3325e-01, -4.7647e-02, -5.5514e-01,\n",
              "        2.7313e-01, -3.6058e-01,  3.9217e-01,  6.3712e-02,  1.9537e-01,\n",
              "        4.2702e-01,  5.9883e-02,  1.0991e-01,  4.9734e-02,  2.8878e-01,\n",
              "        2.8826e-01,  6.8495e-01,  4.1031e-01, -2.5327e-01,  5.9437e-02,\n",
              "       -1.7610e-01,  8.5954e-02,  1.6996e-01, -8.3400e-02, -5.7049e-01,\n",
              "       -7.1907e-01,  7.0347e-01, -3.7878e-01, -4.7651e-01, -9.7319e-02,\n",
              "        1.4046e-01, -1.8743e-02, -1.4805e-01,  4.8686e-01,  4.4781e-01,\n",
              "        5.7390e-01,  5.4020e-01, -1.3905e-01, -1.4129e-01,  1.9411e-01,\n",
              "       -8.7851e-03, -2.3293e-01,  5.1349e-02, -4.2881e-01,  5.8398e-01,\n",
              "        2.0918e-01,  7.5124e-01, -6.6115e-01, -1.5127e-01,  2.0170e-01,\n",
              "       -5.4020e-01,  4.1303e-01,  3.6115e-01, -3.8199e-01, -3.8997e-01,\n",
              "        1.5415e-01, -2.1134e-01, -5.6198e-01,  5.1930e-01,  2.2430e-01,\n",
              "        5.5390e-01,  5.7824e-02, -4.3428e-01,  8.7064e-02, -5.5141e-01,\n",
              "        5.8216e-01,  8.2845e-01,  5.0565e-01,  1.4649e-01, -3.6045e-01,\n",
              "        8.2490e-01, -2.5254e-01,  6.6615e-01,  3.2949e-01,  3.8154e-01,\n",
              "       -5.1031e-01,  9.0783e-01, -6.7226e-02, -6.2108e-01, -2.2863e-01,\n",
              "        3.0936e-01, -2.1678e-01, -8.6860e-02, -2.7449e-01,  2.1552e-01,\n",
              "       -1.7032e-01,  3.6406e-01,  3.9852e-01, -1.6566e-01,  4.3411e-01,\n",
              "       -4.0548e-01, -1.9907e-01,  5.3835e-01, -3.2752e-01, -7.6328e-01,\n",
              "       -4.2558e-01, -1.0101e-01, -3.4878e-01, -7.1560e-01, -5.3603e-02,\n",
              "        5.1620e-01,  5.3542e-02, -5.1026e-01, -1.8184e-01, -3.6726e-01,\n",
              "        1.8552e+00, -5.6669e-01, -2.9214e-01,  2.7065e-01,  5.1873e-01,\n",
              "       -6.2641e-01,  4.3802e-01,  4.2792e-02,  3.2292e-01, -1.9796e-01,\n",
              "       -1.5116e-01, -1.2337e-01,  1.6066e-01, -2.7202e-01, -1.2558e-01,\n",
              "       -2.0355e-01, -1.3273e-02, -9.0037e-01, -3.6197e-02, -4.4949e-01,\n",
              "        5.0578e-02, -2.2396e-01,  2.8727e-01,  4.4153e-01, -8.0729e-01,\n",
              "        1.0861e-01, -8.0332e-04,  6.4491e-02,  1.1235e-02,  5.3375e-01,\n",
              "       -5.8540e-01,  3.4119e-01, -6.8075e-02,  1.0167e-01,  4.0207e-02,\n",
              "        3.3076e-01,  1.0610e-01,  3.8180e-01, -3.2353e-02,  6.5516e-02,\n",
              "       -3.2452e-01,  5.8150e-01,  4.7800e-01,  2.6177e-01, -2.2771e-01,\n",
              "        4.5153e-01, -4.2122e-01, -5.9730e-01,  2.8305e-01,  4.7875e-01,\n",
              "       -1.9059e-01,  1.5642e-01,  2.2882e-01, -3.1700e-01,  6.0575e-01,\n",
              "       -4.3283e-01,  3.3706e-01, -1.7907e-01,  5.0241e-01, -7.7599e-01,\n",
              "        8.3968e-02, -6.0968e-01,  9.5526e-02,  7.2448e-01, -1.7796e-01,\n",
              "        5.6241e-02, -2.9491e-01, -6.9536e-01,  4.9126e-01,  5.1395e-02,\n",
              "        5.1029e-01, -4.2161e-01,  4.2673e-01, -2.8271e-01,  1.0129e-02,\n",
              "        1.7145e-01, -9.2244e-01, -3.1237e-01,  2.4198e-01, -2.3070e-01,\n",
              "        1.6144e-01,  3.6125e-01, -1.4644e-01, -2.0540e-01, -8.6869e-01,\n",
              "        2.2820e-01, -2.9150e-01,  5.0015e-01, -1.5411e-01, -3.3083e-01,\n",
              "        6.9766e-01, -2.8740e-01, -5.0032e-01,  1.1975e-01, -1.7529e-01,\n",
              "       -3.1923e-01,  1.9985e-01,  2.5230e-01,  1.7340e-01,  6.3594e-01])"
            ]
          },
          "metadata": {
            "tags": []
          },
          "execution_count": 50
        }
      ]
    },
    {
      "cell_type": "code",
      "metadata": {
        "id": "oGZnnHz4cYwp",
        "colab_type": "code",
        "colab": {}
      },
      "source": [
        "from sklearn.decomposition import PCA\n",
        "from sklearn.preprocessing import StandardScaler\n",
        "from sklearn.pipeline import Pipeline"
      ],
      "execution_count": 0,
      "outputs": []
    },
    {
      "cell_type": "code",
      "metadata": {
        "id": "cUDtdeN_cmZT",
        "colab_type": "code",
        "colab": {
          "base_uri": "https://localhost:8080/",
          "height": 207
        },
        "outputId": "d0771bd0-ec17-4fcc-f87b-8ae5b90a6d47"
      },
      "source": [
        "!pip install annoy"
      ],
      "execution_count": 54,
      "outputs": [
        {
          "output_type": "stream",
          "text": [
            "Collecting annoy\n",
            "\u001b[?25l  Downloading https://files.pythonhosted.org/packages/03/4d/5bfeb440265e5b1ae77388d67ea453403bbab1a6fb9b53cdfd3d76b5c320/annoy-1.16.0.tar.gz (636kB)\n",
            "\r\u001b[K     |▌                               | 10kB 13.8MB/s eta 0:00:01\r\u001b[K     |█                               | 20kB 1.8MB/s eta 0:00:01\r\u001b[K     |█▌                              | 30kB 2.6MB/s eta 0:00:01\r\u001b[K     |██                              | 40kB 1.7MB/s eta 0:00:01\r\u001b[K     |██▋                             | 51kB 2.1MB/s eta 0:00:01\r\u001b[K     |███                             | 61kB 2.5MB/s eta 0:00:01\r\u001b[K     |███▋                            | 71kB 2.9MB/s eta 0:00:01\r\u001b[K     |████▏                           | 81kB 3.3MB/s eta 0:00:01\r\u001b[K     |████▋                           | 92kB 3.7MB/s eta 0:00:01\r\u001b[K     |█████▏                          | 102kB 2.8MB/s eta 0:00:01\r\u001b[K     |█████▋                          | 112kB 2.8MB/s eta 0:00:01\r\u001b[K     |██████▏                         | 122kB 2.8MB/s eta 0:00:01\r\u001b[K     |██████▊                         | 133kB 2.8MB/s eta 0:00:01\r\u001b[K     |███████▏                        | 143kB 2.8MB/s eta 0:00:01\r\u001b[K     |███████▊                        | 153kB 2.8MB/s eta 0:00:01\r\u001b[K     |████████▎                       | 163kB 2.8MB/s eta 0:00:01\r\u001b[K     |████████▊                       | 174kB 2.8MB/s eta 0:00:01\r\u001b[K     |█████████▎                      | 184kB 2.8MB/s eta 0:00:01\r\u001b[K     |█████████▊                      | 194kB 2.8MB/s eta 0:00:01\r\u001b[K     |██████████▎                     | 204kB 2.8MB/s eta 0:00:01\r\u001b[K     |██████████▉                     | 215kB 2.8MB/s eta 0:00:01\r\u001b[K     |███████████▎                    | 225kB 2.8MB/s eta 0:00:01\r\u001b[K     |███████████▉                    | 235kB 2.8MB/s eta 0:00:01\r\u001b[K     |████████████▍                   | 245kB 2.8MB/s eta 0:00:01\r\u001b[K     |████████████▉                   | 256kB 2.8MB/s eta 0:00:01\r\u001b[K     |█████████████▍                  | 266kB 2.8MB/s eta 0:00:01\r\u001b[K     |██████████████                  | 276kB 2.8MB/s eta 0:00:01\r\u001b[K     |██████████████▍                 | 286kB 2.8MB/s eta 0:00:01\r\u001b[K     |███████████████                 | 296kB 2.8MB/s eta 0:00:01\r\u001b[K     |███████████████▍                | 307kB 2.8MB/s eta 0:00:01\r\u001b[K     |████████████████                | 317kB 2.8MB/s eta 0:00:01\r\u001b[K     |████████████████▌               | 327kB 2.8MB/s eta 0:00:01\r\u001b[K     |█████████████████               | 337kB 2.8MB/s eta 0:00:01\r\u001b[K     |█████████████████▌              | 348kB 2.8MB/s eta 0:00:01\r\u001b[K     |██████████████████              | 358kB 2.8MB/s eta 0:00:01\r\u001b[K     |██████████████████▌             | 368kB 2.8MB/s eta 0:00:01\r\u001b[K     |███████████████████             | 378kB 2.8MB/s eta 0:00:01\r\u001b[K     |███████████████████▌            | 389kB 2.8MB/s eta 0:00:01\r\u001b[K     |████████████████████            | 399kB 2.8MB/s eta 0:00:01\r\u001b[K     |████████████████████▋           | 409kB 2.8MB/s eta 0:00:01\r\u001b[K     |█████████████████████           | 419kB 2.8MB/s eta 0:00:01\r\u001b[K     |█████████████████████▋          | 430kB 2.8MB/s eta 0:00:01\r\u001b[K     |██████████████████████▏         | 440kB 2.8MB/s eta 0:00:01\r\u001b[K     |██████████████████████▋         | 450kB 2.8MB/s eta 0:00:01\r\u001b[K     |███████████████████████▏        | 460kB 2.8MB/s eta 0:00:01\r\u001b[K     |███████████████████████▊        | 471kB 2.8MB/s eta 0:00:01\r\u001b[K     |████████████████████████▏       | 481kB 2.8MB/s eta 0:00:01\r\u001b[K     |████████████████████████▊       | 491kB 2.8MB/s eta 0:00:01\r\u001b[K     |█████████████████████████▏      | 501kB 2.8MB/s eta 0:00:01\r\u001b[K     |█████████████████████████▊      | 512kB 2.8MB/s eta 0:00:01\r\u001b[K     |██████████████████████████▎     | 522kB 2.8MB/s eta 0:00:01\r\u001b[K     |██████████████████████████▊     | 532kB 2.8MB/s eta 0:00:01\r\u001b[K     |███████████████████████████▎    | 542kB 2.8MB/s eta 0:00:01\r\u001b[K     |███████████████████████████▉    | 552kB 2.8MB/s eta 0:00:01\r\u001b[K     |████████████████████████████▎   | 563kB 2.8MB/s eta 0:00:01\r\u001b[K     |████████████████████████████▉   | 573kB 2.8MB/s eta 0:00:01\r\u001b[K     |█████████████████████████████▎  | 583kB 2.8MB/s eta 0:00:01\r\u001b[K     |█████████████████████████████▉  | 593kB 2.8MB/s eta 0:00:01\r\u001b[K     |██████████████████████████████▍ | 604kB 2.8MB/s eta 0:00:01\r\u001b[K     |██████████████████████████████▉ | 614kB 2.8MB/s eta 0:00:01\r\u001b[K     |███████████████████████████████▍| 624kB 2.8MB/s eta 0:00:01\r\u001b[K     |████████████████████████████████| 634kB 2.8MB/s eta 0:00:01\r\u001b[K     |████████████████████████████████| 645kB 2.8MB/s \n",
            "\u001b[?25hBuilding wheels for collected packages: annoy\n",
            "  Building wheel for annoy (setup.py) ... \u001b[?25l\u001b[?25hdone\n",
            "  Created wheel for annoy: filename=annoy-1.16.0-cp36-cp36m-linux_x86_64.whl size=309742 sha256=7bf843634e4cf276e21155663d8a5fdb75257b62178c8985f41b5e70e91844bd\n",
            "  Stored in directory: /root/.cache/pip/wheels/39/34/9c/8d8eb3abce9375bade7b42bca387700b5f3aa18414d27272f0\n",
            "Successfully built annoy\n",
            "Installing collected packages: annoy\n",
            "Successfully installed annoy-1.16.0\n"
          ],
          "name": "stdout"
        }
      ]
    },
    {
      "cell_type": "code",
      "metadata": {
        "id": "laymPX57lojA",
        "colab_type": "code",
        "colab": {}
      },
      "source": [
        "import spacy"
      ],
      "execution_count": 0,
      "outputs": []
    },
    {
      "cell_type": "code",
      "metadata": {
        "id": "S8cJ28w0pvd3",
        "colab_type": "code",
        "colab": {}
      },
      "source": [
        "from spacy.lang.en import English"
      ],
      "execution_count": 0,
      "outputs": []
    },
    {
      "cell_type": "code",
      "metadata": {
        "id": "wApeUwRaqlG-",
        "colab_type": "code",
        "colab": {}
      },
      "source": [
        "nlp = spacy.load(\"en_core_web_sm\")"
      ],
      "execution_count": 0,
      "outputs": []
    },
    {
      "cell_type": "code",
      "metadata": {
        "id": "8nwmaXIqqfLn",
        "colab_type": "code",
        "colab": {}
      },
      "source": [
        "doc = nlp(\"I like tree kangaroos and narwhals.\")"
      ],
      "execution_count": 0,
      "outputs": []
    },
    {
      "cell_type": "code",
      "metadata": {
        "id": "M8NaKWnLqilv",
        "colab_type": "code",
        "colab": {
          "base_uri": "https://localhost:8080/",
          "height": 34
        },
        "outputId": "c1a44669-6d4d-4f79-fc30-42d4ffb4fe53"
      },
      "source": [
        "list(doc)"
      ],
      "execution_count": 61,
      "outputs": [
        {
          "output_type": "execute_result",
          "data": {
            "text/plain": [
              "[I, like, tree, kangaroos, and, narwhals, .]"
            ]
          },
          "metadata": {
            "tags": []
          },
          "execution_count": 61
        }
      ]
    },
    {
      "cell_type": "code",
      "metadata": {
        "id": "wD39WlOiqnKt",
        "colab_type": "code",
        "colab": {
          "base_uri": "https://localhost:8080/",
          "height": 34
        },
        "outputId": "0181edc3-8c27-4482-82cc-10805a465957"
      },
      "source": [
        "!pwd"
      ],
      "execution_count": 62,
      "outputs": [
        {
          "output_type": "stream",
          "text": [
            "/content/glove\n"
          ],
          "name": "stdout"
        }
      ]
    },
    {
      "cell_type": "code",
      "metadata": {
        "id": "9RjZxgimrC15",
        "colab_type": "code",
        "colab": {
          "base_uri": "https://localhost:8080/",
          "height": 204
        },
        "outputId": "9fd1f872-b449-489c-fa6e-2b36ec0e3037"
      },
      "source": [
        "!wget https://s3.amazonaws.com/fast-ai-nlp/yelp_review_polarity_csv.tgz"
      ],
      "execution_count": 64,
      "outputs": [
        {
          "output_type": "stream",
          "text": [
            "--2019-08-03 08:50:51--  https://s3.amazonaws.com/fast-ai-nlp/yelp_review_polarity_csv.tgz\n",
            "Resolving s3.amazonaws.com (s3.amazonaws.com)... 52.216.136.37\n",
            "Connecting to s3.amazonaws.com (s3.amazonaws.com)|52.216.136.37|:443... connected.\n",
            "HTTP request sent, awaiting response... 200 OK\n",
            "Length: 166373201 (159M) [application/x-tar]\n",
            "Saving to: ‘yelp_review_polarity_csv.tgz’\n",
            "\n",
            "yelp_review_polarit 100%[===================>] 158.67M  49.2MB/s    in 3.5s    \n",
            "\n",
            "2019-08-03 08:50:55 (45.2 MB/s) - ‘yelp_review_polarity_csv.tgz’ saved [166373201/166373201]\n",
            "\n"
          ],
          "name": "stdout"
        }
      ]
    },
    {
      "cell_type": "code",
      "metadata": {
        "id": "cwrApsEjrHjO",
        "colab_type": "code",
        "colab": {
          "base_uri": "https://localhost:8080/",
          "height": 85
        },
        "outputId": "b8ef8829-b1ff-4c14-8a8f-069263f29db4"
      },
      "source": [
        "!tar xvfz yelp_review_polarity_csv.tgz"
      ],
      "execution_count": 65,
      "outputs": [
        {
          "output_type": "stream",
          "text": [
            "yelp_review_polarity_csv/\n",
            "yelp_review_polarity_csv/train.csv\n",
            "yelp_review_polarity_csv/readme.txt\n",
            "yelp_review_polarity_csv/test.csv\n"
          ],
          "name": "stdout"
        }
      ]
    },
    {
      "cell_type": "code",
      "metadata": {
        "id": "QLoOiVuUrQQX",
        "colab_type": "code",
        "colab": {
          "base_uri": "https://localhost:8080/",
          "height": 34
        },
        "outputId": "8728c0d3-101c-4680-a600-bf1591469185"
      },
      "source": [
        "%cd .."
      ],
      "execution_count": 66,
      "outputs": [
        {
          "output_type": "stream",
          "text": [
            "/content\n"
          ],
          "name": "stdout"
        }
      ]
    },
    {
      "cell_type": "code",
      "metadata": {
        "id": "sBXvwSKBsgh4",
        "colab_type": "code",
        "colab": {
          "base_uri": "https://localhost:8080/",
          "height": 34
        },
        "outputId": "04fb015e-fd02-4914-d936-fa9d1ee4e1cb"
      },
      "source": [
        "!pwd"
      ],
      "execution_count": 67,
      "outputs": [
        {
          "output_type": "stream",
          "text": [
            "/content\n"
          ],
          "name": "stdout"
        }
      ]
    },
    {
      "cell_type": "code",
      "metadata": {
        "id": "ErglIIgmshPE",
        "colab_type": "code",
        "colab": {
          "base_uri": "https://localhost:8080/",
          "height": 34
        },
        "outputId": "456992c8-7b13-4fec-a4a6-35de9802d791"
      },
      "source": [
        "!ls"
      ],
      "execution_count": 68,
      "outputs": [
        {
          "output_type": "stream",
          "text": [
            "glove  sample_data\n"
          ],
          "name": "stdout"
        }
      ]
    },
    {
      "cell_type": "code",
      "metadata": {
        "id": "4pRonBmMsi4Y",
        "colab_type": "code",
        "colab": {}
      },
      "source": [
        "!mv glove deep-nlu-data"
      ],
      "execution_count": 0,
      "outputs": []
    },
    {
      "cell_type": "code",
      "metadata": {
        "id": "up0flJpnsvBi",
        "colab_type": "code",
        "colab": {}
      },
      "source": [
        "import torch"
      ],
      "execution_count": 0,
      "outputs": []
    },
    {
      "cell_type": "code",
      "metadata": {
        "id": "EBAkHdZqs56G",
        "colab_type": "code",
        "colab": {
          "base_uri": "https://localhost:8080/",
          "height": 34
        },
        "outputId": "36bcb720-65aa-4fc0-88d5-13e77731d3ea"
      },
      "source": [
        "torch.__version__"
      ],
      "execution_count": 71,
      "outputs": [
        {
          "output_type": "execute_result",
          "data": {
            "text/plain": [
              "'1.1.0'"
            ]
          },
          "metadata": {
            "tags": []
          },
          "execution_count": 71
        }
      ]
    },
    {
      "cell_type": "code",
      "metadata": {
        "id": "yRTzEMlZs7cV",
        "colab_type": "code",
        "colab": {
          "base_uri": "https://localhost:8080/",
          "height": 34
        },
        "outputId": "5841ee27-6e3b-4bc4-b8ac-3cc6333f6e10"
      },
      "source": [
        "%cd deep-nlu-data/yelp_review_polarity_csv/"
      ],
      "execution_count": 72,
      "outputs": [
        {
          "output_type": "stream",
          "text": [
            "/content/deep-nlu-data/yelp_review_polarity_csv\n"
          ],
          "name": "stdout"
        }
      ]
    },
    {
      "cell_type": "code",
      "metadata": {
        "id": "TRWB74gJtsMy",
        "colab_type": "code",
        "colab": {}
      },
      "source": [
        "train_df = pd.read_csv(\"./train.csv\", header=None)"
      ],
      "execution_count": 0,
      "outputs": []
    },
    {
      "cell_type": "code",
      "metadata": {
        "id": "gByZqQbxtwjP",
        "colab_type": "code",
        "colab": {
          "base_uri": "https://localhost:8080/",
          "height": 34
        },
        "outputId": "9b6831d0-642b-4011-dd62-a0414595dd9c"
      },
      "source": [
        "train_df.shape"
      ],
      "execution_count": 78,
      "outputs": [
        {
          "output_type": "execute_result",
          "data": {
            "text/plain": [
              "(560000, 2)"
            ]
          },
          "metadata": {
            "tags": []
          },
          "execution_count": 78
        }
      ]
    },
    {
      "cell_type": "code",
      "metadata": {
        "id": "uKcritDBur9R",
        "colab_type": "code",
        "colab": {
          "base_uri": "https://localhost:8080/",
          "height": 204
        },
        "outputId": "ff09726f-c40e-42d5-ccb7-0d29ac64058e"
      },
      "source": [
        "train_df.head()"
      ],
      "execution_count": 81,
      "outputs": [
        {
          "output_type": "execute_result",
          "data": {
            "text/html": [
              "<div>\n",
              "<style scoped>\n",
              "    .dataframe tbody tr th:only-of-type {\n",
              "        vertical-align: middle;\n",
              "    }\n",
              "\n",
              "    .dataframe tbody tr th {\n",
              "        vertical-align: top;\n",
              "    }\n",
              "\n",
              "    .dataframe thead th {\n",
              "        text-align: right;\n",
              "    }\n",
              "</style>\n",
              "<table border=\"1\" class=\"dataframe\">\n",
              "  <thead>\n",
              "    <tr style=\"text-align: right;\">\n",
              "      <th></th>\n",
              "      <th>rating</th>\n",
              "      <th>review</th>\n",
              "    </tr>\n",
              "  </thead>\n",
              "  <tbody>\n",
              "    <tr>\n",
              "      <th>0</th>\n",
              "      <td>1</td>\n",
              "      <td>Unfortunately, the frustration of being Dr. Go...</td>\n",
              "    </tr>\n",
              "    <tr>\n",
              "      <th>1</th>\n",
              "      <td>2</td>\n",
              "      <td>Been going to Dr. Goldberg for over 10 years. ...</td>\n",
              "    </tr>\n",
              "    <tr>\n",
              "      <th>2</th>\n",
              "      <td>1</td>\n",
              "      <td>I don't know what Dr. Goldberg was like before...</td>\n",
              "    </tr>\n",
              "    <tr>\n",
              "      <th>3</th>\n",
              "      <td>1</td>\n",
              "      <td>I'm writing this review to give you a heads up...</td>\n",
              "    </tr>\n",
              "    <tr>\n",
              "      <th>4</th>\n",
              "      <td>2</td>\n",
              "      <td>All the food is great here. But the best thing...</td>\n",
              "    </tr>\n",
              "  </tbody>\n",
              "</table>\n",
              "</div>"
            ],
            "text/plain": [
              "   rating                                             review\n",
              "0       1  Unfortunately, the frustration of being Dr. Go...\n",
              "1       2  Been going to Dr. Goldberg for over 10 years. ...\n",
              "2       1  I don't know what Dr. Goldberg was like before...\n",
              "3       1  I'm writing this review to give you a heads up...\n",
              "4       2  All the food is great here. But the best thing..."
            ]
          },
          "metadata": {
            "tags": []
          },
          "execution_count": 81
        }
      ]
    },
    {
      "cell_type": "code",
      "metadata": {
        "id": "9babxfUYxRMS",
        "colab_type": "code",
        "colab": {}
      },
      "source": [
        "train_df.rename(columns={0:'rating',1:'review'}, inplace=True)"
      ],
      "execution_count": 0,
      "outputs": []
    },
    {
      "cell_type": "code",
      "metadata": {
        "id": "E6IjSfyzynUo",
        "colab_type": "code",
        "colab": {
          "base_uri": "https://localhost:8080/",
          "height": 68
        },
        "outputId": "a11e9803-bea3-4689-abfa-2fb955c3e35b"
      },
      "source": [
        "train_df.rating.value_counts(normalize=True)"
      ],
      "execution_count": 85,
      "outputs": [
        {
          "output_type": "execute_result",
          "data": {
            "text/plain": [
              "2    0.5\n",
              "1    0.5\n",
              "Name: rating, dtype: float64"
            ]
          },
          "metadata": {
            "tags": []
          },
          "execution_count": 85
        }
      ]
    },
    {
      "cell_type": "code",
      "metadata": {
        "id": "peryY3BFyN-w",
        "colab_type": "code",
        "colab": {}
      },
      "source": [
        "yelp_df = train_df.sample(n=100000)"
      ],
      "execution_count": 0,
      "outputs": []
    },
    {
      "cell_type": "code",
      "metadata": {
        "id": "o_Wp7sb5xjV9",
        "colab_type": "code",
        "colab": {
          "base_uri": "https://localhost:8080/",
          "height": 34
        },
        "outputId": "2cfb470f-78bd-41f1-f713-47f5ec1bab9f"
      },
      "source": [
        "yelp_df.shape"
      ],
      "execution_count": 83,
      "outputs": [
        {
          "output_type": "execute_result",
          "data": {
            "text/plain": [
              "(100000, 2)"
            ]
          },
          "metadata": {
            "tags": []
          },
          "execution_count": 83
        }
      ]
    },
    {
      "cell_type": "code",
      "metadata": {
        "id": "WJVyiyFhyh7j",
        "colab_type": "code",
        "colab": {
          "base_uri": "https://localhost:8080/",
          "height": 68
        },
        "outputId": "691a2932-5a1b-4bf8-b4e6-0a25a5e13555"
      },
      "source": [
        "yelp_df.rating.value_counts(normalize=True)"
      ],
      "execution_count": 84,
      "outputs": [
        {
          "output_type": "execute_result",
          "data": {
            "text/plain": [
              "1    0.50005\n",
              "2    0.49995\n",
              "Name: rating, dtype: float64"
            ]
          },
          "metadata": {
            "tags": []
          },
          "execution_count": 84
        }
      ]
    },
    {
      "cell_type": "code",
      "metadata": {
        "id": "WJ7gf0h8ylza",
        "colab_type": "code",
        "colab": {
          "base_uri": "https://localhost:8080/",
          "height": 34
        },
        "outputId": "04bc0f5f-9630-4fae-a28d-b960a4683490"
      },
      "source": [
        "train_df.review.str.contains(\" not \").sum()"
      ],
      "execution_count": 87,
      "outputs": [
        {
          "output_type": "execute_result",
          "data": {
            "text/plain": [
              "235008"
            ]
          },
          "metadata": {
            "tags": []
          },
          "execution_count": 87
        }
      ]
    },
    {
      "cell_type": "code",
      "metadata": {
        "id": "-tUhB08S0g9A",
        "colab_type": "code",
        "colab": {}
      },
      "source": [
        "from collections import Counter"
      ],
      "execution_count": 0,
      "outputs": []
    },
    {
      "cell_type": "code",
      "metadata": {
        "id": "QvyCea4A3ITI",
        "colab_type": "code",
        "colab": {}
      },
      "source": [
        "vocab = Counter()"
      ],
      "execution_count": 0,
      "outputs": []
    },
    {
      "cell_type": "code",
      "metadata": {
        "id": "GWrGze7q2yqp",
        "colab_type": "code",
        "colab": {
          "base_uri": "https://localhost:8080/",
          "height": 511
        },
        "outputId": "5eef128b-61da-4bd3-e451-89165d06a783"
      },
      "source": [
        "for idx,row in train_df.iterrows():\n",
        "  doc = nlp(row.review)\n",
        "  vocab.update([token.text.lower() for token in doc])"
      ],
      "execution_count": 115,
      "outputs": [
        {
          "output_type": "error",
          "ename": "KeyboardInterrupt",
          "evalue": "ignored",
          "traceback": [
            "\u001b[0;31m---------------------------------------------------------------------------\u001b[0m",
            "\u001b[0;31mKeyboardInterrupt\u001b[0m                         Traceback (most recent call last)",
            "\u001b[0;32m<ipython-input-115-52039b6bd3ed>\u001b[0m in \u001b[0;36m<module>\u001b[0;34m()\u001b[0m\n\u001b[1;32m      1\u001b[0m \u001b[0;32mfor\u001b[0m \u001b[0midx\u001b[0m\u001b[0;34m,\u001b[0m\u001b[0mrow\u001b[0m \u001b[0;32min\u001b[0m \u001b[0mtrain_df\u001b[0m\u001b[0;34m.\u001b[0m\u001b[0miterrows\u001b[0m\u001b[0;34m(\u001b[0m\u001b[0;34m)\u001b[0m\u001b[0;34m:\u001b[0m\u001b[0;34m\u001b[0m\u001b[0;34m\u001b[0m\u001b[0m\n\u001b[0;32m----> 2\u001b[0;31m   \u001b[0mdoc\u001b[0m \u001b[0;34m=\u001b[0m \u001b[0mnlp\u001b[0m\u001b[0;34m(\u001b[0m\u001b[0mrow\u001b[0m\u001b[0;34m.\u001b[0m\u001b[0mreview\u001b[0m\u001b[0;34m)\u001b[0m\u001b[0;34m\u001b[0m\u001b[0;34m\u001b[0m\u001b[0m\n\u001b[0m\u001b[1;32m      3\u001b[0m   \u001b[0mvocab\u001b[0m\u001b[0;34m.\u001b[0m\u001b[0mupdate\u001b[0m\u001b[0;34m(\u001b[0m\u001b[0;34m[\u001b[0m\u001b[0mtoken\u001b[0m\u001b[0;34m.\u001b[0m\u001b[0mtext\u001b[0m\u001b[0;34m.\u001b[0m\u001b[0mlower\u001b[0m\u001b[0;34m(\u001b[0m\u001b[0;34m)\u001b[0m \u001b[0;32mfor\u001b[0m \u001b[0mtoken\u001b[0m \u001b[0;32min\u001b[0m \u001b[0mdoc\u001b[0m\u001b[0;34m]\u001b[0m\u001b[0;34m)\u001b[0m\u001b[0;34m\u001b[0m\u001b[0;34m\u001b[0m\u001b[0m\n",
            "\u001b[0;32m/usr/local/lib/python3.6/dist-packages/spacy/language.py\u001b[0m in \u001b[0;36m__call__\u001b[0;34m(self, text, disable, component_cfg)\u001b[0m\n\u001b[1;32m    393\u001b[0m             \u001b[0;32mif\u001b[0m \u001b[0;32mnot\u001b[0m \u001b[0mhasattr\u001b[0m\u001b[0;34m(\u001b[0m\u001b[0mproc\u001b[0m\u001b[0;34m,\u001b[0m \u001b[0;34m\"__call__\"\u001b[0m\u001b[0;34m)\u001b[0m\u001b[0;34m:\u001b[0m\u001b[0;34m\u001b[0m\u001b[0;34m\u001b[0m\u001b[0m\n\u001b[1;32m    394\u001b[0m                 \u001b[0;32mraise\u001b[0m \u001b[0mValueError\u001b[0m\u001b[0;34m(\u001b[0m\u001b[0mErrors\u001b[0m\u001b[0;34m.\u001b[0m\u001b[0mE003\u001b[0m\u001b[0;34m.\u001b[0m\u001b[0mformat\u001b[0m\u001b[0;34m(\u001b[0m\u001b[0mcomponent\u001b[0m\u001b[0;34m=\u001b[0m\u001b[0mtype\u001b[0m\u001b[0;34m(\u001b[0m\u001b[0mproc\u001b[0m\u001b[0;34m)\u001b[0m\u001b[0;34m,\u001b[0m \u001b[0mname\u001b[0m\u001b[0;34m=\u001b[0m\u001b[0mname\u001b[0m\u001b[0;34m)\u001b[0m\u001b[0;34m)\u001b[0m\u001b[0;34m\u001b[0m\u001b[0;34m\u001b[0m\u001b[0m\n\u001b[0;32m--> 395\u001b[0;31m             \u001b[0mdoc\u001b[0m \u001b[0;34m=\u001b[0m \u001b[0mproc\u001b[0m\u001b[0;34m(\u001b[0m\u001b[0mdoc\u001b[0m\u001b[0;34m,\u001b[0m \u001b[0;34m**\u001b[0m\u001b[0mcomponent_cfg\u001b[0m\u001b[0;34m.\u001b[0m\u001b[0mget\u001b[0m\u001b[0;34m(\u001b[0m\u001b[0mname\u001b[0m\u001b[0;34m,\u001b[0m \u001b[0;34m{\u001b[0m\u001b[0;34m}\u001b[0m\u001b[0;34m)\u001b[0m\u001b[0;34m)\u001b[0m\u001b[0;34m\u001b[0m\u001b[0;34m\u001b[0m\u001b[0m\n\u001b[0m\u001b[1;32m    396\u001b[0m             \u001b[0;32mif\u001b[0m \u001b[0mdoc\u001b[0m \u001b[0;32mis\u001b[0m \u001b[0;32mNone\u001b[0m\u001b[0;34m:\u001b[0m\u001b[0;34m\u001b[0m\u001b[0;34m\u001b[0m\u001b[0m\n\u001b[1;32m    397\u001b[0m                 \u001b[0;32mraise\u001b[0m \u001b[0mValueError\u001b[0m\u001b[0;34m(\u001b[0m\u001b[0mErrors\u001b[0m\u001b[0;34m.\u001b[0m\u001b[0mE005\u001b[0m\u001b[0;34m.\u001b[0m\u001b[0mformat\u001b[0m\u001b[0;34m(\u001b[0m\u001b[0mname\u001b[0m\u001b[0;34m=\u001b[0m\u001b[0mname\u001b[0m\u001b[0;34m)\u001b[0m\u001b[0;34m)\u001b[0m\u001b[0;34m\u001b[0m\u001b[0;34m\u001b[0m\u001b[0m\n",
            "\u001b[0;32mnn_parser.pyx\u001b[0m in \u001b[0;36mspacy.syntax.nn_parser.Parser.__call__\u001b[0;34m()\u001b[0m\n",
            "\u001b[0;32mnn_parser.pyx\u001b[0m in \u001b[0;36mspacy.syntax.nn_parser.Parser.predict\u001b[0;34m()\u001b[0m\n",
            "\u001b[0;32mnn_parser.pyx\u001b[0m in \u001b[0;36mspacy.syntax.nn_parser.Parser.greedy_parse\u001b[0;34m()\u001b[0m\n",
            "\u001b[0;32m/usr/local/lib/python3.6/dist-packages/thinc/neural/_classes/model.py\u001b[0m in \u001b[0;36m__call__\u001b[0;34m(self, x)\u001b[0m\n\u001b[1;32m    167\u001b[0m             \u001b[0mMust\u001b[0m \u001b[0mmatch\u001b[0m \u001b[0mexpected\u001b[0m \u001b[0mshape\u001b[0m\u001b[0;34m\u001b[0m\u001b[0;34m\u001b[0m\u001b[0m\n\u001b[1;32m    168\u001b[0m         \"\"\"\n\u001b[0;32m--> 169\u001b[0;31m         \u001b[0;32mreturn\u001b[0m \u001b[0mself\u001b[0m\u001b[0;34m.\u001b[0m\u001b[0mpredict\u001b[0m\u001b[0;34m(\u001b[0m\u001b[0mx\u001b[0m\u001b[0;34m)\u001b[0m\u001b[0;34m\u001b[0m\u001b[0;34m\u001b[0m\u001b[0m\n\u001b[0m\u001b[1;32m    170\u001b[0m \u001b[0;34m\u001b[0m\u001b[0m\n\u001b[1;32m    171\u001b[0m     \u001b[0;32mdef\u001b[0m \u001b[0mpipe\u001b[0m\u001b[0;34m(\u001b[0m\u001b[0mself\u001b[0m\u001b[0;34m,\u001b[0m \u001b[0mstream\u001b[0m\u001b[0;34m,\u001b[0m \u001b[0mbatch_size\u001b[0m\u001b[0;34m=\u001b[0m\u001b[0;36m128\u001b[0m\u001b[0;34m)\u001b[0m\u001b[0;34m:\u001b[0m\u001b[0;34m\u001b[0m\u001b[0;34m\u001b[0m\u001b[0m\n",
            "\u001b[0;32m/usr/local/lib/python3.6/dist-packages/thinc/neural/_classes/model.py\u001b[0m in \u001b[0;36mpredict\u001b[0;34m(self, X)\u001b[0m\n\u001b[1;32m    131\u001b[0m \u001b[0;34m\u001b[0m\u001b[0m\n\u001b[1;32m    132\u001b[0m     \u001b[0;32mdef\u001b[0m \u001b[0mpredict\u001b[0m\u001b[0;34m(\u001b[0m\u001b[0mself\u001b[0m\u001b[0;34m,\u001b[0m \u001b[0mX\u001b[0m\u001b[0;34m)\u001b[0m\u001b[0;34m:\u001b[0m\u001b[0;34m\u001b[0m\u001b[0;34m\u001b[0m\u001b[0m\n\u001b[0;32m--> 133\u001b[0;31m         \u001b[0my\u001b[0m\u001b[0;34m,\u001b[0m \u001b[0m_\u001b[0m \u001b[0;34m=\u001b[0m \u001b[0mself\u001b[0m\u001b[0;34m.\u001b[0m\u001b[0mbegin_update\u001b[0m\u001b[0;34m(\u001b[0m\u001b[0mX\u001b[0m\u001b[0;34m,\u001b[0m \u001b[0mdrop\u001b[0m\u001b[0;34m=\u001b[0m\u001b[0;32mNone\u001b[0m\u001b[0;34m)\u001b[0m\u001b[0;34m\u001b[0m\u001b[0;34m\u001b[0m\u001b[0m\n\u001b[0m\u001b[1;32m    134\u001b[0m         \u001b[0;32mreturn\u001b[0m \u001b[0my\u001b[0m\u001b[0;34m\u001b[0m\u001b[0;34m\u001b[0m\u001b[0m\n\u001b[1;32m    135\u001b[0m \u001b[0;34m\u001b[0m\u001b[0m\n",
            "\u001b[0;32m_parser_model.pyx\u001b[0m in \u001b[0;36mspacy.syntax._parser_model.ParserModel.begin_update\u001b[0;34m()\u001b[0m\n",
            "\u001b[0;32m_parser_model.pyx\u001b[0m in \u001b[0;36mspacy.syntax._parser_model.ParserStepModel.__init__\u001b[0;34m()\u001b[0m\n",
            "\u001b[0;32m/usr/local/lib/python3.6/dist-packages/thinc/neural/_classes/feed_forward.py\u001b[0m in \u001b[0;36mbegin_update\u001b[0;34m(self, X, drop)\u001b[0m\n\u001b[1;32m     44\u001b[0m         \u001b[0mcallbacks\u001b[0m \u001b[0;34m=\u001b[0m \u001b[0;34m[\u001b[0m\u001b[0;34m]\u001b[0m\u001b[0;34m\u001b[0m\u001b[0;34m\u001b[0m\u001b[0m\n\u001b[1;32m     45\u001b[0m         \u001b[0;32mfor\u001b[0m \u001b[0mlayer\u001b[0m \u001b[0;32min\u001b[0m \u001b[0mself\u001b[0m\u001b[0;34m.\u001b[0m\u001b[0m_layers\u001b[0m\u001b[0;34m:\u001b[0m\u001b[0;34m\u001b[0m\u001b[0;34m\u001b[0m\u001b[0m\n\u001b[0;32m---> 46\u001b[0;31m             \u001b[0mX\u001b[0m\u001b[0;34m,\u001b[0m \u001b[0minc_layer_grad\u001b[0m \u001b[0;34m=\u001b[0m \u001b[0mlayer\u001b[0m\u001b[0;34m.\u001b[0m\u001b[0mbegin_update\u001b[0m\u001b[0;34m(\u001b[0m\u001b[0mX\u001b[0m\u001b[0;34m,\u001b[0m \u001b[0mdrop\u001b[0m\u001b[0;34m=\u001b[0m\u001b[0mdrop\u001b[0m\u001b[0;34m)\u001b[0m\u001b[0;34m\u001b[0m\u001b[0;34m\u001b[0m\u001b[0m\n\u001b[0m\u001b[1;32m     47\u001b[0m             \u001b[0mcallbacks\u001b[0m\u001b[0;34m.\u001b[0m\u001b[0mappend\u001b[0m\u001b[0;34m(\u001b[0m\u001b[0minc_layer_grad\u001b[0m\u001b[0;34m)\u001b[0m\u001b[0;34m\u001b[0m\u001b[0;34m\u001b[0m\u001b[0m\n\u001b[1;32m     48\u001b[0m \u001b[0;34m\u001b[0m\u001b[0m\n",
            "\u001b[0;32m/usr/local/lib/python3.6/dist-packages/thinc/api.py\u001b[0m in \u001b[0;36mbegin_update\u001b[0;34m(seqs_in, drop)\u001b[0m\n\u001b[1;32m    293\u001b[0m     \u001b[0;32mdef\u001b[0m \u001b[0mbegin_update\u001b[0m\u001b[0;34m(\u001b[0m\u001b[0mseqs_in\u001b[0m\u001b[0;34m,\u001b[0m \u001b[0mdrop\u001b[0m\u001b[0;34m=\u001b[0m\u001b[0;36m0.0\u001b[0m\u001b[0;34m)\u001b[0m\u001b[0;34m:\u001b[0m\u001b[0;34m\u001b[0m\u001b[0;34m\u001b[0m\u001b[0m\n\u001b[1;32m    294\u001b[0m         \u001b[0mlengths\u001b[0m \u001b[0;34m=\u001b[0m \u001b[0mlayer\u001b[0m\u001b[0;34m.\u001b[0m\u001b[0mops\u001b[0m\u001b[0;34m.\u001b[0m\u001b[0masarray\u001b[0m\u001b[0;34m(\u001b[0m\u001b[0;34m[\u001b[0m\u001b[0mlen\u001b[0m\u001b[0;34m(\u001b[0m\u001b[0mseq\u001b[0m\u001b[0;34m)\u001b[0m \u001b[0;32mfor\u001b[0m \u001b[0mseq\u001b[0m \u001b[0;32min\u001b[0m \u001b[0mseqs_in\u001b[0m\u001b[0;34m]\u001b[0m\u001b[0;34m)\u001b[0m\u001b[0;34m\u001b[0m\u001b[0;34m\u001b[0m\u001b[0m\n\u001b[0;32m--> 295\u001b[0;31m         \u001b[0mX\u001b[0m\u001b[0;34m,\u001b[0m \u001b[0mbp_layer\u001b[0m \u001b[0;34m=\u001b[0m \u001b[0mlayer\u001b[0m\u001b[0;34m.\u001b[0m\u001b[0mbegin_update\u001b[0m\u001b[0;34m(\u001b[0m\u001b[0mlayer\u001b[0m\u001b[0;34m.\u001b[0m\u001b[0mops\u001b[0m\u001b[0;34m.\u001b[0m\u001b[0mflatten\u001b[0m\u001b[0;34m(\u001b[0m\u001b[0mseqs_in\u001b[0m\u001b[0;34m,\u001b[0m \u001b[0mpad\u001b[0m\u001b[0;34m=\u001b[0m\u001b[0mpad\u001b[0m\u001b[0;34m)\u001b[0m\u001b[0;34m,\u001b[0m \u001b[0mdrop\u001b[0m\u001b[0;34m=\u001b[0m\u001b[0mdrop\u001b[0m\u001b[0;34m)\u001b[0m\u001b[0;34m\u001b[0m\u001b[0;34m\u001b[0m\u001b[0m\n\u001b[0m\u001b[1;32m    296\u001b[0m         \u001b[0;32mif\u001b[0m \u001b[0mbp_layer\u001b[0m \u001b[0;32mis\u001b[0m \u001b[0;32mNone\u001b[0m\u001b[0;34m:\u001b[0m\u001b[0;34m\u001b[0m\u001b[0;34m\u001b[0m\u001b[0m\n\u001b[1;32m    297\u001b[0m             \u001b[0;32mreturn\u001b[0m \u001b[0mlayer\u001b[0m\u001b[0;34m.\u001b[0m\u001b[0mops\u001b[0m\u001b[0;34m.\u001b[0m\u001b[0munflatten\u001b[0m\u001b[0;34m(\u001b[0m\u001b[0mX\u001b[0m\u001b[0;34m,\u001b[0m \u001b[0mlengths\u001b[0m\u001b[0;34m,\u001b[0m \u001b[0mpad\u001b[0m\u001b[0;34m=\u001b[0m\u001b[0mpad\u001b[0m\u001b[0;34m)\u001b[0m\u001b[0;34m,\u001b[0m \u001b[0;32mNone\u001b[0m\u001b[0;34m\u001b[0m\u001b[0;34m\u001b[0m\u001b[0m\n",
            "\u001b[0;32m/usr/local/lib/python3.6/dist-packages/thinc/neural/_classes/feed_forward.py\u001b[0m in \u001b[0;36mbegin_update\u001b[0;34m(self, X, drop)\u001b[0m\n\u001b[1;32m     44\u001b[0m         \u001b[0mcallbacks\u001b[0m \u001b[0;34m=\u001b[0m \u001b[0;34m[\u001b[0m\u001b[0;34m]\u001b[0m\u001b[0;34m\u001b[0m\u001b[0;34m\u001b[0m\u001b[0m\n\u001b[1;32m     45\u001b[0m         \u001b[0;32mfor\u001b[0m \u001b[0mlayer\u001b[0m \u001b[0;32min\u001b[0m \u001b[0mself\u001b[0m\u001b[0;34m.\u001b[0m\u001b[0m_layers\u001b[0m\u001b[0;34m:\u001b[0m\u001b[0;34m\u001b[0m\u001b[0;34m\u001b[0m\u001b[0m\n\u001b[0;32m---> 46\u001b[0;31m             \u001b[0mX\u001b[0m\u001b[0;34m,\u001b[0m \u001b[0minc_layer_grad\u001b[0m \u001b[0;34m=\u001b[0m \u001b[0mlayer\u001b[0m\u001b[0;34m.\u001b[0m\u001b[0mbegin_update\u001b[0m\u001b[0;34m(\u001b[0m\u001b[0mX\u001b[0m\u001b[0;34m,\u001b[0m \u001b[0mdrop\u001b[0m\u001b[0;34m=\u001b[0m\u001b[0mdrop\u001b[0m\u001b[0;34m)\u001b[0m\u001b[0;34m\u001b[0m\u001b[0;34m\u001b[0m\u001b[0m\n\u001b[0m\u001b[1;32m     47\u001b[0m             \u001b[0mcallbacks\u001b[0m\u001b[0;34m.\u001b[0m\u001b[0mappend\u001b[0m\u001b[0;34m(\u001b[0m\u001b[0minc_layer_grad\u001b[0m\u001b[0;34m)\u001b[0m\u001b[0;34m\u001b[0m\u001b[0;34m\u001b[0m\u001b[0m\n\u001b[1;32m     48\u001b[0m \u001b[0;34m\u001b[0m\u001b[0m\n",
            "\u001b[0;32m/usr/local/lib/python3.6/dist-packages/thinc/neural/_classes/resnet.py\u001b[0m in \u001b[0;36mbegin_update\u001b[0;34m(self, X, drop)\u001b[0m\n\u001b[1;32m     23\u001b[0m \u001b[0;34m\u001b[0m\u001b[0m\n\u001b[1;32m     24\u001b[0m     \u001b[0;32mdef\u001b[0m \u001b[0mbegin_update\u001b[0m\u001b[0;34m(\u001b[0m\u001b[0mself\u001b[0m\u001b[0;34m,\u001b[0m \u001b[0mX\u001b[0m\u001b[0;34m,\u001b[0m \u001b[0mdrop\u001b[0m\u001b[0;34m=\u001b[0m\u001b[0;36m0.0\u001b[0m\u001b[0;34m)\u001b[0m\u001b[0;34m:\u001b[0m\u001b[0;34m\u001b[0m\u001b[0;34m\u001b[0m\u001b[0m\n\u001b[0;32m---> 25\u001b[0;31m         \u001b[0my\u001b[0m\u001b[0;34m,\u001b[0m \u001b[0mbp_y\u001b[0m \u001b[0;34m=\u001b[0m \u001b[0mself\u001b[0m\u001b[0;34m.\u001b[0m\u001b[0m_layers\u001b[0m\u001b[0;34m[\u001b[0m\u001b[0;36m0\u001b[0m\u001b[0;34m]\u001b[0m\u001b[0;34m.\u001b[0m\u001b[0mbegin_update\u001b[0m\u001b[0;34m(\u001b[0m\u001b[0mX\u001b[0m\u001b[0;34m,\u001b[0m \u001b[0mdrop\u001b[0m\u001b[0;34m=\u001b[0m\u001b[0mdrop\u001b[0m\u001b[0;34m)\u001b[0m\u001b[0;34m\u001b[0m\u001b[0;34m\u001b[0m\u001b[0m\n\u001b[0m\u001b[1;32m     26\u001b[0m         \u001b[0;32mif\u001b[0m \u001b[0misinstance\u001b[0m\u001b[0;34m(\u001b[0m\u001b[0mX\u001b[0m\u001b[0;34m,\u001b[0m \u001b[0mlist\u001b[0m\u001b[0;34m)\u001b[0m\u001b[0;34m:\u001b[0m\u001b[0;34m\u001b[0m\u001b[0;34m\u001b[0m\u001b[0m\n\u001b[1;32m     27\u001b[0m             \u001b[0moutput\u001b[0m \u001b[0;34m=\u001b[0m \u001b[0;34m[\u001b[0m\u001b[0mX\u001b[0m\u001b[0;34m[\u001b[0m\u001b[0mi\u001b[0m\u001b[0;34m]\u001b[0m \u001b[0;34m+\u001b[0m \u001b[0my\u001b[0m\u001b[0;34m[\u001b[0m\u001b[0mi\u001b[0m\u001b[0;34m]\u001b[0m \u001b[0;32mfor\u001b[0m \u001b[0mi\u001b[0m \u001b[0;32min\u001b[0m \u001b[0mrange\u001b[0m\u001b[0;34m(\u001b[0m\u001b[0mlen\u001b[0m\u001b[0;34m(\u001b[0m\u001b[0mX\u001b[0m\u001b[0;34m)\u001b[0m\u001b[0;34m)\u001b[0m\u001b[0;34m]\u001b[0m\u001b[0;34m\u001b[0m\u001b[0;34m\u001b[0m\u001b[0m\n",
            "\u001b[0;32m/usr/local/lib/python3.6/dist-packages/thinc/neural/_classes/feed_forward.py\u001b[0m in \u001b[0;36mbegin_update\u001b[0;34m(self, X, drop)\u001b[0m\n\u001b[1;32m     44\u001b[0m         \u001b[0mcallbacks\u001b[0m \u001b[0;34m=\u001b[0m \u001b[0;34m[\u001b[0m\u001b[0;34m]\u001b[0m\u001b[0;34m\u001b[0m\u001b[0;34m\u001b[0m\u001b[0m\n\u001b[1;32m     45\u001b[0m         \u001b[0;32mfor\u001b[0m \u001b[0mlayer\u001b[0m \u001b[0;32min\u001b[0m \u001b[0mself\u001b[0m\u001b[0;34m.\u001b[0m\u001b[0m_layers\u001b[0m\u001b[0;34m:\u001b[0m\u001b[0;34m\u001b[0m\u001b[0;34m\u001b[0m\u001b[0m\n\u001b[0;32m---> 46\u001b[0;31m             \u001b[0mX\u001b[0m\u001b[0;34m,\u001b[0m \u001b[0minc_layer_grad\u001b[0m \u001b[0;34m=\u001b[0m \u001b[0mlayer\u001b[0m\u001b[0;34m.\u001b[0m\u001b[0mbegin_update\u001b[0m\u001b[0;34m(\u001b[0m\u001b[0mX\u001b[0m\u001b[0;34m,\u001b[0m \u001b[0mdrop\u001b[0m\u001b[0;34m=\u001b[0m\u001b[0mdrop\u001b[0m\u001b[0;34m)\u001b[0m\u001b[0;34m\u001b[0m\u001b[0;34m\u001b[0m\u001b[0m\n\u001b[0m\u001b[1;32m     47\u001b[0m             \u001b[0mcallbacks\u001b[0m\u001b[0;34m.\u001b[0m\u001b[0mappend\u001b[0m\u001b[0;34m(\u001b[0m\u001b[0minc_layer_grad\u001b[0m\u001b[0;34m)\u001b[0m\u001b[0;34m\u001b[0m\u001b[0;34m\u001b[0m\u001b[0m\n\u001b[1;32m     48\u001b[0m \u001b[0;34m\u001b[0m\u001b[0m\n",
            "\u001b[0;32m/usr/local/lib/python3.6/dist-packages/thinc/neural/_classes/layernorm.py\u001b[0m in \u001b[0;36mbegin_update\u001b[0;34m(self, X, drop)\u001b[0m\n\u001b[1;32m     58\u001b[0m     \u001b[0;32mdef\u001b[0m \u001b[0mbegin_update\u001b[0m\u001b[0;34m(\u001b[0m\u001b[0mself\u001b[0m\u001b[0;34m,\u001b[0m \u001b[0mX\u001b[0m\u001b[0;34m,\u001b[0m \u001b[0mdrop\u001b[0m\u001b[0;34m=\u001b[0m\u001b[0;36m0.0\u001b[0m\u001b[0;34m)\u001b[0m\u001b[0;34m:\u001b[0m\u001b[0;34m\u001b[0m\u001b[0;34m\u001b[0m\u001b[0m\n\u001b[1;32m     59\u001b[0m         \u001b[0;32mif\u001b[0m \u001b[0mself\u001b[0m\u001b[0;34m.\u001b[0m\u001b[0mchild\u001b[0m \u001b[0;32mis\u001b[0m \u001b[0;32mnot\u001b[0m \u001b[0;32mNone\u001b[0m\u001b[0;34m:\u001b[0m\u001b[0;34m\u001b[0m\u001b[0;34m\u001b[0m\u001b[0m\n\u001b[0;32m---> 60\u001b[0;31m             \u001b[0mX\u001b[0m\u001b[0;34m,\u001b[0m \u001b[0mbackprop_child\u001b[0m \u001b[0;34m=\u001b[0m \u001b[0mself\u001b[0m\u001b[0;34m.\u001b[0m\u001b[0mchild\u001b[0m\u001b[0;34m.\u001b[0m\u001b[0mbegin_update\u001b[0m\u001b[0;34m(\u001b[0m\u001b[0mX\u001b[0m\u001b[0;34m,\u001b[0m \u001b[0mdrop\u001b[0m\u001b[0;34m=\u001b[0m\u001b[0;36m0.0\u001b[0m\u001b[0;34m)\u001b[0m\u001b[0;34m\u001b[0m\u001b[0;34m\u001b[0m\u001b[0m\n\u001b[0m\u001b[1;32m     61\u001b[0m         \u001b[0;32melse\u001b[0m\u001b[0;34m:\u001b[0m\u001b[0;34m\u001b[0m\u001b[0;34m\u001b[0m\u001b[0m\n\u001b[1;32m     62\u001b[0m             \u001b[0mbackprop_child\u001b[0m \u001b[0;34m=\u001b[0m \u001b[0;32mNone\u001b[0m\u001b[0;34m\u001b[0m\u001b[0;34m\u001b[0m\u001b[0m\n",
            "\u001b[0;32m/usr/local/lib/python3.6/dist-packages/thinc/neural/_classes/maxout.py\u001b[0m in \u001b[0;36mbegin_update\u001b[0;34m(self, X__bi, drop)\u001b[0m\n\u001b[1;32m     74\u001b[0m         \u001b[0;32mif\u001b[0m \u001b[0mdrop\u001b[0m \u001b[0;32mis\u001b[0m \u001b[0;32mnot\u001b[0m \u001b[0;32mNone\u001b[0m\u001b[0;34m:\u001b[0m\u001b[0;34m\u001b[0m\u001b[0;34m\u001b[0m\u001b[0m\n\u001b[1;32m     75\u001b[0m             \u001b[0mdrop\u001b[0m \u001b[0;34m*=\u001b[0m \u001b[0mself\u001b[0m\u001b[0;34m.\u001b[0m\u001b[0mdrop_factor\u001b[0m\u001b[0;34m\u001b[0m\u001b[0;34m\u001b[0m\u001b[0m\n\u001b[0;32m---> 76\u001b[0;31m         \u001b[0moutput__boc\u001b[0m \u001b[0;34m=\u001b[0m \u001b[0mself\u001b[0m\u001b[0;34m.\u001b[0m\u001b[0mops\u001b[0m\u001b[0;34m.\u001b[0m\u001b[0mgemm\u001b[0m\u001b[0;34m(\u001b[0m\u001b[0mX__bi\u001b[0m\u001b[0;34m,\u001b[0m \u001b[0mW\u001b[0m\u001b[0;34m,\u001b[0m \u001b[0mtrans2\u001b[0m\u001b[0;34m=\u001b[0m\u001b[0;32mTrue\u001b[0m\u001b[0;34m)\u001b[0m\u001b[0;34m\u001b[0m\u001b[0;34m\u001b[0m\u001b[0m\n\u001b[0m\u001b[1;32m     77\u001b[0m         \u001b[0moutput__boc\u001b[0m \u001b[0;34m+=\u001b[0m \u001b[0mself\u001b[0m\u001b[0;34m.\u001b[0m\u001b[0mb\u001b[0m\u001b[0;34m.\u001b[0m\u001b[0mreshape\u001b[0m\u001b[0;34m(\u001b[0m\u001b[0;34m(\u001b[0m\u001b[0mself\u001b[0m\u001b[0;34m.\u001b[0m\u001b[0mnO\u001b[0m \u001b[0;34m*\u001b[0m \u001b[0mself\u001b[0m\u001b[0;34m.\u001b[0m\u001b[0mnP\u001b[0m\u001b[0;34m,\u001b[0m\u001b[0;34m)\u001b[0m\u001b[0;34m)\u001b[0m\u001b[0;34m\u001b[0m\u001b[0;34m\u001b[0m\u001b[0m\n\u001b[1;32m     78\u001b[0m         \u001b[0moutput__boc\u001b[0m \u001b[0;34m=\u001b[0m \u001b[0moutput__boc\u001b[0m\u001b[0;34m.\u001b[0m\u001b[0mreshape\u001b[0m\u001b[0;34m(\u001b[0m\u001b[0;34m(\u001b[0m\u001b[0moutput__boc\u001b[0m\u001b[0;34m.\u001b[0m\u001b[0mshape\u001b[0m\u001b[0;34m[\u001b[0m\u001b[0;36m0\u001b[0m\u001b[0;34m]\u001b[0m\u001b[0;34m,\u001b[0m \u001b[0mself\u001b[0m\u001b[0;34m.\u001b[0m\u001b[0mnO\u001b[0m\u001b[0;34m,\u001b[0m \u001b[0mself\u001b[0m\u001b[0;34m.\u001b[0m\u001b[0mnP\u001b[0m\u001b[0;34m)\u001b[0m\u001b[0;34m)\u001b[0m\u001b[0;34m\u001b[0m\u001b[0;34m\u001b[0m\u001b[0m\n",
            "\u001b[0;31mKeyboardInterrupt\u001b[0m: "
          ]
        }
      ]
    },
    {
      "cell_type": "code",
      "metadata": {
        "id": "1NBT_0TB2626",
        "colab_type": "code",
        "colab": {
          "base_uri": "https://localhost:8080/",
          "height": 1000
        },
        "outputId": "615e9570-a6ca-40ca-e9a8-92526ddbe4e8"
      },
      "source": [
        "vocab.most_common()"
      ],
      "execution_count": 113,
      "outputs": [
        {
          "output_type": "execute_result",
          "data": {
            "text/plain": [
              "[(' ', 14),\n",
              " ('.', 12),\n",
              " ('the', 10),\n",
              " ('with', 10),\n",
              " (',', 8),\n",
              " ('that', 8),\n",
              " ('it', 8),\n",
              " ('have', 8),\n",
              " ('of', 6),\n",
              " (\"'s\", 6),\n",
              " ('to', 6),\n",
              " ('I', 5),\n",
              " ('i', 5),\n",
              " ('is', 4),\n",
              " ('many', 4),\n",
              " ('other', 4),\n",
              " ('doctors', 4),\n",
              " ('staff', 4),\n",
              " ('It', 4),\n",
              " ('phone', 4),\n",
              " ('2', 4),\n",
              " ('get', 4),\n",
              " ('?', 4),\n",
              " ('and', 4),\n",
              " (\"n't\", 4),\n",
              " ('you', 3),\n",
              " ('frustration', 2),\n",
              " ('being', 2),\n",
              " ('Dr.', 2),\n",
              " ('Goldberg', 2),\n",
              " ('patient', 2),\n",
              " ('a', 2),\n",
              " ('repeat', 2),\n",
              " ('experience', 2),\n",
              " (\"'ve\", 2),\n",
              " ('had', 2),\n",
              " ('so', 2),\n",
              " ('in', 2),\n",
              " ('--', 2),\n",
              " ('good', 2),\n",
              " ('doctor', 2),\n",
              " ('terrible', 2),\n",
              " ('seems', 2),\n",
              " ('his', 2),\n",
              " ('simply', 2),\n",
              " ('never', 2),\n",
              " ('answers', 2),\n",
              " ('usually', 2),\n",
              " ('takes', 2),\n",
              " ('hours', 2),\n",
              " ('repeated', 2),\n",
              " ('calling', 2),\n",
              " ('an', 2),\n",
              " ('answer', 2),\n",
              " ('has', 2),\n",
              " ('time', 2),\n",
              " ('for', 2),\n",
              " ('or', 2),\n",
              " ('wants', 2),\n",
              " ('deal', 2),\n",
              " ('run', 2),\n",
              " ('into', 2),\n",
              " ('this', 2),\n",
              " ('problem', 2),\n",
              " ('just', 2),\n",
              " ('do', 2),\n",
              " ('office', 2),\n",
              " ('workers', 2),\n",
              " ('patients', 2),\n",
              " ('medical', 2),\n",
              " ('needs', 2),\n",
              " ('why', 2),\n",
              " ('anyone', 2),\n",
              " ('answering', 2),\n",
              " ('incomprehensible', 2),\n",
              " ('not', 2),\n",
              " ('work', 2),\n",
              " ('aggravation', 2),\n",
              " ('regret', 2),\n",
              " ('feel', 2),\n",
              " ('give', 2),\n",
              " ('stars', 2),\n",
              " ('dr.', 2),\n",
              " ('goldberg', 2),\n",
              " ('Unfortunately', 1),\n",
              " ('NYC', 1),\n",
              " ('Who', 1),\n",
              " ('You', 1),\n",
              " ('unfortunately', 1),\n",
              " ('nyc', 1),\n",
              " ('who', 1)]"
            ]
          },
          "metadata": {
            "tags": []
          },
          "execution_count": 113
        }
      ]
    },
    {
      "cell_type": "code",
      "metadata": {
        "id": "axRlwbRPC5bn",
        "colab_type": "code",
        "colab": {
          "base_uri": "https://localhost:8080/",
          "height": 190
        },
        "outputId": "fd045455-ef38-4b02-ada0-37f934d4fc09"
      },
      "source": [
        "!pip install --upgrade torchtext"
      ],
      "execution_count": 120,
      "outputs": [
        {
          "output_type": "stream",
          "text": [
            "Requirement already up-to-date: torchtext in /usr/local/lib/python3.6/dist-packages (0.3.1)\n",
            "Requirement already satisfied, skipping upgrade: torch in /usr/local/lib/python3.6/dist-packages (from torchtext) (1.1.0)\n",
            "Requirement already satisfied, skipping upgrade: numpy in /usr/local/lib/python3.6/dist-packages (from torchtext) (1.16.4)\n",
            "Requirement already satisfied, skipping upgrade: requests in /usr/local/lib/python3.6/dist-packages (from torchtext) (2.21.0)\n",
            "Requirement already satisfied, skipping upgrade: tqdm in /usr/local/lib/python3.6/dist-packages (from torchtext) (4.28.1)\n",
            "Requirement already satisfied, skipping upgrade: chardet<3.1.0,>=3.0.2 in /usr/local/lib/python3.6/dist-packages (from requests->torchtext) (3.0.4)\n",
            "Requirement already satisfied, skipping upgrade: urllib3<1.25,>=1.21.1 in /usr/local/lib/python3.6/dist-packages (from requests->torchtext) (1.24.3)\n",
            "Requirement already satisfied, skipping upgrade: certifi>=2017.4.17 in /usr/local/lib/python3.6/dist-packages (from requests->torchtext) (2019.6.16)\n",
            "Requirement already satisfied, skipping upgrade: idna<2.9,>=2.5 in /usr/local/lib/python3.6/dist-packages (from requests->torchtext) (2.8)\n"
          ],
          "name": "stdout"
        }
      ]
    },
    {
      "cell_type": "code",
      "metadata": {
        "id": "eacgrpDK5moZ",
        "colab_type": "code",
        "colab": {}
      },
      "source": [
        "import torchtext"
      ],
      "execution_count": 0,
      "outputs": []
    },
    {
      "cell_type": "code",
      "metadata": {
        "id": "_s0al1NuCpDS",
        "colab_type": "code",
        "colab": {}
      },
      "source": [
        "from torchtext.vocab import GloVe"
      ],
      "execution_count": 0,
      "outputs": []
    },
    {
      "cell_type": "code",
      "metadata": {
        "id": "WN-2J1DyQz-G",
        "colab_type": "code",
        "colab": {}
      },
      "source": [
        "import numpy as np"
      ],
      "execution_count": 0,
      "outputs": []
    },
    {
      "cell_type": "code",
      "metadata": {
        "id": "MuTMd_QDDVvt",
        "colab_type": "code",
        "colab": {
          "base_uri": "https://localhost:8080/",
          "height": 34
        },
        "outputId": "752d082e-e290-440d-f580-635e393cda48"
      },
      "source": [
        "GloVe"
      ],
      "execution_count": 125,
      "outputs": [
        {
          "output_type": "execute_result",
          "data": {
            "text/plain": [
              "torchtext.vocab.GloVe"
            ]
          },
          "metadata": {
            "tags": []
          },
          "execution_count": 125
        }
      ]
    },
    {
      "cell_type": "code",
      "metadata": {
        "id": "UVea5mTeL7gO",
        "colab_type": "code",
        "colab": {
          "base_uri": "https://localhost:8080/",
          "height": 51
        },
        "outputId": "3dd2c063-e0ff-490f-ba20-264d5b497556"
      },
      "source": [
        "glove = GloVe(name = '840B', dim = 300)"
      ],
      "execution_count": 6,
      "outputs": [
        {
          "output_type": "stream",
          "text": [
            ".vector_cache/glove.840B.300d.zip: 2.18GB [00:38, 56.3MB/s]                            \n",
            "100%|█████████▉| 2195646/2196017 [03:50<00:00, 10322.60it/s]"
          ],
          "name": "stderr"
        }
      ]
    },
    {
      "cell_type": "code",
      "metadata": {
        "id": "sOuG0K93Nbpu",
        "colab_type": "code",
        "colab": {
          "base_uri": "https://localhost:8080/",
          "height": 68
        },
        "outputId": "b484b987-0080-419c-eaa4-2220f6c34abb"
      },
      "source": [
        "%%time\n",
        "glove.vectors[glove.stoi['queen']].shape"
      ],
      "execution_count": 7,
      "outputs": [
        {
          "output_type": "stream",
          "text": [
            "CPU times: user 67 µs, sys: 5 µs, total: 72 µs\n",
            "Wall time: 77 µs\n"
          ],
          "name": "stdout"
        },
        {
          "output_type": "execute_result",
          "data": {
            "text/plain": [
              "torch.Size([300])"
            ]
          },
          "metadata": {
            "tags": []
          },
          "execution_count": 7
        }
      ]
    },
    {
      "cell_type": "code",
      "metadata": {
        "id": "jX9GuHnsTU28",
        "colab_type": "code",
        "colab": {
          "base_uri": "https://localhost:8080/",
          "height": 34
        },
        "outputId": "e2ae0805-ed81-4aa6-c940-bd445e3d9987"
      },
      "source": [
        "glove.vectors[glove.stoi['queen']].dtype"
      ],
      "execution_count": 10,
      "outputs": [
        {
          "output_type": "execute_result",
          "data": {
            "text/plain": [
              "torch.float32"
            ]
          },
          "metadata": {
            "tags": []
          },
          "execution_count": 10
        }
      ]
    },
    {
      "cell_type": "code",
      "metadata": {
        "id": "BE5qiNs7TMro",
        "colab_type": "code",
        "colab": {}
      },
      "source": [
        "import torch\n",
        "import numpy as np"
      ],
      "execution_count": 0,
      "outputs": []
    },
    {
      "cell_type": "code",
      "metadata": {
        "id": "6D9SajUHTO-3",
        "colab_type": "code",
        "colab": {
          "base_uri": "https://localhost:8080/",
          "height": 34
        },
        "outputId": "cabcd866-79ae-4b73-ecf0-cac679116e07"
      },
      "source": [
        "torch.cuda.is_available()"
      ],
      "execution_count": 9,
      "outputs": [
        {
          "output_type": "execute_result",
          "data": {
            "text/plain": [
              "True"
            ]
          },
          "metadata": {
            "tags": []
          },
          "execution_count": 9
        }
      ]
    },
    {
      "cell_type": "code",
      "metadata": {
        "id": "_rgg5q7BQUzl",
        "colab_type": "code",
        "colab": {}
      },
      "source": [
        "def get_word_vec(word):\n",
        "  assert word in glove.stoi, f\"{word} is OOV!\"\n",
        "  vec = glove.vectors[glove.stoi[word]]\n",
        "  return vec"
      ],
      "execution_count": 0,
      "outputs": []
    },
    {
      "cell_type": "code",
      "metadata": {
        "id": "wJsfbP3BQ15N",
        "colab_type": "code",
        "colab": {}
      },
      "source": [
        "import torch"
      ],
      "execution_count": 0,
      "outputs": []
    },
    {
      "cell_type": "code",
      "metadata": {
        "id": "mefyaV0EXNqV",
        "colab_type": "code",
        "colab": {
          "base_uri": "https://localhost:8080/",
          "height": 68
        },
        "outputId": "30096d67-3971-47bd-bc4b-a9a7a3cc4107"
      },
      "source": [
        "%%time\n",
        "torch.dist(get_word_vec('mother',norm=False), get_word_vec('baby',norm=False))"
      ],
      "execution_count": 19,
      "outputs": [
        {
          "output_type": "stream",
          "text": [
            "CPU times: user 956 µs, sys: 0 ns, total: 956 µs\n",
            "Wall time: 2.76 ms\n"
          ],
          "name": "stdout"
        },
        {
          "output_type": "execute_result",
          "data": {
            "text/plain": [
              "tensor(6.0437)"
            ]
          },
          "metadata": {
            "tags": []
          },
          "execution_count": 19
        }
      ]
    },
    {
      "cell_type": "code",
      "metadata": {
        "id": "WxhQmGjYY43r",
        "colab_type": "code",
        "colab": {}
      },
      "source": [
        "vec1 = torch.tensor([1.,1,0,1,1])\n",
        "vec2 = torch.tensor([0.,1,0,1,1])"
      ],
      "execution_count": 0,
      "outputs": []
    },
    {
      "cell_type": "code",
      "metadata": {
        "id": "wCqzBfreYeRW",
        "colab_type": "code",
        "colab": {
          "base_uri": "https://localhost:8080/",
          "height": 34
        },
        "outputId": "3cc884ac-fd8e-491b-bda8-2c93ea6838af"
      },
      "source": [
        "torch.cosine_similarity(vec1.unsqueeze(0), vec2.unsqueeze(0))"
      ],
      "execution_count": 33,
      "outputs": [
        {
          "output_type": "execute_result",
          "data": {
            "text/plain": [
              "tensor([0.8660])"
            ]
          },
          "metadata": {
            "tags": []
          },
          "execution_count": 33
        }
      ]
    },
    {
      "cell_type": "code",
      "metadata": {
        "id": "SaPV0BNabNji",
        "colab_type": "code",
        "colab": {
          "base_uri": "https://localhost:8080/",
          "height": 34
        },
        "outputId": "722cbbc9-5264-416a-89d1-775b775ab79b"
      },
      "source": [
        "torch.cosine_similarity(get_word_vec('queen').unsqueeze(0),\n",
        "                        get_word_vec('king').unsqueeze(0)\n",
        "                       )"
      ],
      "execution_count": 37,
      "outputs": [
        {
          "output_type": "execute_result",
          "data": {
            "text/plain": [
              "tensor([0.7253])"
            ]
          },
          "metadata": {
            "tags": []
          },
          "execution_count": 37
        }
      ]
    },
    {
      "cell_type": "code",
      "metadata": {
        "id": "T8bw2XVEbdlu",
        "colab_type": "code",
        "colab": {
          "base_uri": "https://localhost:8080/",
          "height": 34
        },
        "outputId": "a9d9479f-be8b-4a07-b9d8-4b0eec49b597"
      },
      "source": [
        "torch.cosine_similarity(get_word_vec('queen',norm=False).unsqueeze(0),\n",
        "                        get_word_vec('king',norm=False).unsqueeze(0)\n",
        "                       )"
      ],
      "execution_count": 35,
      "outputs": [
        {
          "output_type": "execute_result",
          "data": {
            "text/plain": [
              "tensor([0.7253])"
            ]
          },
          "metadata": {
            "tags": []
          },
          "execution_count": 35
        }
      ]
    },
    {
      "cell_type": "code",
      "metadata": {
        "id": "jzvlJrsYcHtW",
        "colab_type": "code",
        "colab": {
          "base_uri": "https://localhost:8080/",
          "height": 34
        },
        "outputId": "4cc1657f-dd05-4c58-bf53-620b6316c3fb"
      },
      "source": [
        "glove.vectors.shape"
      ],
      "execution_count": 40,
      "outputs": [
        {
          "output_type": "execute_result",
          "data": {
            "text/plain": [
              "torch.Size([2196017, 300])"
            ]
          },
          "metadata": {
            "tags": []
          },
          "execution_count": 40
        }
      ]
    },
    {
      "cell_type": "code",
      "metadata": {
        "id": "it_kwet1b6Do",
        "colab_type": "code",
        "colab": {
          "base_uri": "https://localhost:8080/",
          "height": 68
        },
        "outputId": "cc54fc68-89d0-493e-f309-ef7b8633890a"
      },
      "source": [
        "%%time\n",
        "torch.argsort(torch.mv(glove.vectors, get_word_vec('queen')), descending=True)[:3]"
      ],
      "execution_count": 49,
      "outputs": [
        {
          "output_type": "stream",
          "text": [
            "CPU times: user 658 ms, sys: 2.62 ms, total: 661 ms\n",
            "Wall time: 666 ms\n"
          ],
          "name": "stdout"
        },
        {
          "output_type": "execute_result",
          "data": {
            "text/plain": [
              "tensor([ 7613,  3598, 10634])"
            ]
          },
          "metadata": {
            "tags": []
          },
          "execution_count": 49
        }
      ]
    },
    {
      "cell_type": "code",
      "metadata": {
        "id": "ZgNq9XXNdF18",
        "colab_type": "code",
        "colab": {
          "base_uri": "https://localhost:8080/",
          "height": 34
        },
        "outputId": "bcb8310c-4998-42c0-e7cf-dc1fd06d3da3"
      },
      "source": [
        "glove.itos[10634]"
      ],
      "execution_count": 52,
      "outputs": [
        {
          "output_type": "execute_result",
          "data": {
            "text/plain": [
              "'princess'"
            ]
          },
          "metadata": {
            "tags": []
          },
          "execution_count": 52
        }
      ]
    },
    {
      "cell_type": "code",
      "metadata": {
        "id": "RVW9HVQKRr3u",
        "colab_type": "code",
        "colab": {}
      },
      "source": [
        "def get_nearest_neighbours(word_or_vec, n=10):\n",
        "    vec = None\n",
        "    if isinstance(word_or_vec, str):\n",
        "        vec = get_word_vec(word_or_vec)\n",
        "    else:\n",
        "        vec = word_or_vec\n",
        "        \n",
        "    topn =  torch.argsort(torch.mv(glove.vectors, vec), descending=True)[:n]\n",
        "        \n",
        "    return [glove.itos[idx] for idx in topn]"
      ],
      "execution_count": 0,
      "outputs": []
    },
    {
      "cell_type": "code",
      "metadata": {
        "id": "Q6aJz6_URxl1",
        "colab_type": "code",
        "colab": {
          "base_uri": "https://localhost:8080/",
          "height": 187
        },
        "outputId": "52db99be-1dce-4c04-c3e2-0e189288c47b"
      },
      "source": [
        "get_nearest_neighbours('relieable')"
      ],
      "execution_count": 123,
      "outputs": [
        {
          "output_type": "execute_result",
          "data": {
            "text/plain": [
              "['relieable',\n",
              " 'consignor/seller',\n",
              " 'relyable',\n",
              " 'hoseand',\n",
              " 'trusthworthy',\n",
              " 'relaiable',\n",
              " 'relible',\n",
              " 'termpapers',\n",
              " 'stamina.A',\n",
              " 'influensive']"
            ]
          },
          "metadata": {
            "tags": []
          },
          "execution_count": 123
        }
      ]
    },
    {
      "cell_type": "code",
      "metadata": {
        "id": "Vhv5uw5FeDTh",
        "colab_type": "code",
        "colab": {}
      },
      "source": [
        "def get_missing_word(a,b,c):\n",
        "  avec = get_word_vec(a)\n",
        "  bvec = get_word_vec(b)\n",
        "  cvec = get_word_vec(c)\n",
        "   \n",
        "  dvec = cvec + bvec - avec\n",
        "  candidates = get_nearest_neighbours(dvec, n=5)\n",
        "\n",
        "  input_words = [a.lower(), b.lower(), c.lower()]\n",
        "  candidates = [el for el in candidates if el.lower() not in input_words]\n",
        "  return candidates[0]"
      ],
      "execution_count": 0,
      "outputs": []
    },
    {
      "cell_type": "code",
      "metadata": {
        "id": "TaN63jNCe8L7",
        "colab_type": "code",
        "colab": {
          "base_uri": "https://localhost:8080/",
          "height": 34
        },
        "outputId": "b36320c4-3011-4979-afc4-4e3fb87e703b"
      },
      "source": [
        "get_missing_word('man','woman','king')"
      ],
      "execution_count": 100,
      "outputs": [
        {
          "output_type": "execute_result",
          "data": {
            "text/plain": [
              "'queen'"
            ]
          },
          "metadata": {
            "tags": []
          },
          "execution_count": 100
        }
      ]
    },
    {
      "cell_type": "code",
      "metadata": {
        "id": "jfL5P1dzmxQL",
        "colab_type": "code",
        "colab": {
          "base_uri": "https://localhost:8080/",
          "height": 34
        },
        "outputId": "4854f1e1-ad75-402f-c13c-8f16955d5f3d"
      },
      "source": [
        "get_missing_word('delhi','india','tokyo')"
      ],
      "execution_count": 109,
      "outputs": [
        {
          "output_type": "execute_result",
          "data": {
            "text/plain": [
              "'japan'"
            ]
          },
          "metadata": {
            "tags": []
          },
          "execution_count": 109
        }
      ]
    },
    {
      "cell_type": "code",
      "metadata": {
        "id": "ldSxWbcsl3p9",
        "colab_type": "code",
        "colab": {
          "base_uri": "https://localhost:8080/",
          "height": 34
        },
        "outputId": "625d2969-df53-4c6f-c7d5-9f13788a4b05"
      },
      "source": [
        "get_missing_word('dosa','india','croissant')"
      ],
      "execution_count": 108,
      "outputs": [
        {
          "output_type": "execute_result",
          "data": {
            "text/plain": [
              "'france'"
            ]
          },
          "metadata": {
            "tags": []
          },
          "execution_count": 108
        }
      ]
    },
    {
      "cell_type": "code",
      "metadata": {
        "id": "XEhAb8yenUF7",
        "colab_type": "code",
        "colab": {
          "base_uri": "https://localhost:8080/",
          "height": 34
        },
        "outputId": "f9078f2d-3c6a-449e-c540-3f7d9038184b"
      },
      "source": [
        "get_missing_word('paratha','india','sushi')"
      ],
      "execution_count": 113,
      "outputs": [
        {
          "output_type": "execute_result",
          "data": {
            "text/plain": [
              "'japan'"
            ]
          },
          "metadata": {
            "tags": []
          },
          "execution_count": 113
        }
      ]
    },
    {
      "cell_type": "code",
      "metadata": {
        "id": "jHXzwjgQoGeW",
        "colab_type": "code",
        "colab": {
          "base_uri": "https://localhost:8080/",
          "height": 34
        },
        "outputId": "a29caa59-a64f-449d-deb1-31ed609fecfd"
      },
      "source": [
        "get_missing_word('man','actor','woman')"
      ],
      "execution_count": 120,
      "outputs": [
        {
          "output_type": "execute_result",
          "data": {
            "text/plain": [
              "'actress'"
            ]
          },
          "metadata": {
            "tags": []
          },
          "execution_count": 120
        }
      ]
    },
    {
      "cell_type": "code",
      "metadata": {
        "id": "qDJ6NqYHoKdo",
        "colab_type": "code",
        "colab": {
          "base_uri": "https://localhost:8080/",
          "height": 34
        },
        "outputId": "2c13422f-213e-411a-eb18-be4b50c20dbb"
      },
      "source": [
        "get_missing_word('cat','kitten','dog')"
      ],
      "execution_count": 121,
      "outputs": [
        {
          "output_type": "execute_result",
          "data": {
            "text/plain": [
              "'puppy'"
            ]
          },
          "metadata": {
            "tags": []
          },
          "execution_count": 121
        }
      ]
    },
    {
      "cell_type": "code",
      "metadata": {
        "id": "KPmRHciTkKKg",
        "colab_type": "code",
        "colab": {}
      },
      "source": [
        "import pandas as pd"
      ],
      "execution_count": 0,
      "outputs": []
    },
    {
      "cell_type": "code",
      "metadata": {
        "id": "oZt5Fi_8jGKa",
        "colab_type": "code",
        "colab": {}
      },
      "source": [
        "gender_pairs = [('she','he'),\n",
        "                ('her','his'),\n",
        "                ('woman','man'),\n",
        "                ('daughter','son'),\n",
        "                ('mother','father'),\n",
        "               ]\n",
        "words = [el for pair in gender_pairs for el in pair]\n",
        "gender_df = pd.DataFrame(data={'gender' : ['female', 'male'] * len(gender_pairs),\n",
        "                               'word' : words\n",
        "                              })"
      ],
      "execution_count": 0,
      "outputs": []
    },
    {
      "cell_type": "code",
      "metadata": {
        "id": "Y7UrqKzPkJDk",
        "colab_type": "code",
        "colab": {
          "base_uri": "https://localhost:8080/",
          "height": 359
        },
        "outputId": "bf4799b2-7878-4e03-ad22-02e3d0acf0a9"
      },
      "source": [
        "gender_df"
      ],
      "execution_count": 64,
      "outputs": [
        {
          "output_type": "execute_result",
          "data": {
            "text/html": [
              "<div>\n",
              "<style scoped>\n",
              "    .dataframe tbody tr th:only-of-type {\n",
              "        vertical-align: middle;\n",
              "    }\n",
              "\n",
              "    .dataframe tbody tr th {\n",
              "        vertical-align: top;\n",
              "    }\n",
              "\n",
              "    .dataframe thead th {\n",
              "        text-align: right;\n",
              "    }\n",
              "</style>\n",
              "<table border=\"1\" class=\"dataframe\">\n",
              "  <thead>\n",
              "    <tr style=\"text-align: right;\">\n",
              "      <th></th>\n",
              "      <th>gender</th>\n",
              "      <th>word</th>\n",
              "    </tr>\n",
              "  </thead>\n",
              "  <tbody>\n",
              "    <tr>\n",
              "      <th>0</th>\n",
              "      <td>female</td>\n",
              "      <td>she</td>\n",
              "    </tr>\n",
              "    <tr>\n",
              "      <th>1</th>\n",
              "      <td>male</td>\n",
              "      <td>he</td>\n",
              "    </tr>\n",
              "    <tr>\n",
              "      <th>2</th>\n",
              "      <td>female</td>\n",
              "      <td>her</td>\n",
              "    </tr>\n",
              "    <tr>\n",
              "      <th>3</th>\n",
              "      <td>male</td>\n",
              "      <td>his</td>\n",
              "    </tr>\n",
              "    <tr>\n",
              "      <th>4</th>\n",
              "      <td>female</td>\n",
              "      <td>woman</td>\n",
              "    </tr>\n",
              "    <tr>\n",
              "      <th>5</th>\n",
              "      <td>male</td>\n",
              "      <td>man</td>\n",
              "    </tr>\n",
              "    <tr>\n",
              "      <th>6</th>\n",
              "      <td>female</td>\n",
              "      <td>daughter</td>\n",
              "    </tr>\n",
              "    <tr>\n",
              "      <th>7</th>\n",
              "      <td>male</td>\n",
              "      <td>son</td>\n",
              "    </tr>\n",
              "    <tr>\n",
              "      <th>8</th>\n",
              "      <td>female</td>\n",
              "      <td>mother</td>\n",
              "    </tr>\n",
              "    <tr>\n",
              "      <th>9</th>\n",
              "      <td>male</td>\n",
              "      <td>father</td>\n",
              "    </tr>\n",
              "  </tbody>\n",
              "</table>\n",
              "</div>"
            ],
            "text/plain": [
              "   gender      word\n",
              "0  female       she\n",
              "1    male        he\n",
              "2  female       her\n",
              "3    male       his\n",
              "4  female     woman\n",
              "5    male       man\n",
              "6  female  daughter\n",
              "7    male       son\n",
              "8  female    mother\n",
              "9    male    father"
            ]
          },
          "metadata": {
            "tags": []
          },
          "execution_count": 64
        }
      ]
    },
    {
      "cell_type": "code",
      "metadata": {
        "id": "YcO_DUd9kONT",
        "colab_type": "code",
        "colab": {}
      },
      "source": [
        "X = torch.stack([get_word_vec(w) for w in gender_df.word], dim=0)"
      ],
      "execution_count": 0,
      "outputs": []
    },
    {
      "cell_type": "code",
      "metadata": {
        "id": "jWzmy6kkkXW0",
        "colab_type": "code",
        "colab": {
          "base_uri": "https://localhost:8080/",
          "height": 34
        },
        "outputId": "cd236d9d-8ba7-4f7b-abd7-36ec2c5a004f"
      },
      "source": [
        "X.shape"
      ],
      "execution_count": 67,
      "outputs": [
        {
          "output_type": "execute_result",
          "data": {
            "text/plain": [
              "torch.Size([10, 300])"
            ]
          },
          "metadata": {
            "tags": []
          },
          "execution_count": 67
        }
      ]
    },
    {
      "cell_type": "code",
      "metadata": {
        "id": "03nZmOHkkfHQ",
        "colab_type": "code",
        "colab": {}
      },
      "source": [
        "from sklearn.decomposition import PCA\n",
        "from sklearn.preprocessing import StandardScaler\n",
        "from sklearn.pipeline import Pipeline"
      ],
      "execution_count": 0,
      "outputs": []
    },
    {
      "cell_type": "code",
      "metadata": {
        "id": "ikBn6FkxkiMq",
        "colab_type": "code",
        "colab": {}
      },
      "source": [
        "pipe = Pipeline([('scaler',StandardScaler()),\n",
        "                 ('pca', PCA(n_components=2))\n",
        "                ])"
      ],
      "execution_count": 0,
      "outputs": []
    },
    {
      "cell_type": "code",
      "metadata": {
        "id": "yH-ei-7UkxZA",
        "colab_type": "code",
        "colab": {}
      },
      "source": [
        "X_reduced = pipe.fit_transform(X)"
      ],
      "execution_count": 0,
      "outputs": []
    },
    {
      "cell_type": "code",
      "metadata": {
        "id": "5e8xlCXHk2jF",
        "colab_type": "code",
        "colab": {}
      },
      "source": [
        "import seaborn as sns"
      ],
      "execution_count": 0,
      "outputs": []
    },
    {
      "cell_type": "code",
      "metadata": {
        "id": "i7nA3rKQk5eB",
        "colab_type": "code",
        "colab": {}
      },
      "source": [
        "%matplotlib inline"
      ],
      "execution_count": 0,
      "outputs": []
    },
    {
      "cell_type": "code",
      "metadata": {
        "id": "twskc2vfk7Q1",
        "colab_type": "code",
        "colab": {}
      },
      "source": [
        "import matplotlib.pyplot as plt"
      ],
      "execution_count": 0,
      "outputs": []
    },
    {
      "cell_type": "code",
      "metadata": {
        "id": "kZ6Ph3VAkzRR",
        "colab_type": "code",
        "colab": {
          "base_uri": "https://localhost:8080/",
          "height": 269
        },
        "outputId": "e5d7d05f-b029-4025-a3b7-a9f3dc805a80"
      },
      "source": [
        "fig, ax = plt.subplots(figsize=(12,4))\n",
        "\n",
        "sns.scatterplot(X_reduced[:,0], X_reduced[:,1], ax=ax, hue=gender_df.gender, s=60)\n",
        "\n",
        "for i, word in enumerate(words):\n",
        "    ax.annotate(word, (X_reduced[i,0], X_reduced[i,1]))\n",
        "    \n",
        "for i in range(0, X_reduced.shape[0], 2):\n",
        "    ax.plot(X_reduced[i:i+2,0], X_reduced[i:i+2,1], c='gray', linewidth=1)"
      ],
      "execution_count": 75,
      "outputs": [
        {
          "output_type": "display_data",
          "data": {
            "image/png": "[encoded data removed]",
            "text/plain": [
              "<Figure size 864x288 with 1 Axes>"
            ]
          },
          "metadata": {
            "tags": []
          }
        }
      ]
    },
    {
      "cell_type": "code",
      "metadata": {
        "id": "MxL8eZV7k4Tp",
        "colab_type": "code",
        "colab": {
          "base_uri": "https://localhost:8080/",
          "height": 34
        },
        "outputId": "6dcb3426-f51a-4d0d-8f99-a56f0364e097"
      },
      "source": [
        "pipe.steps[1][1].explained_variance_ratio_.cumsum()"
      ],
      "execution_count": 76,
      "outputs": [
        {
          "output_type": "execute_result",
          "data": {
            "text/plain": [
              "array([0.28442568, 0.51005677])"
            ]
          },
          "metadata": {
            "tags": []
          },
          "execution_count": 76
        }
      ]
    },
    {
      "cell_type": "code",
      "metadata": {
        "id": "QXHDEzJplJg9",
        "colab_type": "code",
        "colab": {}
      },
      "source": [
        "vecs = []\n",
        "for i in range(0, X.shape[0], 2):\n",
        "    a = X[i,:]\n",
        "    b = X[i+1,:]\n",
        "    mean_vec = (a+b)/2\n",
        "    vecs.append(a-mean_vec)\n",
        "    vecs.append(b-mean_vec)\n",
        "X1 = torch.stack(vecs, dim=0)"
      ],
      "execution_count": 0,
      "outputs": []
    },
    {
      "cell_type": "code",
      "metadata": {
        "id": "R-hymK7_lR1g",
        "colab_type": "code",
        "colab": {}
      },
      "source": [
        "X1_reduced = pipe.fit_transform(X1)"
      ],
      "execution_count": 0,
      "outputs": []
    },
    {
      "cell_type": "code",
      "metadata": {
        "id": "fbhRw1xxlWEM",
        "colab_type": "code",
        "colab": {
          "base_uri": "https://localhost:8080/",
          "height": 34
        },
        "outputId": "ec6142da-df15-431f-f296-47e1772b7c9c"
      },
      "source": [
        "pipe.steps[1][1].explained_variance_ratio_.cumsum()"
      ],
      "execution_count": 79,
      "outputs": [
        {
          "output_type": "execute_result",
          "data": {
            "text/plain": [
              "array([0.54846272, 0.71123405])"
            ]
          },
          "metadata": {
            "tags": []
          },
          "execution_count": 79
        }
      ]
    },
    {
      "cell_type": "code",
      "metadata": {
        "id": "8zI2AOYslZBM",
        "colab_type": "code",
        "colab": {
          "base_uri": "https://localhost:8080/",
          "height": 269
        },
        "outputId": "cc2c69fa-1ee6-43fd-a5d5-bf320a467ab2"
      },
      "source": [
        "fig, ax = plt.subplots(figsize=(12,4))\n",
        "\n",
        "sns.scatterplot(X1_reduced[:,0], X1_reduced[:,1], ax=ax, hue=gender_df.gender, s=60)\n",
        "\n",
        "for i, word in enumerate(words):\n",
        "    ax.annotate(word, (X1_reduced[i,0], X1_reduced[i,1]))\n",
        "    "
      ],
      "execution_count": 81,
      "outputs": [
        {
          "output_type": "display_data",
          "data": {
            "image/png": "[encoded data removed]",
            "text/plain": [
              "<Figure size 864x288 with 1 Axes>"
            ]
          },
          "metadata": {
            "tags": []
          }
        }
      ]
    },
    {
      "cell_type": "code",
      "metadata": {
        "id": "7k_NmjD4lbdY",
        "colab_type": "code",
        "colab": {}
      },
      "source": [
        "reliable_vector = get_word_vec('reliable')\n",
        "\n",
        "reliable_misspellings = ['relieable', 'relyable', 'realible', 'realiable', \n",
        "                         'relable', 'relaible', 'reliabe', 'relaiable']\n",
        "\n",
        "diff_reliable = [(reliable_vector - get_word_vec(s)).unsqueeze(0) \n",
        "                 for s in reliable_misspellings]"
      ],
      "execution_count": 0,
      "outputs": []
    },
    {
      "cell_type": "code",
      "metadata": {
        "id": "_SrAvIOEo27J",
        "colab_type": "code",
        "colab": {}
      },
      "source": [
        "misspelling_vector = torch.cat(diff_reliable, dim = 0).mean(dim = 0)"
      ],
      "execution_count": 0,
      "outputs": []
    },
    {
      "cell_type": "code",
      "metadata": {
        "id": "-tXz0TLqo5Y0",
        "colab_type": "code",
        "colab": {}
      },
      "source": [
        "word_vector = get_word_vec('recieve')"
      ],
      "execution_count": 0,
      "outputs": []
    },
    {
      "cell_type": "code",
      "metadata": {
        "id": "3Tl__tl4o9XA",
        "colab_type": "code",
        "colab": {
          "base_uri": "https://localhost:8080/",
          "height": 187
        },
        "outputId": "06ef0cc3-6aa2-467e-8c9e-a818e56dd065"
      },
      "source": [
        "get_nearest_neighbours(word_vector + misspelling_vector)"
      ],
      "execution_count": 141,
      "outputs": [
        {
          "output_type": "execute_result",
          "data": {
            "text/plain": [
              "['receive',\n",
              " 'send',\n",
              " 'recieve',\n",
              " 'offer',\n",
              " 'email',\n",
              " 'mail',\n",
              " 'customer',\n",
              " 'your',\n",
              " 'payment',\n",
              " 'service']"
            ]
          },
          "metadata": {
            "tags": []
          },
          "execution_count": 141
        }
      ]
    },
    {
      "cell_type": "code",
      "metadata": {
        "id": "Miw593VepD_C",
        "colab_type": "code",
        "colab": {}
      },
      "source": [
        "gender_vector = X1.mean(dim=0)"
      ],
      "execution_count": 0,
      "outputs": []
    },
    {
      "cell_type": "code",
      "metadata": {
        "id": "_SeKs7pi86tZ",
        "colab_type": "code",
        "colab": {}
      },
      "source": [
        "word_vector = get_word_vec('du')"
      ],
      "execution_count": 0,
      "outputs": []
    },
    {
      "cell_type": "code",
      "metadata": {
        "id": "wlxfDP7U9HHI",
        "colab_type": "code",
        "colab": {
          "base_uri": "https://localhost:8080/",
          "height": 34
        },
        "outputId": "a772b134-af44-42ab-c251-ede4ee790e05"
      },
      "source": [
        "get_nearest_neighbours(word_vector + gender_vector)"
      ],
      "execution_count": 158,
      "outputs": [
        {
          "output_type": "execute_result",
          "data": {
            "text/plain": [
              "['man', 'woman', 'men', 'boy', 'guy', 'he', 'himself', 'dude', 'gay', 'him']"
            ]
          },
          "metadata": {
            "tags": []
          },
          "execution_count": 158
        }
      ]
    },
    {
      "cell_type": "code",
      "metadata": {
        "id": "PUTtoIMj9LIS",
        "colab_type": "code",
        "colab": {}
      },
      "source": [
        "vecs = []\n",
        "for i in range(0, X.shape[0], 2):\n",
        "    a = X[i,:]\n",
        "    b = X[i+1,:]\n",
        "    vecs.append(b-a)\n",
        "X2 = torch.stack(vecs, dim=0)"
      ],
      "execution_count": 0,
      "outputs": []
    },
    {
      "cell_type": "code",
      "metadata": {
        "colab_type": "code",
        "id": "Q0W_q5o5_f6m",
        "colab": {}
      },
      "source": [
        "gender_vector2 = X2.mean(dim=0)"
      ],
      "execution_count": 0,
      "outputs": []
    },
    {
      "cell_type": "code",
      "metadata": {
        "id": "ebtvILOs_uiy",
        "colab_type": "code",
        "colab": {
          "base_uri": "https://localhost:8080/",
          "height": 34
        },
        "outputId": "0a39e41e-df29-40cf-9107-07e770ec21e4"
      },
      "source": [
        "gender_vector2.shape"
      ],
      "execution_count": 174,
      "outputs": [
        {
          "output_type": "execute_result",
          "data": {
            "text/plain": [
              "torch.Size([300])"
            ]
          },
          "metadata": {
            "tags": []
          },
          "execution_count": 174
        }
      ]
    },
    {
      "cell_type": "code",
      "metadata": {
        "id": "IMuvFKFTBUYy",
        "colab_type": "code",
        "colab": {}
      },
      "source": [
        "def get_masculine_word(feminine_word):\n",
        "  word_vector = get_word_vec(feminine_word)\n",
        "  candidates = get_nearest_neighbours(word_vector + gender_vector2)\n",
        "  return [c for c in candidates if c not in [feminine_word, feminine_word+\"s\"]][0]"
      ],
      "execution_count": 0,
      "outputs": []
    },
    {
      "cell_type": "code",
      "metadata": {
        "id": "4XNOQp88_hbn",
        "colab_type": "code",
        "colab": {
          "base_uri": "https://localhost:8080/",
          "height": 34
        },
        "outputId": "eb2dad1c-2790-4bf8-c139-13fcb887cc19"
      },
      "source": [
        "get_masculine_word('headmistress')"
      ],
      "execution_count": 197,
      "outputs": [
        {
          "output_type": "execute_result",
          "data": {
            "text/plain": [
              "'headmaster'"
            ]
          },
          "metadata": {
            "tags": []
          },
          "execution_count": 197
        }
      ]
    },
    {
      "cell_type": "code",
      "metadata": {
        "id": "4gYuppm-_lcb",
        "colab_type": "code",
        "colab": {
          "base_uri": "https://localhost:8080/",
          "height": 34
        },
        "outputId": "cabf4534-5e2a-475c-f06d-c3df9a6112dc"
      },
      "source": [
        "get_masculine_word('daughter-in-law')"
      ],
      "execution_count": 198,
      "outputs": [
        {
          "output_type": "execute_result",
          "data": {
            "text/plain": [
              "'son-in-law'"
            ]
          },
          "metadata": {
            "tags": []
          },
          "execution_count": 198
        }
      ]
    },
    {
      "cell_type": "code",
      "metadata": {
        "id": "kZu1aTYPBOHS",
        "colab_type": "code",
        "colab": {
          "base_uri": "https://localhost:8080/",
          "height": 34
        },
        "outputId": "9f41b09a-6b65-4509-feb0-3653684814ae"
      },
      "source": [
        "get_masculine_word('step-mother')"
      ],
      "execution_count": 199,
      "outputs": [
        {
          "output_type": "execute_result",
          "data": {
            "text/plain": [
              "'step-father'"
            ]
          },
          "metadata": {
            "tags": []
          },
          "execution_count": 199
        }
      ]
    },
    {
      "cell_type": "code",
      "metadata": {
        "id": "tWMUpyocCAeh",
        "colab_type": "code",
        "colab": {
          "base_uri": "https://localhost:8080/",
          "height": 34
        },
        "outputId": "25a71353-120d-4c9d-ccc6-90d36675575c"
      },
      "source": [
        "get_masculine_word('mother-in-law')"
      ],
      "execution_count": 204,
      "outputs": [
        {
          "output_type": "execute_result",
          "data": {
            "text/plain": [
              "'father-in-law'"
            ]
          },
          "metadata": {
            "tags": []
          },
          "execution_count": 204
        }
      ]
    },
    {
      "cell_type": "code",
      "metadata": {
        "id": "_dTEByKpCF2A",
        "colab_type": "code",
        "colab": {
          "base_uri": "https://localhost:8080/",
          "height": 34
        },
        "outputId": "a1db6ba8-be98-4a1e-cf39-125ca5f2438e"
      },
      "source": [
        "get_masculine_word('step-daughter')"
      ],
      "execution_count": 205,
      "outputs": [
        {
          "output_type": "execute_result",
          "data": {
            "text/plain": [
              "'step-son'"
            ]
          },
          "metadata": {
            "tags": []
          },
          "execution_count": 205
        }
      ]
    },
    {
      "cell_type": "code",
      "metadata": {
        "id": "DbdLlIR5CYdA",
        "colab_type": "code",
        "colab": {
          "base_uri": "https://localhost:8080/",
          "height": 34
        },
        "outputId": "43855b6b-5103-4b8d-e369-cda4102e8273"
      },
      "source": [
        "get_masculine_word('stepdaughter')"
      ],
      "execution_count": 206,
      "outputs": [
        {
          "output_type": "execute_result",
          "data": {
            "text/plain": [
              "'stepson'"
            ]
          },
          "metadata": {
            "tags": []
          },
          "execution_count": 206
        }
      ]
    },
    {
      "cell_type": "code",
      "metadata": {
        "id": "GySFYLBxCaTl",
        "colab_type": "code",
        "colab": {
          "base_uri": "https://localhost:8080/",
          "height": 34
        },
        "outputId": "09c65707-6654-4c22-f461-759ba0a3e20b"
      },
      "source": [
        "get_masculine_word('policewoman')"
      ],
      "execution_count": 207,
      "outputs": [
        {
          "output_type": "execute_result",
          "data": {
            "text/plain": [
              "'policeman'"
            ]
          },
          "metadata": {
            "tags": []
          },
          "execution_count": 207
        }
      ]
    },
    {
      "cell_type": "code",
      "metadata": {
        "id": "kcZVvqFdCe6W",
        "colab_type": "code",
        "colab": {}
      },
      "source": [
        ""
      ],
      "execution_count": 0,
      "outputs": []
    }
  ]
}