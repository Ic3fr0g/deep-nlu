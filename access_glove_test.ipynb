{
  "nbformat": 4,
  "nbformat_minor": 0,
  "metadata": {
    "colab": {
      "name": "access-glove-test.ipynb",
      "version": "0.3.2",
      "provenance": [],
      "include_colab_link": true
    },
    "kernelspec": {
      "name": "python3",
      "display_name": "Python 3"
    }
  },
  "cells": [
    {
      "cell_type": "markdown",
      "metadata": {
        "id": "view-in-github",
        "colab_type": "text"
      },
      "source": [
        "<a href=\"https://colab.research.google.com/github/madhugopinathan/deep-nlu/blob/master/access_glove_test.ipynb\" target=\"_parent\"><img src=\"https://colab.research.google.com/assets/colab-badge.svg\" alt=\"Open In Colab\"/></a>"
      ]
    },
    {
      "cell_type": "code",
      "metadata": {
        "id": "msHbcPhSJise",
        "colab_type": "code",
        "colab": {
          "base_uri": "https://localhost:8080/",
          "height": 357
        },
        "outputId": "00a2d89a-186c-4268-c22f-77e325f31367"
      },
      "source": [
        "!wget http://nlp.stanford.edu/data/glove.6B.zip"
      ],
      "execution_count": 38,
      "outputs": [
        {
          "output_type": "stream",
          "text": [
            "--2019-08-03 07:38:05--  http://nlp.stanford.edu/data/glove.6B.zip\n",
            "Resolving nlp.stanford.edu (nlp.stanford.edu)... 171.64.67.140\n",
            "Connecting to nlp.stanford.edu (nlp.stanford.edu)|171.64.67.140|:80... connected.\n",
            "HTTP request sent, awaiting response... 302 Found\n",
            "Location: https://nlp.stanford.edu/data/glove.6B.zip [following]\n",
            "--2019-08-03 07:38:05--  https://nlp.stanford.edu/data/glove.6B.zip\n",
            "Connecting to nlp.stanford.edu (nlp.stanford.edu)|171.64.67.140|:443... connected.\n",
            "HTTP request sent, awaiting response... 301 Moved Permanently\n",
            "Location: http://downloads.cs.stanford.edu/nlp/data/glove.6B.zip [following]\n",
            "--2019-08-03 07:38:05--  http://downloads.cs.stanford.edu/nlp/data/glove.6B.zip\n",
            "Resolving downloads.cs.stanford.edu (downloads.cs.stanford.edu)... 171.64.64.22\n",
            "Connecting to downloads.cs.stanford.edu (downloads.cs.stanford.edu)|171.64.64.22|:80... connected.\n",
            "HTTP request sent, awaiting response... 200 OK\n",
            "Length: 862182613 (822M) [application/zip]\n",
            "Saving to: ‘glove.6B.zip’\n",
            "\n",
            "glove.6B.zip        100%[===================>] 822.24M  30.6MB/s    in 24s     \n",
            "\n",
            "2019-08-03 07:38:29 (34.9 MB/s) - ‘glove.6B.zip’ saved [862182613/862182613]\n",
            "\n"
          ],
          "name": "stdout"
        }
      ]
    },
    {
      "cell_type": "code",
      "metadata": {
        "id": "hj9ml4vTMvd3",
        "colab_type": "code",
        "colab": {
          "base_uri": "https://localhost:8080/",
          "height": 34
        },
        "outputId": "61de02e2-6c1d-437f-aaf9-bf31f4682362"
      },
      "source": [
        "!ls"
      ],
      "execution_count": 39,
      "outputs": [
        {
          "output_type": "stream",
          "text": [
            "glove.6B.zip  sample_data\n"
          ],
          "name": "stdout"
        }
      ]
    },
    {
      "cell_type": "code",
      "metadata": {
        "id": "ginPCMMhaqPe",
        "colab_type": "code",
        "colab": {
          "base_uri": "https://localhost:8080/",
          "height": 34
        },
        "outputId": "b0e2d1cc-5630-4fc6-cb86-1fa90cd5b7ad"
      },
      "source": [
        "!mkdir glove\n",
        "!mv glove.6B.zip glove"
      ],
      "execution_count": 40,
      "outputs": [
        {
          "output_type": "stream",
          "text": [
            "unzip:  cannot find or open glove.6B.zip, glove.6B.zip.zip or glove.6B.zip.ZIP.\n"
          ],
          "name": "stdout"
        }
      ]
    },
    {
      "cell_type": "code",
      "metadata": {
        "id": "Saz5LKw0bA93",
        "colab_type": "code",
        "colab": {
          "base_uri": "https://localhost:8080/",
          "height": 119
        },
        "outputId": "ca3e1891-8cbc-4dd5-a317-8b6c08d45de3"
      },
      "source": [
        "%cd glove\n",
        "!unzip glove.6B.zip"
      ],
      "execution_count": 43,
      "outputs": [
        {
          "output_type": "stream",
          "text": [
            "/content/glove\n",
            "Archive:  glove.6B.zip\n",
            "  inflating: glove.6B.50d.txt        \n",
            "  inflating: glove.6B.100d.txt       \n",
            "  inflating: glove.6B.200d.txt       \n",
            "  inflating: glove.6B.300d.txt       \n"
          ],
          "name": "stdout"
        }
      ]
    },
    {
      "cell_type": "code",
      "metadata": {
        "id": "WKmci623M0FR",
        "colab_type": "code",
        "colab": {}
      },
      "source": [
        "import pandas as pd"
      ],
      "execution_count": 0,
      "outputs": []
    },
    {
      "cell_type": "code",
      "metadata": {
        "id": "DrbOfplyN58C",
        "colab_type": "code",
        "colab": {}
      },
      "source": [
        "import csv"
      ],
      "execution_count": 0,
      "outputs": []
    },
    {
      "cell_type": "code",
      "metadata": {
        "id": "V2V-P449Nxf0",
        "colab_type": "code",
        "colab": {}
      },
      "source": [
        "glove_df = pd.read_csv(\"./glove.6B.300d.txt\", sep=' ', \n",
        "                       header=None, index_col=0, \n",
        "                       quoting=csv.QUOTE_NONE)"
      ],
      "execution_count": 0,
      "outputs": []
    },
    {
      "cell_type": "code",
      "metadata": {
        "id": "LHKnVsO6N31y",
        "colab_type": "code",
        "colab": {
          "base_uri": "https://localhost:8080/",
          "height": 284
        },
        "outputId": "57fbed6e-760d-4b5b-bc25-69c138f2a3b7"
      },
      "source": [
        "glove_df.head()"
      ],
      "execution_count": 47,
      "outputs": [
        {
          "output_type": "execute_result",
          "data": {
            "text/html": [
              "<div>\n",
              "<style scoped>\n",
              "    .dataframe tbody tr th:only-of-type {\n",
              "        vertical-align: middle;\n",
              "    }\n",
              "\n",
              "    .dataframe tbody tr th {\n",
              "        vertical-align: top;\n",
              "    }\n",
              "\n",
              "    .dataframe thead th {\n",
              "        text-align: right;\n",
              "    }\n",
              "</style>\n",
              "<table border=\"1\" class=\"dataframe\">\n",
              "  <thead>\n",
              "    <tr style=\"text-align: right;\">\n",
              "      <th></th>\n",
              "      <th>1</th>\n",
              "      <th>2</th>\n",
              "      <th>3</th>\n",
              "      <th>4</th>\n",
              "      <th>5</th>\n",
              "      <th>6</th>\n",
              "      <th>7</th>\n",
              "      <th>8</th>\n",
              "      <th>9</th>\n",
              "      <th>10</th>\n",
              "      <th>11</th>\n",
              "      <th>12</th>\n",
              "      <th>13</th>\n",
              "      <th>14</th>\n",
              "      <th>15</th>\n",
              "      <th>16</th>\n",
              "      <th>17</th>\n",
              "      <th>18</th>\n",
              "      <th>19</th>\n",
              "      <th>20</th>\n",
              "      <th>21</th>\n",
              "      <th>22</th>\n",
              "      <th>23</th>\n",
              "      <th>24</th>\n",
              "      <th>25</th>\n",
              "      <th>26</th>\n",
              "      <th>27</th>\n",
              "      <th>28</th>\n",
              "      <th>29</th>\n",
              "      <th>30</th>\n",
              "      <th>31</th>\n",
              "      <th>32</th>\n",
              "      <th>33</th>\n",
              "      <th>34</th>\n",
              "      <th>35</th>\n",
              "      <th>36</th>\n",
              "      <th>37</th>\n",
              "      <th>38</th>\n",
              "      <th>39</th>\n",
              "      <th>40</th>\n",
              "      <th>...</th>\n",
              "      <th>261</th>\n",
              "      <th>262</th>\n",
              "      <th>263</th>\n",
              "      <th>264</th>\n",
              "      <th>265</th>\n",
              "      <th>266</th>\n",
              "      <th>267</th>\n",
              "      <th>268</th>\n",
              "      <th>269</th>\n",
              "      <th>270</th>\n",
              "      <th>271</th>\n",
              "      <th>272</th>\n",
              "      <th>273</th>\n",
              "      <th>274</th>\n",
              "      <th>275</th>\n",
              "      <th>276</th>\n",
              "      <th>277</th>\n",
              "      <th>278</th>\n",
              "      <th>279</th>\n",
              "      <th>280</th>\n",
              "      <th>281</th>\n",
              "      <th>282</th>\n",
              "      <th>283</th>\n",
              "      <th>284</th>\n",
              "      <th>285</th>\n",
              "      <th>286</th>\n",
              "      <th>287</th>\n",
              "      <th>288</th>\n",
              "      <th>289</th>\n",
              "      <th>290</th>\n",
              "      <th>291</th>\n",
              "      <th>292</th>\n",
              "      <th>293</th>\n",
              "      <th>294</th>\n",
              "      <th>295</th>\n",
              "      <th>296</th>\n",
              "      <th>297</th>\n",
              "      <th>298</th>\n",
              "      <th>299</th>\n",
              "      <th>300</th>\n",
              "    </tr>\n",
              "    <tr>\n",
              "      <th>0</th>\n",
              "      <th></th>\n",
              "      <th></th>\n",
              "      <th></th>\n",
              "      <th></th>\n",
              "      <th></th>\n",
              "      <th></th>\n",
              "      <th></th>\n",
              "      <th></th>\n",
              "      <th></th>\n",
              "      <th></th>\n",
              "      <th></th>\n",
              "      <th></th>\n",
              "      <th></th>\n",
              "      <th></th>\n",
              "      <th></th>\n",
              "      <th></th>\n",
              "      <th></th>\n",
              "      <th></th>\n",
              "      <th></th>\n",
              "      <th></th>\n",
              "      <th></th>\n",
              "      <th></th>\n",
              "      <th></th>\n",
              "      <th></th>\n",
              "      <th></th>\n",
              "      <th></th>\n",
              "      <th></th>\n",
              "      <th></th>\n",
              "      <th></th>\n",
              "      <th></th>\n",
              "      <th></th>\n",
              "      <th></th>\n",
              "      <th></th>\n",
              "      <th></th>\n",
              "      <th></th>\n",
              "      <th></th>\n",
              "      <th></th>\n",
              "      <th></th>\n",
              "      <th></th>\n",
              "      <th></th>\n",
              "      <th></th>\n",
              "      <th></th>\n",
              "      <th></th>\n",
              "      <th></th>\n",
              "      <th></th>\n",
              "      <th></th>\n",
              "      <th></th>\n",
              "      <th></th>\n",
              "      <th></th>\n",
              "      <th></th>\n",
              "      <th></th>\n",
              "      <th></th>\n",
              "      <th></th>\n",
              "      <th></th>\n",
              "      <th></th>\n",
              "      <th></th>\n",
              "      <th></th>\n",
              "      <th></th>\n",
              "      <th></th>\n",
              "      <th></th>\n",
              "      <th></th>\n",
              "      <th></th>\n",
              "      <th></th>\n",
              "      <th></th>\n",
              "      <th></th>\n",
              "      <th></th>\n",
              "      <th></th>\n",
              "      <th></th>\n",
              "      <th></th>\n",
              "      <th></th>\n",
              "      <th></th>\n",
              "      <th></th>\n",
              "      <th></th>\n",
              "      <th></th>\n",
              "      <th></th>\n",
              "      <th></th>\n",
              "      <th></th>\n",
              "      <th></th>\n",
              "      <th></th>\n",
              "      <th></th>\n",
              "      <th></th>\n",
              "    </tr>\n",
              "  </thead>\n",
              "  <tbody>\n",
              "    <tr>\n",
              "      <th>the</th>\n",
              "      <td>0.046560</td>\n",
              "      <td>0.213180</td>\n",
              "      <td>-0.007436</td>\n",
              "      <td>-0.458540</td>\n",
              "      <td>-0.035639</td>\n",
              "      <td>0.236430</td>\n",
              "      <td>-0.288360</td>\n",
              "      <td>0.215210</td>\n",
              "      <td>-0.134860</td>\n",
              "      <td>-1.6413</td>\n",
              "      <td>-0.26091</td>\n",
              "      <td>0.032434</td>\n",
              "      <td>0.056621</td>\n",
              "      <td>-0.043296</td>\n",
              "      <td>-0.021672</td>\n",
              "      <td>0.224760</td>\n",
              "      <td>-0.075129</td>\n",
              "      <td>-0.067018</td>\n",
              "      <td>-0.142470</td>\n",
              "      <td>0.038825</td>\n",
              "      <td>-0.189510</td>\n",
              "      <td>0.29977</td>\n",
              "      <td>0.393050</td>\n",
              "      <td>0.178870</td>\n",
              "      <td>-0.173430</td>\n",
              "      <td>-0.211780</td>\n",
              "      <td>0.236170</td>\n",
              "      <td>-0.063681</td>\n",
              "      <td>-0.423180</td>\n",
              "      <td>-0.116610</td>\n",
              "      <td>0.093754</td>\n",
              "      <td>0.172960</td>\n",
              "      <td>-0.33073</td>\n",
              "      <td>0.491120</td>\n",
              "      <td>-0.68995</td>\n",
              "      <td>-0.092462</td>\n",
              "      <td>0.247420</td>\n",
              "      <td>-0.179910</td>\n",
              "      <td>0.097908</td>\n",
              "      <td>0.083118</td>\n",
              "      <td>...</td>\n",
              "      <td>-0.287970</td>\n",
              "      <td>-0.058996</td>\n",
              "      <td>-0.032436</td>\n",
              "      <td>-0.004701</td>\n",
              "      <td>-0.170520</td>\n",
              "      <td>-0.034741</td>\n",
              "      <td>-0.114890</td>\n",
              "      <td>0.075093</td>\n",
              "      <td>0.099526</td>\n",
              "      <td>0.048183</td>\n",
              "      <td>-0.073775</td>\n",
              "      <td>-0.418170</td>\n",
              "      <td>0.004127</td>\n",
              "      <td>0.44414</td>\n",
              "      <td>-0.16062</td>\n",
              "      <td>0.142940</td>\n",
              "      <td>-2.2628</td>\n",
              "      <td>-0.027347</td>\n",
              "      <td>0.81311</td>\n",
              "      <td>0.774170</td>\n",
              "      <td>-0.256390</td>\n",
              "      <td>-0.115760</td>\n",
              "      <td>-0.119820</td>\n",
              "      <td>-0.21363</td>\n",
              "      <td>0.028429</td>\n",
              "      <td>0.27261</td>\n",
              "      <td>0.031026</td>\n",
              "      <td>0.096782</td>\n",
              "      <td>0.006777</td>\n",
              "      <td>0.140820</td>\n",
              "      <td>-0.013064</td>\n",
              "      <td>-0.296860</td>\n",
              "      <td>-0.079913</td>\n",
              "      <td>0.195000</td>\n",
              "      <td>0.031549</td>\n",
              "      <td>0.285060</td>\n",
              "      <td>-0.087461</td>\n",
              "      <td>0.009061</td>\n",
              "      <td>-0.209890</td>\n",
              "      <td>0.053913</td>\n",
              "    </tr>\n",
              "    <tr>\n",
              "      <th>,</th>\n",
              "      <td>-0.255390</td>\n",
              "      <td>-0.257230</td>\n",
              "      <td>0.131690</td>\n",
              "      <td>-0.042688</td>\n",
              "      <td>0.218170</td>\n",
              "      <td>-0.022702</td>\n",
              "      <td>-0.178540</td>\n",
              "      <td>0.107560</td>\n",
              "      <td>0.058936</td>\n",
              "      <td>-1.3854</td>\n",
              "      <td>0.58509</td>\n",
              "      <td>0.036501</td>\n",
              "      <td>-0.198460</td>\n",
              "      <td>0.196130</td>\n",
              "      <td>0.409290</td>\n",
              "      <td>0.157020</td>\n",
              "      <td>-0.153050</td>\n",
              "      <td>0.050447</td>\n",
              "      <td>0.300450</td>\n",
              "      <td>-0.112950</td>\n",
              "      <td>-0.017043</td>\n",
              "      <td>0.18593</td>\n",
              "      <td>0.199820</td>\n",
              "      <td>0.200530</td>\n",
              "      <td>-0.631410</td>\n",
              "      <td>-0.126220</td>\n",
              "      <td>0.295100</td>\n",
              "      <td>-0.262820</td>\n",
              "      <td>-0.158310</td>\n",
              "      <td>0.001238</td>\n",
              "      <td>0.011784</td>\n",
              "      <td>0.587580</td>\n",
              "      <td>-0.15914</td>\n",
              "      <td>0.277310</td>\n",
              "      <td>-0.82343</td>\n",
              "      <td>-0.211340</td>\n",
              "      <td>0.013414</td>\n",
              "      <td>0.196370</td>\n",
              "      <td>-0.414700</td>\n",
              "      <td>0.001028</td>\n",
              "      <td>...</td>\n",
              "      <td>-0.063187</td>\n",
              "      <td>-0.245530</td>\n",
              "      <td>-0.059751</td>\n",
              "      <td>0.068787</td>\n",
              "      <td>-0.116270</td>\n",
              "      <td>-0.008340</td>\n",
              "      <td>0.005204</td>\n",
              "      <td>-0.201590</td>\n",
              "      <td>-0.023663</td>\n",
              "      <td>0.175620</td>\n",
              "      <td>-0.314750</td>\n",
              "      <td>-0.111620</td>\n",
              "      <td>-0.124920</td>\n",
              "      <td>0.10949</td>\n",
              "      <td>-0.26913</td>\n",
              "      <td>0.348930</td>\n",
              "      <td>-1.6997</td>\n",
              "      <td>-0.244700</td>\n",
              "      <td>0.30292</td>\n",
              "      <td>0.056720</td>\n",
              "      <td>-0.317370</td>\n",
              "      <td>0.083612</td>\n",
              "      <td>0.095949</td>\n",
              "      <td>-0.17590</td>\n",
              "      <td>0.102350</td>\n",
              "      <td>0.36808</td>\n",
              "      <td>-0.343800</td>\n",
              "      <td>0.206070</td>\n",
              "      <td>0.191350</td>\n",
              "      <td>0.109920</td>\n",
              "      <td>0.075968</td>\n",
              "      <td>-0.014359</td>\n",
              "      <td>-0.073794</td>\n",
              "      <td>0.221760</td>\n",
              "      <td>0.146520</td>\n",
              "      <td>0.566860</td>\n",
              "      <td>0.053307</td>\n",
              "      <td>-0.232900</td>\n",
              "      <td>-0.122260</td>\n",
              "      <td>0.354990</td>\n",
              "    </tr>\n",
              "    <tr>\n",
              "      <th>.</th>\n",
              "      <td>-0.125590</td>\n",
              "      <td>0.013630</td>\n",
              "      <td>0.103060</td>\n",
              "      <td>-0.101230</td>\n",
              "      <td>0.098128</td>\n",
              "      <td>0.136270</td>\n",
              "      <td>-0.107210</td>\n",
              "      <td>0.236970</td>\n",
              "      <td>0.328700</td>\n",
              "      <td>-1.6785</td>\n",
              "      <td>0.22393</td>\n",
              "      <td>0.124090</td>\n",
              "      <td>-0.086708</td>\n",
              "      <td>0.330100</td>\n",
              "      <td>0.343750</td>\n",
              "      <td>-0.000876</td>\n",
              "      <td>-0.296580</td>\n",
              "      <td>0.244170</td>\n",
              "      <td>-0.115920</td>\n",
              "      <td>-0.035742</td>\n",
              "      <td>-0.010830</td>\n",
              "      <td>0.20776</td>\n",
              "      <td>0.292850</td>\n",
              "      <td>-0.073491</td>\n",
              "      <td>-0.185980</td>\n",
              "      <td>-0.200900</td>\n",
              "      <td>-0.095366</td>\n",
              "      <td>0.006373</td>\n",
              "      <td>-0.136200</td>\n",
              "      <td>0.092028</td>\n",
              "      <td>-0.039957</td>\n",
              "      <td>0.190270</td>\n",
              "      <td>-0.10456</td>\n",
              "      <td>0.002767</td>\n",
              "      <td>-0.71742</td>\n",
              "      <td>-0.129150</td>\n",
              "      <td>-0.001345</td>\n",
              "      <td>0.270020</td>\n",
              "      <td>-0.053023</td>\n",
              "      <td>0.221480</td>\n",
              "      <td>...</td>\n",
              "      <td>-0.136670</td>\n",
              "      <td>-0.439620</td>\n",
              "      <td>0.237040</td>\n",
              "      <td>0.031296</td>\n",
              "      <td>0.074701</td>\n",
              "      <td>-0.223870</td>\n",
              "      <td>0.007816</td>\n",
              "      <td>-0.190160</td>\n",
              "      <td>0.044444</td>\n",
              "      <td>0.201910</td>\n",
              "      <td>-0.208140</td>\n",
              "      <td>-0.283820</td>\n",
              "      <td>0.104270</td>\n",
              "      <td>-0.21098</td>\n",
              "      <td>0.18865</td>\n",
              "      <td>0.316590</td>\n",
              "      <td>-2.0753</td>\n",
              "      <td>-0.071045</td>\n",
              "      <td>0.52419</td>\n",
              "      <td>0.056023</td>\n",
              "      <td>-0.252950</td>\n",
              "      <td>-0.062168</td>\n",
              "      <td>-0.109890</td>\n",
              "      <td>-0.35755</td>\n",
              "      <td>-0.079244</td>\n",
              "      <td>0.37472</td>\n",
              "      <td>-0.283530</td>\n",
              "      <td>0.163370</td>\n",
              "      <td>0.111650</td>\n",
              "      <td>-0.098002</td>\n",
              "      <td>0.060148</td>\n",
              "      <td>-0.156190</td>\n",
              "      <td>-0.119490</td>\n",
              "      <td>0.234450</td>\n",
              "      <td>0.081367</td>\n",
              "      <td>0.246180</td>\n",
              "      <td>-0.152420</td>\n",
              "      <td>-0.342240</td>\n",
              "      <td>-0.022394</td>\n",
              "      <td>0.136840</td>\n",
              "    </tr>\n",
              "    <tr>\n",
              "      <th>of</th>\n",
              "      <td>-0.076947</td>\n",
              "      <td>-0.021211</td>\n",
              "      <td>0.212710</td>\n",
              "      <td>-0.722320</td>\n",
              "      <td>-0.139880</td>\n",
              "      <td>-0.122340</td>\n",
              "      <td>-0.175210</td>\n",
              "      <td>0.121370</td>\n",
              "      <td>-0.070866</td>\n",
              "      <td>-1.5721</td>\n",
              "      <td>-0.22464</td>\n",
              "      <td>0.042690</td>\n",
              "      <td>-0.401800</td>\n",
              "      <td>0.210060</td>\n",
              "      <td>0.014288</td>\n",
              "      <td>0.416280</td>\n",
              "      <td>0.017165</td>\n",
              "      <td>0.071732</td>\n",
              "      <td>0.006925</td>\n",
              "      <td>0.181070</td>\n",
              "      <td>-0.154120</td>\n",
              "      <td>0.14933</td>\n",
              "      <td>-0.030493</td>\n",
              "      <td>0.299180</td>\n",
              "      <td>0.029479</td>\n",
              "      <td>-0.036147</td>\n",
              "      <td>-0.061125</td>\n",
              "      <td>0.083918</td>\n",
              "      <td>-0.123980</td>\n",
              "      <td>-0.100770</td>\n",
              "      <td>-0.005414</td>\n",
              "      <td>0.337100</td>\n",
              "      <td>-0.25612</td>\n",
              "      <td>0.443880</td>\n",
              "      <td>-0.68922</td>\n",
              "      <td>0.180200</td>\n",
              "      <td>0.348980</td>\n",
              "      <td>-0.052284</td>\n",
              "      <td>-0.262260</td>\n",
              "      <td>-0.471090</td>\n",
              "      <td>...</td>\n",
              "      <td>0.467280</td>\n",
              "      <td>0.482140</td>\n",
              "      <td>0.105480</td>\n",
              "      <td>0.065805</td>\n",
              "      <td>0.067221</td>\n",
              "      <td>0.133210</td>\n",
              "      <td>-0.278560</td>\n",
              "      <td>0.015532</td>\n",
              "      <td>0.300260</td>\n",
              "      <td>0.387480</td>\n",
              "      <td>-0.144010</td>\n",
              "      <td>-0.161310</td>\n",
              "      <td>0.176780</td>\n",
              "      <td>0.16448</td>\n",
              "      <td>-0.32440</td>\n",
              "      <td>0.007937</td>\n",
              "      <td>-2.2836</td>\n",
              "      <td>0.096945</td>\n",
              "      <td>0.66131</td>\n",
              "      <td>0.168570</td>\n",
              "      <td>-0.028877</td>\n",
              "      <td>-0.107910</td>\n",
              "      <td>-0.027445</td>\n",
              "      <td>-0.25695</td>\n",
              "      <td>0.046686</td>\n",
              "      <td>0.23087</td>\n",
              "      <td>-0.076458</td>\n",
              "      <td>0.271270</td>\n",
              "      <td>0.251850</td>\n",
              "      <td>0.054947</td>\n",
              "      <td>-0.366730</td>\n",
              "      <td>-0.386030</td>\n",
              "      <td>0.302900</td>\n",
              "      <td>0.015747</td>\n",
              "      <td>0.340360</td>\n",
              "      <td>0.478410</td>\n",
              "      <td>0.068617</td>\n",
              "      <td>0.183510</td>\n",
              "      <td>-0.291830</td>\n",
              "      <td>-0.046533</td>\n",
              "    </tr>\n",
              "    <tr>\n",
              "      <th>to</th>\n",
              "      <td>-0.257560</td>\n",
              "      <td>-0.057132</td>\n",
              "      <td>-0.671900</td>\n",
              "      <td>-0.380820</td>\n",
              "      <td>-0.364210</td>\n",
              "      <td>-0.082155</td>\n",
              "      <td>-0.010955</td>\n",
              "      <td>-0.082047</td>\n",
              "      <td>0.460560</td>\n",
              "      <td>-1.8477</td>\n",
              "      <td>-0.11258</td>\n",
              "      <td>-0.129550</td>\n",
              "      <td>0.272540</td>\n",
              "      <td>0.007289</td>\n",
              "      <td>0.260380</td>\n",
              "      <td>0.120960</td>\n",
              "      <td>-0.231930</td>\n",
              "      <td>0.032260</td>\n",
              "      <td>-0.294720</td>\n",
              "      <td>-0.675940</td>\n",
              "      <td>-0.338440</td>\n",
              "      <td>-0.23297</td>\n",
              "      <td>0.110200</td>\n",
              "      <td>0.188160</td>\n",
              "      <td>-0.451840</td>\n",
              "      <td>-0.338330</td>\n",
              "      <td>0.112740</td>\n",
              "      <td>0.494900</td>\n",
              "      <td>-0.042132</td>\n",
              "      <td>0.079961</td>\n",
              "      <td>-0.013146</td>\n",
              "      <td>0.062284</td>\n",
              "      <td>0.20223</td>\n",
              "      <td>0.038279</td>\n",
              "      <td>-1.11540</td>\n",
              "      <td>-0.121400</td>\n",
              "      <td>0.089846</td>\n",
              "      <td>0.297020</td>\n",
              "      <td>-0.055794</td>\n",
              "      <td>-0.460210</td>\n",
              "      <td>...</td>\n",
              "      <td>0.327080</td>\n",
              "      <td>-0.520490</td>\n",
              "      <td>0.037555</td>\n",
              "      <td>0.023667</td>\n",
              "      <td>-0.068237</td>\n",
              "      <td>-0.229160</td>\n",
              "      <td>0.017755</td>\n",
              "      <td>-0.183940</td>\n",
              "      <td>0.551070</td>\n",
              "      <td>-0.239650</td>\n",
              "      <td>0.391870</td>\n",
              "      <td>-0.017785</td>\n",
              "      <td>0.431130</td>\n",
              "      <td>0.27181</td>\n",
              "      <td>-0.16043</td>\n",
              "      <td>-0.347000</td>\n",
              "      <td>-2.4194</td>\n",
              "      <td>-0.028952</td>\n",
              "      <td>0.95085</td>\n",
              "      <td>0.058040</td>\n",
              "      <td>-0.236230</td>\n",
              "      <td>0.189140</td>\n",
              "      <td>0.311920</td>\n",
              "      <td>0.23064</td>\n",
              "      <td>-0.303090</td>\n",
              "      <td>-0.18603</td>\n",
              "      <td>0.076180</td>\n",
              "      <td>0.373370</td>\n",
              "      <td>-0.144440</td>\n",
              "      <td>-0.028793</td>\n",
              "      <td>-0.012806</td>\n",
              "      <td>-0.597070</td>\n",
              "      <td>0.317340</td>\n",
              "      <td>-0.252670</td>\n",
              "      <td>0.543840</td>\n",
              "      <td>0.063007</td>\n",
              "      <td>-0.049795</td>\n",
              "      <td>-0.160430</td>\n",
              "      <td>0.046744</td>\n",
              "      <td>-0.070621</td>\n",
              "    </tr>\n",
              "  </tbody>\n",
              "</table>\n",
              "<p>5 rows × 300 columns</p>\n",
              "</div>"
            ],
            "text/plain": [
              "          1         2         3    ...       298       299       300\n",
              "0                                  ...                              \n",
              "the  0.046560  0.213180 -0.007436  ...  0.009061 -0.209890  0.053913\n",
              ",   -0.255390 -0.257230  0.131690  ... -0.232900 -0.122260  0.354990\n",
              ".   -0.125590  0.013630  0.103060  ... -0.342240 -0.022394  0.136840\n",
              "of  -0.076947 -0.021211  0.212710  ...  0.183510 -0.291830 -0.046533\n",
              "to  -0.257560 -0.057132 -0.671900  ... -0.160430  0.046744 -0.070621\n",
              "\n",
              "[5 rows x 300 columns]"
            ]
          },
          "metadata": {
            "tags": []
          },
          "execution_count": 47
        }
      ]
    },
    {
      "cell_type": "code",
      "metadata": {
        "id": "tcSykE6gcAuq",
        "colab_type": "code",
        "colab": {}
      },
      "source": [
        "glove_mat = glove_df.values\n",
        "glove_keys = {k:v for k,v in zip(glove_df.index, range(glove_df.shape[0]))}\n",
        "idx2word = {v:k for k,v in glove_keys.items()}"
      ],
      "execution_count": 0,
      "outputs": []
    },
    {
      "cell_type": "code",
      "metadata": {
        "id": "WHqTCnIkcUeD",
        "colab_type": "code",
        "colab": {}
      },
      "source": [
        "del glove_df"
      ],
      "execution_count": 0,
      "outputs": []
    },
    {
      "cell_type": "code",
      "metadata": {
        "id": "LD0YSKYNcWEU",
        "colab_type": "code",
        "colab": {
          "base_uri": "https://localhost:8080/",
          "height": 1000
        },
        "outputId": "8abfea8b-a9dc-4442-dc09-38a0306226e5"
      },
      "source": [
        "%%time\n",
        "glove_mat[glove_keys['queen']]"
      ],
      "execution_count": 50,
      "outputs": [
        {
          "output_type": "stream",
          "text": [
            "CPU times: user 18 µs, sys: 0 ns, total: 18 µs\n",
            "Wall time: 22.6 µs\n"
          ],
          "name": "stdout"
        },
        {
          "output_type": "execute_result",
          "data": {
            "text/plain": [
              "array([-2.2184e-01,  6.4884e-02, -8.6365e-02,  5.1279e-01,  3.2543e-01,\n",
              "       -1.2934e-01,  8.3160e-02,  9.1629e-02, -3.0858e-01, -9.4149e-01,\n",
              "       -8.8608e-02, -1.0847e-01,  2.1129e-01,  7.0052e-01,  2.6751e-01,\n",
              "       -4.0477e-02,  1.7364e-01, -3.0757e-01, -5.2120e-02, -1.7512e-01,\n",
              "       -8.4090e-01,  1.9205e-01, -1.3806e-01,  3.8520e-01,  2.7247e-01,\n",
              "       -1.7401e-01, -4.6626e-01, -2.4944e-02,  9.6500e-02,  3.0107e-01,\n",
              "        1.8020e-01, -6.8892e-02, -2.0452e-01,  3.5746e-01, -2.8313e-01,\n",
              "        2.8063e-01, -1.1503e-02,  1.0674e-01, -2.4369e-01, -1.7907e-01,\n",
              "       -1.3202e-01, -1.7021e-01, -5.9409e-01,  9.5749e-01,  2.0384e-01,\n",
              "       -4.2887e-02,  6.0685e-01, -6.8825e-02,  5.2273e-01, -5.4755e-01,\n",
              "       -5.4525e-01,  4.3453e-01,  4.4516e-01, -2.5659e-02, -1.1531e-01,\n",
              "       -1.8587e-01,  3.6080e-01, -2.5104e-01,  7.2084e-01, -5.8240e-02,\n",
              "        3.4400e-01,  4.7188e-01,  2.0461e-01,  6.9993e-01,  4.8738e-01,\n",
              "       -9.0267e-01, -1.0382e-01,  1.2704e-01, -4.1078e-01,  4.0384e-01,\n",
              "        9.6410e-02,  3.3173e-01,  7.0018e-02, -1.9735e-01,  1.5903e-01,\n",
              "        9.7236e-02,  5.5790e-01, -5.4857e-01,  9.1887e-02,  2.3397e-01,\n",
              "        3.9486e-01, -1.0993e-01,  1.0648e-01, -2.5844e-01,  5.5624e-01,\n",
              "       -5.3970e-01,  1.0160e-01, -3.3093e-02,  1.0949e-01, -4.4593e-01,\n",
              "        2.2759e-01, -4.2394e-01,  7.9741e-02, -4.3659e-01, -2.0300e-01,\n",
              "       -4.2155e-01,  5.2501e-01, -1.3325e-01, -4.7647e-02, -5.5514e-01,\n",
              "        2.7313e-01, -3.6058e-01,  3.9217e-01,  6.3712e-02,  1.9537e-01,\n",
              "        4.2702e-01,  5.9883e-02,  1.0991e-01,  4.9734e-02,  2.8878e-01,\n",
              "        2.8826e-01,  6.8495e-01,  4.1031e-01, -2.5327e-01,  5.9437e-02,\n",
              "       -1.7610e-01,  8.5954e-02,  1.6996e-01, -8.3400e-02, -5.7049e-01,\n",
              "       -7.1907e-01,  7.0347e-01, -3.7878e-01, -4.7651e-01, -9.7319e-02,\n",
              "        1.4046e-01, -1.8743e-02, -1.4805e-01,  4.8686e-01,  4.4781e-01,\n",
              "        5.7390e-01,  5.4020e-01, -1.3905e-01, -1.4129e-01,  1.9411e-01,\n",
              "       -8.7851e-03, -2.3293e-01,  5.1349e-02, -4.2881e-01,  5.8398e-01,\n",
              "        2.0918e-01,  7.5124e-01, -6.6115e-01, -1.5127e-01,  2.0170e-01,\n",
              "       -5.4020e-01,  4.1303e-01,  3.6115e-01, -3.8199e-01, -3.8997e-01,\n",
              "        1.5415e-01, -2.1134e-01, -5.6198e-01,  5.1930e-01,  2.2430e-01,\n",
              "        5.5390e-01,  5.7824e-02, -4.3428e-01,  8.7064e-02, -5.5141e-01,\n",
              "        5.8216e-01,  8.2845e-01,  5.0565e-01,  1.4649e-01, -3.6045e-01,\n",
              "        8.2490e-01, -2.5254e-01,  6.6615e-01,  3.2949e-01,  3.8154e-01,\n",
              "       -5.1031e-01,  9.0783e-01, -6.7226e-02, -6.2108e-01, -2.2863e-01,\n",
              "        3.0936e-01, -2.1678e-01, -8.6860e-02, -2.7449e-01,  2.1552e-01,\n",
              "       -1.7032e-01,  3.6406e-01,  3.9852e-01, -1.6566e-01,  4.3411e-01,\n",
              "       -4.0548e-01, -1.9907e-01,  5.3835e-01, -3.2752e-01, -7.6328e-01,\n",
              "       -4.2558e-01, -1.0101e-01, -3.4878e-01, -7.1560e-01, -5.3603e-02,\n",
              "        5.1620e-01,  5.3542e-02, -5.1026e-01, -1.8184e-01, -3.6726e-01,\n",
              "        1.8552e+00, -5.6669e-01, -2.9214e-01,  2.7065e-01,  5.1873e-01,\n",
              "       -6.2641e-01,  4.3802e-01,  4.2792e-02,  3.2292e-01, -1.9796e-01,\n",
              "       -1.5116e-01, -1.2337e-01,  1.6066e-01, -2.7202e-01, -1.2558e-01,\n",
              "       -2.0355e-01, -1.3273e-02, -9.0037e-01, -3.6197e-02, -4.4949e-01,\n",
              "        5.0578e-02, -2.2396e-01,  2.8727e-01,  4.4153e-01, -8.0729e-01,\n",
              "        1.0861e-01, -8.0332e-04,  6.4491e-02,  1.1235e-02,  5.3375e-01,\n",
              "       -5.8540e-01,  3.4119e-01, -6.8075e-02,  1.0167e-01,  4.0207e-02,\n",
              "        3.3076e-01,  1.0610e-01,  3.8180e-01, -3.2353e-02,  6.5516e-02,\n",
              "       -3.2452e-01,  5.8150e-01,  4.7800e-01,  2.6177e-01, -2.2771e-01,\n",
              "        4.5153e-01, -4.2122e-01, -5.9730e-01,  2.8305e-01,  4.7875e-01,\n",
              "       -1.9059e-01,  1.5642e-01,  2.2882e-01, -3.1700e-01,  6.0575e-01,\n",
              "       -4.3283e-01,  3.3706e-01, -1.7907e-01,  5.0241e-01, -7.7599e-01,\n",
              "        8.3968e-02, -6.0968e-01,  9.5526e-02,  7.2448e-01, -1.7796e-01,\n",
              "        5.6241e-02, -2.9491e-01, -6.9536e-01,  4.9126e-01,  5.1395e-02,\n",
              "        5.1029e-01, -4.2161e-01,  4.2673e-01, -2.8271e-01,  1.0129e-02,\n",
              "        1.7145e-01, -9.2244e-01, -3.1237e-01,  2.4198e-01, -2.3070e-01,\n",
              "        1.6144e-01,  3.6125e-01, -1.4644e-01, -2.0540e-01, -8.6869e-01,\n",
              "        2.2820e-01, -2.9150e-01,  5.0015e-01, -1.5411e-01, -3.3083e-01,\n",
              "        6.9766e-01, -2.8740e-01, -5.0032e-01,  1.1975e-01, -1.7529e-01,\n",
              "       -3.1923e-01,  1.9985e-01,  2.5230e-01,  1.7340e-01,  6.3594e-01])"
            ]
          },
          "metadata": {
            "tags": []
          },
          "execution_count": 50
        }
      ]
    },
    {
      "cell_type": "code",
      "metadata": {
        "id": "oGZnnHz4cYwp",
        "colab_type": "code",
        "colab": {}
      },
      "source": [
        "from sklearn.decomposition import PCA\n",
        "from sklearn.preprocessing import StandardScaler\n",
        "from sklearn.pipeline import Pipeline"
      ],
      "execution_count": 0,
      "outputs": []
    },
    {
      "cell_type": "code",
      "metadata": {
        "id": "cUDtdeN_cmZT",
        "colab_type": "code",
        "colab": {
          "base_uri": "https://localhost:8080/",
          "height": 207
        },
        "outputId": "d0771bd0-ec17-4fcc-f87b-8ae5b90a6d47"
      },
      "source": [
        "!pip install annoy"
      ],
      "execution_count": 54,
      "outputs": [
        {
          "output_type": "stream",
          "text": [
            "Collecting annoy\n",
            "\u001b[?25l  Downloading https://files.pythonhosted.org/packages/03/4d/5bfeb440265e5b1ae77388d67ea453403bbab1a6fb9b53cdfd3d76b5c320/annoy-1.16.0.tar.gz (636kB)\n",
            "\r\u001b[K     |▌                               | 10kB 13.8MB/s eta 0:00:01\r\u001b[K     |█                               | 20kB 1.8MB/s eta 0:00:01\r\u001b[K     |█▌                              | 30kB 2.6MB/s eta 0:00:01\r\u001b[K     |██                              | 40kB 1.7MB/s eta 0:00:01\r\u001b[K     |██▋                             | 51kB 2.1MB/s eta 0:00:01\r\u001b[K     |███                             | 61kB 2.5MB/s eta 0:00:01\r\u001b[K     |███▋                            | 71kB 2.9MB/s eta 0:00:01\r\u001b[K     |████▏                           | 81kB 3.3MB/s eta 0:00:01\r\u001b[K     |████▋                           | 92kB 3.7MB/s eta 0:00:01\r\u001b[K     |█████▏                          | 102kB 2.8MB/s eta 0:00:01\r\u001b[K     |█████▋                          | 112kB 2.8MB/s eta 0:00:01\r\u001b[K     |██████▏                         | 122kB 2.8MB/s eta 0:00:01\r\u001b[K     |██████▊                         | 133kB 2.8MB/s eta 0:00:01\r\u001b[K     |███████▏                        | 143kB 2.8MB/s eta 0:00:01\r\u001b[K     |███████▊                        | 153kB 2.8MB/s eta 0:00:01\r\u001b[K     |████████▎                       | 163kB 2.8MB/s eta 0:00:01\r\u001b[K     |████████▊                       | 174kB 2.8MB/s eta 0:00:01\r\u001b[K     |█████████▎                      | 184kB 2.8MB/s eta 0:00:01\r\u001b[K     |█████████▊                      | 194kB 2.8MB/s eta 0:00:01\r\u001b[K     |██████████▎                     | 204kB 2.8MB/s eta 0:00:01\r\u001b[K     |██████████▉                     | 215kB 2.8MB/s eta 0:00:01\r\u001b[K     |███████████▎                    | 225kB 2.8MB/s eta 0:00:01\r\u001b[K     |███████████▉                    | 235kB 2.8MB/s eta 0:00:01\r\u001b[K     |████████████▍                   | 245kB 2.8MB/s eta 0:00:01\r\u001b[K     |████████████▉                   | 256kB 2.8MB/s eta 0:00:01\r\u001b[K     |█████████████▍                  | 266kB 2.8MB/s eta 0:00:01\r\u001b[K     |██████████████                  | 276kB 2.8MB/s eta 0:00:01\r\u001b[K     |██████████████▍                 | 286kB 2.8MB/s eta 0:00:01\r\u001b[K     |███████████████                 | 296kB 2.8MB/s eta 0:00:01\r\u001b[K     |███████████████▍                | 307kB 2.8MB/s eta 0:00:01\r\u001b[K     |████████████████                | 317kB 2.8MB/s eta 0:00:01\r\u001b[K     |████████████████▌               | 327kB 2.8MB/s eta 0:00:01\r\u001b[K     |█████████████████               | 337kB 2.8MB/s eta 0:00:01\r\u001b[K     |█████████████████▌              | 348kB 2.8MB/s eta 0:00:01\r\u001b[K     |██████████████████              | 358kB 2.8MB/s eta 0:00:01\r\u001b[K     |██████████████████▌             | 368kB 2.8MB/s eta 0:00:01\r\u001b[K     |███████████████████             | 378kB 2.8MB/s eta 0:00:01\r\u001b[K     |███████████████████▌            | 389kB 2.8MB/s eta 0:00:01\r\u001b[K     |████████████████████            | 399kB 2.8MB/s eta 0:00:01\r\u001b[K     |████████████████████▋           | 409kB 2.8MB/s eta 0:00:01\r\u001b[K     |█████████████████████           | 419kB 2.8MB/s eta 0:00:01\r\u001b[K     |█████████████████████▋          | 430kB 2.8MB/s eta 0:00:01\r\u001b[K     |██████████████████████▏         | 440kB 2.8MB/s eta 0:00:01\r\u001b[K     |██████████████████████▋         | 450kB 2.8MB/s eta 0:00:01\r\u001b[K     |███████████████████████▏        | 460kB 2.8MB/s eta 0:00:01\r\u001b[K     |███████████████████████▊        | 471kB 2.8MB/s eta 0:00:01\r\u001b[K     |████████████████████████▏       | 481kB 2.8MB/s eta 0:00:01\r\u001b[K     |████████████████████████▊       | 491kB 2.8MB/s eta 0:00:01\r\u001b[K     |█████████████████████████▏      | 501kB 2.8MB/s eta 0:00:01\r\u001b[K     |█████████████████████████▊      | 512kB 2.8MB/s eta 0:00:01\r\u001b[K     |██████████████████████████▎     | 522kB 2.8MB/s eta 0:00:01\r\u001b[K     |██████████████████████████▊     | 532kB 2.8MB/s eta 0:00:01\r\u001b[K     |███████████████████████████▎    | 542kB 2.8MB/s eta 0:00:01\r\u001b[K     |███████████████████████████▉    | 552kB 2.8MB/s eta 0:00:01\r\u001b[K     |████████████████████████████▎   | 563kB 2.8MB/s eta 0:00:01\r\u001b[K     |████████████████████████████▉   | 573kB 2.8MB/s eta 0:00:01\r\u001b[K     |█████████████████████████████▎  | 583kB 2.8MB/s eta 0:00:01\r\u001b[K     |█████████████████████████████▉  | 593kB 2.8MB/s eta 0:00:01\r\u001b[K     |██████████████████████████████▍ | 604kB 2.8MB/s eta 0:00:01\r\u001b[K     |██████████████████████████████▉ | 614kB 2.8MB/s eta 0:00:01\r\u001b[K     |███████████████████████████████▍| 624kB 2.8MB/s eta 0:00:01\r\u001b[K     |████████████████████████████████| 634kB 2.8MB/s eta 0:00:01\r\u001b[K     |████████████████████████████████| 645kB 2.8MB/s \n",
            "\u001b[?25hBuilding wheels for collected packages: annoy\n",
            "  Building wheel for annoy (setup.py) ... \u001b[?25l\u001b[?25hdone\n",
            "  Created wheel for annoy: filename=annoy-1.16.0-cp36-cp36m-linux_x86_64.whl size=309742 sha256=7bf843634e4cf276e21155663d8a5fdb75257b62178c8985f41b5e70e91844bd\n",
            "  Stored in directory: /root/.cache/pip/wheels/39/34/9c/8d8eb3abce9375bade7b42bca387700b5f3aa18414d27272f0\n",
            "Successfully built annoy\n",
            "Installing collected packages: annoy\n",
            "Successfully installed annoy-1.16.0\n"
          ],
          "name": "stdout"
        }
      ]
    },
    {
      "cell_type": "code",
      "metadata": {
        "id": "laymPX57lojA",
        "colab_type": "code",
        "colab": {}
      },
      "source": [
        "import spacy"
      ],
      "execution_count": 0,
      "outputs": []
    },
    {
      "cell_type": "code",
      "metadata": {
        "id": "S8cJ28w0pvd3",
        "colab_type": "code",
        "colab": {}
      },
      "source": [
        "from spacy.lang.en import English"
      ],
      "execution_count": 0,
      "outputs": []
    },
    {
      "cell_type": "code",
      "metadata": {
        "id": "wApeUwRaqlG-",
        "colab_type": "code",
        "colab": {}
      },
      "source": [
        "nlp = English()"
      ],
      "execution_count": 0,
      "outputs": []
    },
    {
      "cell_type": "code",
      "metadata": {
        "id": "8nwmaXIqqfLn",
        "colab_type": "code",
        "colab": {}
      },
      "source": [
        "doc = nlp(\"I like tree kangaroos and narwhals.\")"
      ],
      "execution_count": 0,
      "outputs": []
    },
    {
      "cell_type": "code",
      "metadata": {
        "id": "M8NaKWnLqilv",
        "colab_type": "code",
        "colab": {
          "base_uri": "https://localhost:8080/",
          "height": 34
        },
        "outputId": "c1a44669-6d4d-4f79-fc30-42d4ffb4fe53"
      },
      "source": [
        "list(doc)"
      ],
      "execution_count": 61,
      "outputs": [
        {
          "output_type": "execute_result",
          "data": {
            "text/plain": [
              "[I, like, tree, kangaroos, and, narwhals, .]"
            ]
          },
          "metadata": {
            "tags": []
          },
          "execution_count": 61
        }
      ]
    },
    {
      "cell_type": "code",
      "metadata": {
        "id": "wD39WlOiqnKt",
        "colab_type": "code",
        "colab": {
          "base_uri": "https://localhost:8080/",
          "height": 34
        },
        "outputId": "0181edc3-8c27-4482-82cc-10805a465957"
      },
      "source": [
        "!pwd"
      ],
      "execution_count": 62,
      "outputs": [
        {
          "output_type": "stream",
          "text": [
            "/content/glove\n"
          ],
          "name": "stdout"
        }
      ]
    },
    {
      "cell_type": "code",
      "metadata": {
        "id": "9RjZxgimrC15",
        "colab_type": "code",
        "colab": {
          "base_uri": "https://localhost:8080/",
          "height": 204
        },
        "outputId": "9fd1f872-b449-489c-fa6e-2b36ec0e3037"
      },
      "source": [
        "!wget https://s3.amazonaws.com/fast-ai-nlp/yelp_review_polarity_csv.tgz"
      ],
      "execution_count": 64,
      "outputs": [
        {
          "output_type": "stream",
          "text": [
            "--2019-08-03 08:50:51--  https://s3.amazonaws.com/fast-ai-nlp/yelp_review_polarity_csv.tgz\n",
            "Resolving s3.amazonaws.com (s3.amazonaws.com)... 52.216.136.37\n",
            "Connecting to s3.amazonaws.com (s3.amazonaws.com)|52.216.136.37|:443... connected.\n",
            "HTTP request sent, awaiting response... 200 OK\n",
            "Length: 166373201 (159M) [application/x-tar]\n",
            "Saving to: ‘yelp_review_polarity_csv.tgz’\n",
            "\n",
            "yelp_review_polarit 100%[===================>] 158.67M  49.2MB/s    in 3.5s    \n",
            "\n",
            "2019-08-03 08:50:55 (45.2 MB/s) - ‘yelp_review_polarity_csv.tgz’ saved [166373201/166373201]\n",
            "\n"
          ],
          "name": "stdout"
        }
      ]
    },
    {
      "cell_type": "code",
      "metadata": {
        "id": "cwrApsEjrHjO",
        "colab_type": "code",
        "colab": {
          "base_uri": "https://localhost:8080/",
          "height": 85
        },
        "outputId": "b8ef8829-b1ff-4c14-8a8f-069263f29db4"
      },
      "source": [
        "!tar xvfz yelp_review_polarity_csv.tgz"
      ],
      "execution_count": 65,
      "outputs": [
        {
          "output_type": "stream",
          "text": [
            "yelp_review_polarity_csv/\n",
            "yelp_review_polarity_csv/train.csv\n",
            "yelp_review_polarity_csv/readme.txt\n",
            "yelp_review_polarity_csv/test.csv\n"
          ],
          "name": "stdout"
        }
      ]
    },
    {
      "cell_type": "code",
      "metadata": {
        "id": "QLoOiVuUrQQX",
        "colab_type": "code",
        "colab": {
          "base_uri": "https://localhost:8080/",
          "height": 34
        },
        "outputId": "8728c0d3-101c-4680-a600-bf1591469185"
      },
      "source": [
        "%cd .."
      ],
      "execution_count": 66,
      "outputs": [
        {
          "output_type": "stream",
          "text": [
            "/content\n"
          ],
          "name": "stdout"
        }
      ]
    },
    {
      "cell_type": "code",
      "metadata": {
        "id": "sBXvwSKBsgh4",
        "colab_type": "code",
        "colab": {
          "base_uri": "https://localhost:8080/",
          "height": 34
        },
        "outputId": "04fb015e-fd02-4914-d936-fa9d1ee4e1cb"
      },
      "source": [
        "!pwd"
      ],
      "execution_count": 67,
      "outputs": [
        {
          "output_type": "stream",
          "text": [
            "/content\n"
          ],
          "name": "stdout"
        }
      ]
    },
    {
      "cell_type": "code",
      "metadata": {
        "id": "ErglIIgmshPE",
        "colab_type": "code",
        "colab": {
          "base_uri": "https://localhost:8080/",
          "height": 34
        },
        "outputId": "456992c8-7b13-4fec-a4a6-35de9802d791"
      },
      "source": [
        "!ls"
      ],
      "execution_count": 68,
      "outputs": [
        {
          "output_type": "stream",
          "text": [
            "glove  sample_data\n"
          ],
          "name": "stdout"
        }
      ]
    },
    {
      "cell_type": "code",
      "metadata": {
        "id": "4pRonBmMsi4Y",
        "colab_type": "code",
        "colab": {}
      },
      "source": [
        "!mv glove deep-nlu-data"
      ],
      "execution_count": 0,
      "outputs": []
    },
    {
      "cell_type": "code",
      "metadata": {
        "id": "up0flJpnsvBi",
        "colab_type": "code",
        "colab": {}
      },
      "source": [
        "import torch"
      ],
      "execution_count": 0,
      "outputs": []
    },
    {
      "cell_type": "code",
      "metadata": {
        "id": "EBAkHdZqs56G",
        "colab_type": "code",
        "colab": {
          "base_uri": "https://localhost:8080/",
          "height": 34
        },
        "outputId": "36bcb720-65aa-4fc0-88d5-13e77731d3ea"
      },
      "source": [
        "torch.__version__"
      ],
      "execution_count": 71,
      "outputs": [
        {
          "output_type": "execute_result",
          "data": {
            "text/plain": [
              "'1.1.0'"
            ]
          },
          "metadata": {
            "tags": []
          },
          "execution_count": 71
        }
      ]
    },
    {
      "cell_type": "code",
      "metadata": {
        "id": "yRTzEMlZs7cV",
        "colab_type": "code",
        "colab": {
          "base_uri": "https://localhost:8080/",
          "height": 34
        },
        "outputId": "5841ee27-6e3b-4bc4-b8ac-3cc6333f6e10"
      },
      "source": [
        "%cd deep-nlu-data/yelp_review_polarity_csv/"
      ],
      "execution_count": 72,
      "outputs": [
        {
          "output_type": "stream",
          "text": [
            "/content/deep-nlu-data/yelp_review_polarity_csv\n"
          ],
          "name": "stdout"
        }
      ]
    },
    {
      "cell_type": "code",
      "metadata": {
        "id": "TRWB74gJtsMy",
        "colab_type": "code",
        "colab": {}
      },
      "source": [
        "train_df = pd.read_csv(\"./train.csv\")"
      ],
      "execution_count": 0,
      "outputs": []
    },
    {
      "cell_type": "code",
      "metadata": {
        "id": "gByZqQbxtwjP",
        "colab_type": "code",
        "colab": {
          "base_uri": "https://localhost:8080/",
          "height": 34
        },
        "outputId": "de7c3939-0ae8-4079-8543-7750fabd8c12"
      },
      "source": [
        "train_df.shape"
      ],
      "execution_count": 74,
      "outputs": [
        {
          "output_type": "execute_result",
          "data": {
            "text/plain": [
              "(559999, 2)"
            ]
          },
          "metadata": {
            "tags": []
          },
          "execution_count": 74
        }
      ]
    },
    {
      "cell_type": "code",
      "metadata": {
        "id": "uKcritDBur9R",
        "colab_type": "code",
        "colab": {}
      },
      "source": [
        ""
      ],
      "execution_count": 0,
      "outputs": []
    }
  ]
}