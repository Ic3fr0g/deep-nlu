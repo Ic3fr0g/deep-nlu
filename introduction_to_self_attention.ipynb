{
  "nbformat": 4,
  "nbformat_minor": 0,
  "metadata": {
    "colab": {
      "name": "introduction_to_self_attention.ipynb",
      "provenance": [],
      "collapsed_sections": [],
      "include_colab_link": true
    },
    "kernelspec": {
      "name": "python3",
      "display_name": "Python 3"
    },
    "accelerator": "GPU",
    "widgets": {
      "application/vnd.jupyter.widget-state+json": {
        "a4d799ce14a743f5b2818080b04e3036": {
          "model_module": "@jupyter-widgets/controls",
          "model_name": "HBoxModel",
          "state": {
            "_view_name": "HBoxView",
            "_dom_classes": [],
            "_model_name": "HBoxModel",
            "_view_module": "@jupyter-widgets/controls",
            "_model_module_version": "1.5.0",
            "_view_count": null,
            "_view_module_version": "1.5.0",
            "box_style": "",
            "layout": "IPY_MODEL_ef7ebf39da6a477fbd041319b51dfa45",
            "_model_module": "@jupyter-widgets/controls",
            "children": [
              "IPY_MODEL_0e3b24384c8e4d44ace87cdba9463211",
              "IPY_MODEL_00694f4d118c46af93617501e47e0cff"
            ]
          }
        },
        "ef7ebf39da6a477fbd041319b51dfa45": {
          "model_module": "@jupyter-widgets/base",
          "model_name": "LayoutModel",
          "state": {
            "_view_name": "LayoutView",
            "grid_template_rows": null,
            "right": null,
            "justify_content": null,
            "_view_module": "@jupyter-widgets/base",
            "overflow": null,
            "_model_module_version": "1.2.0",
            "_view_count": null,
            "flex_flow": null,
            "width": null,
            "min_width": null,
            "border": null,
            "align_items": null,
            "bottom": null,
            "_model_module": "@jupyter-widgets/base",
            "top": null,
            "grid_column": null,
            "overflow_y": null,
            "overflow_x": null,
            "grid_auto_flow": null,
            "grid_area": null,
            "grid_template_columns": null,
            "flex": null,
            "_model_name": "LayoutModel",
            "justify_items": null,
            "grid_row": null,
            "max_height": null,
            "align_content": null,
            "visibility": null,
            "align_self": null,
            "height": null,
            "min_height": null,
            "padding": null,
            "grid_auto_rows": null,
            "grid_gap": null,
            "max_width": null,
            "order": null,
            "_view_module_version": "1.2.0",
            "grid_template_areas": null,
            "object_position": null,
            "object_fit": null,
            "grid_auto_columns": null,
            "margin": null,
            "display": null,
            "left": null
          }
        },
        "0e3b24384c8e4d44ace87cdba9463211": {
          "model_module": "@jupyter-widgets/controls",
          "model_name": "IntProgressModel",
          "state": {
            "_view_name": "ProgressView",
            "style": "IPY_MODEL_8f7e7b081bc949258bb962651d1a260f",
            "_dom_classes": [],
            "description": "",
            "_model_name": "IntProgressModel",
            "bar_style": "success",
            "max": 10,
            "_view_module": "@jupyter-widgets/controls",
            "_model_module_version": "1.5.0",
            "value": 10,
            "_view_count": null,
            "_view_module_version": "1.5.0",
            "orientation": "horizontal",
            "min": 0,
            "description_tooltip": null,
            "_model_module": "@jupyter-widgets/controls",
            "layout": "IPY_MODEL_cff9705d8ada464ca29504195a803762"
          }
        },
        "00694f4d118c46af93617501e47e0cff": {
          "model_module": "@jupyter-widgets/controls",
          "model_name": "HTMLModel",
          "state": {
            "_view_name": "HTMLView",
            "style": "IPY_MODEL_e731365f482b47038dcbda897812a1e3",
            "_dom_classes": [],
            "description": "",
            "_model_name": "HTMLModel",
            "placeholder": "​",
            "_view_module": "@jupyter-widgets/controls",
            "_model_module_version": "1.5.0",
            "value": "100% 10/10 [00:24&lt;00:00,  2.48s/it]",
            "_view_count": null,
            "_view_module_version": "1.5.0",
            "description_tooltip": null,
            "_model_module": "@jupyter-widgets/controls",
            "layout": "IPY_MODEL_59e625a1084e42d59754cc26fc0173e1"
          }
        },
        "8f7e7b081bc949258bb962651d1a260f": {
          "model_module": "@jupyter-widgets/controls",
          "model_name": "ProgressStyleModel",
          "state": {
            "_view_name": "StyleView",
            "_model_name": "ProgressStyleModel",
            "description_width": "",
            "_view_module": "@jupyter-widgets/base",
            "_model_module_version": "1.5.0",
            "_view_count": null,
            "_view_module_version": "1.2.0",
            "bar_color": null,
            "_model_module": "@jupyter-widgets/controls"
          }
        },
        "cff9705d8ada464ca29504195a803762": {
          "model_module": "@jupyter-widgets/base",
          "model_name": "LayoutModel",
          "state": {
            "_view_name": "LayoutView",
            "grid_template_rows": null,
            "right": null,
            "justify_content": null,
            "_view_module": "@jupyter-widgets/base",
            "overflow": null,
            "_model_module_version": "1.2.0",
            "_view_count": null,
            "flex_flow": null,
            "width": null,
            "min_width": null,
            "border": null,
            "align_items": null,
            "bottom": null,
            "_model_module": "@jupyter-widgets/base",
            "top": null,
            "grid_column": null,
            "overflow_y": null,
            "overflow_x": null,
            "grid_auto_flow": null,
            "grid_area": null,
            "grid_template_columns": null,
            "flex": null,
            "_model_name": "LayoutModel",
            "justify_items": null,
            "grid_row": null,
            "max_height": null,
            "align_content": null,
            "visibility": null,
            "align_self": null,
            "height": null,
            "min_height": null,
            "padding": null,
            "grid_auto_rows": null,
            "grid_gap": null,
            "max_width": null,
            "order": null,
            "_view_module_version": "1.2.0",
            "grid_template_areas": null,
            "object_position": null,
            "object_fit": null,
            "grid_auto_columns": null,
            "margin": null,
            "display": null,
            "left": null
          }
        },
        "e731365f482b47038dcbda897812a1e3": {
          "model_module": "@jupyter-widgets/controls",
          "model_name": "DescriptionStyleModel",
          "state": {
            "_view_name": "StyleView",
            "_model_name": "DescriptionStyleModel",
            "description_width": "",
            "_view_module": "@jupyter-widgets/base",
            "_model_module_version": "1.5.0",
            "_view_count": null,
            "_view_module_version": "1.2.0",
            "_model_module": "@jupyter-widgets/controls"
          }
        },
        "59e625a1084e42d59754cc26fc0173e1": {
          "model_module": "@jupyter-widgets/base",
          "model_name": "LayoutModel",
          "state": {
            "_view_name": "LayoutView",
            "grid_template_rows": null,
            "right": null,
            "justify_content": null,
            "_view_module": "@jupyter-widgets/base",
            "overflow": null,
            "_model_module_version": "1.2.0",
            "_view_count": null,
            "flex_flow": null,
            "width": null,
            "min_width": null,
            "border": null,
            "align_items": null,
            "bottom": null,
            "_model_module": "@jupyter-widgets/base",
            "top": null,
            "grid_column": null,
            "overflow_y": null,
            "overflow_x": null,
            "grid_auto_flow": null,
            "grid_area": null,
            "grid_template_columns": null,
            "flex": null,
            "_model_name": "LayoutModel",
            "justify_items": null,
            "grid_row": null,
            "max_height": null,
            "align_content": null,
            "visibility": null,
            "align_self": null,
            "height": null,
            "min_height": null,
            "padding": null,
            "grid_auto_rows": null,
            "grid_gap": null,
            "max_width": null,
            "order": null,
            "_view_module_version": "1.2.0",
            "grid_template_areas": null,
            "object_position": null,
            "object_fit": null,
            "grid_auto_columns": null,
            "margin": null,
            "display": null,
            "left": null
          }
        }
      }
    }
  },
  "cells": [
    {
      "cell_type": "markdown",
      "metadata": {
        "id": "view-in-github",
        "colab_type": "text"
      },
      "source": [
        "<a href=\"https://colab.research.google.com/github/madhugopinathan/deep-nlu/blob/master/introduction_to_self_attention.ipynb\" target=\"_parent\"><img src=\"https://colab.research.google.com/assets/colab-badge.svg\" alt=\"Open In Colab\"/></a>"
      ]
    },
    {
      "cell_type": "markdown",
      "metadata": {
        "id": "IjVC1jozJO2N",
        "colab_type": "text"
      },
      "source": [
        "# Introduction to Self Attention"
      ]
    },
    {
      "cell_type": "code",
      "metadata": {
        "id": "O-4PNJEvJ6Hb",
        "colab_type": "code",
        "colab": {}
      },
      "source": [
        "import string\n",
        "import numpy as np\n",
        "import pandas as pd\n",
        "%matplotlib inline\n",
        "import matplotlib.pyplot as plt\n",
        "import seaborn as sns"
      ],
      "execution_count": 0,
      "outputs": []
    },
    {
      "cell_type": "code",
      "metadata": {
        "id": "GGuF0mDPQvz0",
        "colab_type": "code",
        "colab": {}
      },
      "source": [
        "from tqdm import tqdm_notebook as tqdm"
      ],
      "execution_count": 0,
      "outputs": []
    },
    {
      "cell_type": "markdown",
      "metadata": {
        "id": "4ngtPQkAQwxt",
        "colab_type": "text"
      },
      "source": [
        "# Problem: Count A, B, |A-B| in a given sequence of A,B,C"
      ]
    },
    {
      "cell_type": "code",
      "metadata": {
        "id": "EadqyMFKQOxi",
        "colab_type": "code",
        "colab": {}
      },
      "source": [
        "def prettify(samples):\n",
        "    samples = samples.reshape(-1, max_len, vocab_size)\n",
        "    idx = np.expand_dims(np.argmax(samples, axis=2), axis=2)\n",
        "    dictionary = np.array(list(string.ascii_uppercase))\n",
        "    return dictionary[idx]"
      ],
      "execution_count": 0,
      "outputs": []
    },
    {
      "cell_type": "code",
      "metadata": {
        "id": "yD7NO0doQb9T",
        "colab_type": "code",
        "colab": {}
      },
      "source": [
        "vocab_size = 3\n",
        "batch_size = 2\n",
        "max_len = 4"
      ],
      "execution_count": 0,
      "outputs": []
    },
    {
      "cell_type": "code",
      "metadata": {
        "id": "z0NcL2_HQgnH",
        "colab_type": "code",
        "colab": {}
      },
      "source": [
        "x = np.eye(vocab_size)[np.random.choice(np.arange(vocab_size), [batch_size, max_len])]"
      ],
      "execution_count": 0,
      "outputs": []
    },
    {
      "cell_type": "code",
      "metadata": {
        "id": "YocH898dQiqV",
        "colab_type": "code",
        "outputId": "e2b28fb8-bd1a-481c-db40-f79c00ba9d72",
        "colab": {
          "base_uri": "https://localhost:8080/",
          "height": 170
        }
      },
      "source": [
        "prettify(x)"
      ],
      "execution_count": 6,
      "outputs": [
        {
          "output_type": "execute_result",
          "data": {
            "text/plain": [
              "array([[['C'],\n",
              "        ['B'],\n",
              "        ['A'],\n",
              "        ['C']],\n",
              "\n",
              "       [['C'],\n",
              "        ['A'],\n",
              "        ['C'],\n",
              "        ['B']]], dtype='<U1')"
            ]
          },
          "metadata": {
            "tags": []
          },
          "execution_count": 6
        }
      ]
    },
    {
      "cell_type": "code",
      "metadata": {
        "id": "iPKhmT6uQksu",
        "colab_type": "code",
        "colab": {}
      },
      "source": [
        "y = x.sum(axis=1)\n",
        "y[:,-1] = np.abs(y[:,0]-y[:,1])"
      ],
      "execution_count": 0,
      "outputs": []
    },
    {
      "cell_type": "code",
      "metadata": {
        "id": "keqemBOFQ5k7",
        "colab_type": "code",
        "outputId": "09c4d23c-2637-44c3-df98-f4677bc99654",
        "colab": {
          "base_uri": "https://localhost:8080/",
          "height": 51
        }
      },
      "source": [
        "y"
      ],
      "execution_count": 8,
      "outputs": [
        {
          "output_type": "execute_result",
          "data": {
            "text/plain": [
              "array([[1., 1., 0.],\n",
              "       [1., 1., 0.]])"
            ]
          },
          "metadata": {
            "tags": []
          },
          "execution_count": 8
        }
      ]
    },
    {
      "cell_type": "markdown",
      "metadata": {
        "id": "lNBQQP1vRGHI",
        "colab_type": "text"
      },
      "source": [
        "## Generate Train / Val / Test"
      ]
    },
    {
      "cell_type": "code",
      "metadata": {
        "id": "oyvAjZ0DRVn2",
        "colab_type": "code",
        "colab": {}
      },
      "source": [
        "import torch\n",
        "from torch import nn"
      ],
      "execution_count": 0,
      "outputs": []
    },
    {
      "cell_type": "code",
      "metadata": {
        "id": "MXVUZotIRLg3",
        "colab_type": "code",
        "colab": {}
      },
      "source": [
        "def get_X_y(vocab_size=3, batch_size=32, max_len=4):\n",
        "    x = np.eye(vocab_size)[np.random.choice(np.arange(vocab_size), [batch_size, max_len])]\n",
        "    xt = torch.from_numpy(x).float()\n",
        "    yt = xt.sum(dim=1).long()\n",
        "    yt[:,-1] = torch.abs(yt[:,0] - yt[:,1])\n",
        "    return xt, yt"
      ],
      "execution_count": 0,
      "outputs": []
    },
    {
      "cell_type": "code",
      "metadata": {
        "id": "JPe45knaRRFD",
        "colab_type": "code",
        "colab": {}
      },
      "source": [
        "vocab_size = 3\n",
        "batch_size = 64\n",
        "max_len = 10\n",
        "\n",
        "train_set = []\n",
        "val_set = []\n",
        "test_set = []\n",
        "\n",
        "for _ in range(1000):\n",
        "    xt, yt = get_X_y(vocab_size=vocab_size, batch_size=batch_size, max_len=max_len)\n",
        "    train_set.append((xt, yt))\n",
        "\n",
        "for _ in range(100):\n",
        "    xt, yt = get_X_y(vocab_size=vocab_size, batch_size=batch_size, max_len=max_len)\n",
        "    val_set.append((xt, yt))\n",
        "\n",
        "for _ in range(100):\n",
        "    xt, yt = get_X_y(vocab_size=vocab_size, batch_size=batch_size, max_len=max_len)\n",
        "    test_set.append((xt, yt))"
      ],
      "execution_count": 0,
      "outputs": []
    },
    {
      "cell_type": "markdown",
      "metadata": {
        "id": "Kh0zT_hSRiJU",
        "colab_type": "text"
      },
      "source": [
        "## Model"
      ]
    },
    {
      "cell_type": "code",
      "metadata": {
        "id": "vubbcSNyRgZD",
        "colab_type": "code",
        "colab": {}
      },
      "source": [
        "class ABDiffCounter(nn.Module):\n",
        "    def __init__(self, vocab_size=3, hidden_size=128, max_len=4, batch_size=32):\n",
        "        super().__init__()\n",
        "        \n",
        "        self.vocab_size = vocab_size\n",
        "        self.hidden_size = hidden_size\n",
        "        \n",
        "        self.tokeys_values = nn.Linear(vocab_size, hidden_size, bias=False)\n",
        "        # b x v x h : v is the second dimension \n",
        "        # because we want a query vector for each element in the vocab\n",
        "        self.query = nn.Parameter(data=torch.ones(batch_size, vocab_size, hidden_size))\n",
        "        \n",
        "        self.layernorm = nn.LayerNorm(self.hidden_size)\n",
        "\n",
        "        # output is a classifier with t+1 classes: if t=4: [0,1,2,3,4]\n",
        "        self.tocounts = nn.Linear(hidden_size, max_len+1)\n",
        "\n",
        "    def attention(self, query, key, value):\n",
        "        # (b x v x h) X (b x h x t) => b x v x t\n",
        "        attn_weights = torch.bmm(query, key.transpose(1,2))\n",
        "        attn_weights = attn_weights / torch.sqrt(torch.tensor(self.hidden_size).float())\n",
        "        \n",
        "        attn_probs = torch.softmax(attn_weights, dim=2)\n",
        "        \n",
        "        # b x v x h\n",
        "        weighted_sum = torch.bmm(attn_probs, value)\n",
        "        \n",
        "        # b x v x h\n",
        "        out = weighted_sum + query\n",
        "        #print(out.size())\n",
        "        #assert out.size() == x.size()\n",
        "        \n",
        "        out = self.layernorm(out)\n",
        "\n",
        "        return attn_probs, out\n",
        "    \n",
        "    def forward(self, x):\n",
        "        b, t, v = x.size()\n",
        "        assert v == self.vocab_size\n",
        "        \n",
        "        # b x v x h\n",
        "        #query = self.toqueries(x.transpose(1,2))\n",
        "        query = self.query\n",
        "        \n",
        "        # b x t x h\n",
        "        keys_values = self.tokeys_values(x)\n",
        "        \n",
        "        attn_probs, out = self.attention(self.query, keys_values, keys_values)\n",
        "\n",
        "        self_attention_probs, out = self.attention(out, out, out)\n",
        "        \n",
        "        # b x v x (t+1)\n",
        "        counts = self.tocounts(out)\n",
        "        return attn_probs, self_attention_probs, counts\n",
        "\n",
        "    \n",
        "    def predict(self, x):\n",
        "        attn_probs, self_attention_probs, counts = self.forward(x)\n",
        "        return attn_probs, self_attention_probs, counts, torch.argmax(counts, dim=2)"
      ],
      "execution_count": 0,
      "outputs": []
    },
    {
      "cell_type": "markdown",
      "metadata": {
        "id": "iU_nyptzScYF",
        "colab_type": "text"
      },
      "source": [
        "## Train Model"
      ]
    },
    {
      "cell_type": "code",
      "metadata": {
        "id": "OTSPX56qSdw-",
        "colab_type": "code",
        "outputId": "fe22cbb3-1fd4-4be8-aecf-4bb54c335b9c",
        "colab": {
          "base_uri": "https://localhost:8080/",
          "height": 66,
          "referenced_widgets": [
            "a4d799ce14a743f5b2818080b04e3036",
            "ef7ebf39da6a477fbd041319b51dfa45",
            "0e3b24384c8e4d44ace87cdba9463211",
            "00694f4d118c46af93617501e47e0cff",
            "8f7e7b081bc949258bb962651d1a260f",
            "cff9705d8ada464ca29504195a803762",
            "e731365f482b47038dcbda897812a1e3",
            "59e625a1084e42d59754cc26fc0173e1"
          ]
        }
      },
      "source": [
        "seed = 42\n",
        "np.random.seed(seed)\n",
        "torch.manual_seed(seed)\n",
        "\n",
        "model = ABDiffCounter(vocab_size=vocab_size, \n",
        "                   max_len=max_len,\n",
        "                   hidden_size=64, \n",
        "                   batch_size=batch_size)\n",
        "opt = torch.optim.Adam(lr=0.01, params=model.parameters())\n",
        "sch = torch.optim.lr_scheduler.LambdaLR(opt, lambda i: min(i / (10000 / 2), 1.0))\n",
        "\n",
        "epoch_train_losses = []\n",
        "epoch_val_losses = []\n",
        "epoch_val_accs = []\n",
        "\n",
        "for e in tqdm(range(10)):\n",
        "    model.train(True)\n",
        "    train_losses = []\n",
        "    for X, y in train_set:\n",
        "        attn_probs, self_attention_probs, counts = model(X)\n",
        "        loss = nn.functional.cross_entropy(counts.permute(0,2,1), y)\n",
        "        train_losses.append(loss.item())\n",
        "        loss.backward()\n",
        "        opt.step()\n",
        "        sch.step()\n",
        "        opt.zero_grad()\n",
        "    epoch_train_losses.append(np.mean(train_losses))\n",
        "    \n",
        "    model.train(False)\n",
        "    val_losses = []\n",
        "    val_accs = []\n",
        "    for X, y in val_set:\n",
        "        with torch.no_grad():\n",
        "            attn_probs, self_attention_probs, counts, y_pred = model.predict(X)\n",
        "            loss = nn.functional.cross_entropy(counts.permute(0,2,1), y)\n",
        "            val_losses.append(loss.item())\n",
        "            acc = (torch.argmax(counts,dim=2) == y).sum().float()/np.prod(y.size())\n",
        "            val_accs.append(acc)\n",
        "    epoch_val_losses.append(np.mean(val_losses))\n",
        "    epoch_val_accs.append(np.mean(val_accs))"
      ],
      "execution_count": 17,
      "outputs": [
        {
          "output_type": "display_data",
          "data": {
            "application/vnd.jupyter.widget-view+json": {
              "model_id": "a4d799ce14a743f5b2818080b04e3036",
              "version_minor": 0,
              "version_major": 2
            },
            "text/plain": [
              "HBox(children=(IntProgress(value=0, max=10), HTML(value='')))"
            ]
          },
          "metadata": {
            "tags": []
          }
        },
        {
          "output_type": "stream",
          "text": [
            "\n"
          ],
          "name": "stdout"
        }
      ]
    },
    {
      "cell_type": "code",
      "metadata": {
        "id": "3AZUcUPRS10j",
        "colab_type": "code",
        "outputId": "839a8fe0-a85d-47e1-d580-ca5387497e37",
        "colab": {
          "base_uri": "https://localhost:8080/",
          "height": 282
        }
      },
      "source": [
        "plt.plot(epoch_val_losses, label='val loss')\n",
        "plt.plot(epoch_train_losses, label='train loss')\n",
        "plt.plot(epoch_val_accs, label='val acc')\n",
        "plt.legend()"
      ],
      "execution_count": 18,
      "outputs": [
        {
          "output_type": "execute_result",
          "data": {
            "text/plain": [
              "<matplotlib.legend.Legend at 0x7f3f91840f60>"
            ]
          },
          "metadata": {
            "tags": []
          },
          "execution_count": 18
        },
        {
          "output_type": "display_data",
          "data": {
            "image/png": "[encoded data removed]",
            "text/plain": [
              "<Figure size 432x288 with 1 Axes>"
            ]
          },
          "metadata": {
            "tags": []
          }
        }
      ]
    },
    {
      "cell_type": "code",
      "metadata": {
        "id": "gb4j0f4jS-XF",
        "colab_type": "code",
        "outputId": "608977a9-f06c-4088-8d0f-dc8f27f65ade",
        "colab": {
          "base_uri": "https://localhost:8080/",
          "height": 187
        }
      },
      "source": [
        "epoch_val_accs"
      ],
      "execution_count": 19,
      "outputs": [
        {
          "output_type": "execute_result",
          "data": {
            "text/plain": [
              "[0.6108854,\n",
              " 0.9359897,\n",
              " 0.9598438,\n",
              " 0.9778647,\n",
              " 0.94713545,\n",
              " 0.9862499,\n",
              " 0.99536455,\n",
              " 0.9948959,\n",
              " 0.9728125,\n",
              " 0.9963021]"
            ]
          },
          "metadata": {
            "tags": []
          },
          "execution_count": 19
        }
      ]
    },
    {
      "cell_type": "code",
      "metadata": {
        "id": "wQe4Q9sSTBep",
        "colab_type": "code",
        "colab": {}
      },
      "source": [
        "def plot_attn():\n",
        "    # choose a random idx\n",
        "    test_bidx = np.random.randint(len(test_set))\n",
        "    \n",
        "    idx = np.random.randint(batch_size)\n",
        "    X, y =test_set[test_bidx]\n",
        "\n",
        "    print(prettify(X[idx]))\n",
        "    \n",
        "    model.train(False)\n",
        "    with torch.no_grad():\n",
        "        attn_probs, self_attention_probs, counts, y_pred = model.predict(X)\n",
        "    print(y[idx])\n",
        "    print(y_pred[idx])\n",
        "    fig, (ax0,ax1) = plt.subplots(ncols=2, figsize=(16,4))\n",
        "\n",
        "    sns.heatmap(attn_probs[idx].detach().numpy(), ax=ax0, \n",
        "                xticklabels=prettify(X[idx]).squeeze(),\n",
        "                yticklabels=['A','B','DIFF'])\n",
        "    sns.heatmap(self_attention_probs[idx].detach().numpy(), ax=ax1,\n",
        "                xticklabels=['A','B','DIFF'],\n",
        "                yticklabels=['A','B','DIFF']\n",
        "               )\n",
        "    ax1.set_aspect('equal')\n",
        "    plt.tight_layout()"
      ],
      "execution_count": 0,
      "outputs": []
    },
    {
      "cell_type": "code",
      "metadata": {
        "id": "TBFy77-XTOMX",
        "colab_type": "code",
        "outputId": "62e3b0be-0023-4216-faa5-ddbde1d045b8",
        "colab": {
          "base_uri": "https://localhost:8080/",
          "height": 501
        }
      },
      "source": [
        "plot_attn()"
      ],
      "execution_count": 25,
      "outputs": [
        {
          "output_type": "stream",
          "text": [
            "[[['C']\n",
            "  ['B']\n",
            "  ['A']\n",
            "  ['B']\n",
            "  ['A']\n",
            "  ['B']\n",
            "  ['C']\n",
            "  ['B']\n",
            "  ['C']\n",
            "  ['A']]]\n",
            "tensor([3, 4, 1])\n",
            "tensor([3, 4, 1])\n"
          ],
          "name": "stdout"
        },
        {
          "output_type": "display_data",
          "data": {
            "image/png": "[encoded data removed]",
            "text/plain": [
              "<Figure size 1152x288 with 4 Axes>"
            ]
          },
          "metadata": {
            "tags": []
          }
        }
      ]
    },
    {
      "cell_type": "markdown",
      "metadata": {
        "id": "0eHOQU2MNAjA",
        "colab_type": "text"
      },
      "source": [
        "# References\n",
        "\n",
        "1. [Neural Machine Translation by Jointly Learning to Align and Translate, Bahdanau et. al.](https://arxiv.org/abs/1409.0473)\n",
        "1. [Effective Approaches to Attention-based Neural Machine Translation, Luong et. al.](https://arxiv.org/abs/1508.04025)\n",
        "1. [Attention is All You Need, Vaswani et. al.](https://arxiv.org/abs/1706.03762)\n",
        "1. [Lecture 14, Transformers and Self Attention, Stanford CS 224N](https://www.youtube.com/watch?v=5vcj8kSwBCY)\n",
        "1. [Speech and Language Processing, Jurafsky and Martin, Section 10.3](https://web.stanford.edu/~jurafsky/slp3/10.pdf)\n",
        "1. [Attention Primer](https://github.com/greentfrapp/attention-primer)\n",
        "1. [Transformers from Scratch](http://www.peterbloem.nl/blog/transformers)"
      ]
    }
  ]
}