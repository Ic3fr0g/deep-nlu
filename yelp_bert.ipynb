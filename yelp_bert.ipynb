{
  "nbformat": 4,
  "nbformat_minor": 0,
  "metadata": {
    "colab": {
      "name": "yelp_bert.ipynb",
      "version": "0.3.2",
      "provenance": [],
      "collapsed_sections": [],
      "include_colab_link": true
    },
    "kernelspec": {
      "name": "python3",
      "display_name": "Python 3"
    }
  },
  "cells": [
    {
      "cell_type": "markdown",
      "metadata": {
        "id": "view-in-github",
        "colab_type": "text"
      },
      "source": [
        "<a href=\"https://colab.research.google.com/github/madhugopinathan/deep-nlu/blob/master/yelp_bert.ipynb\" target=\"_parent\"><img src=\"https://colab.research.google.com/assets/colab-badge.svg\" alt=\"Open In Colab\"/></a>"
      ]
    },
    {
      "cell_type": "markdown",
      "metadata": {
        "id": "b0h9zqw3o09I",
        "colab_type": "text"
      },
      "source": [
        "# BERT (Bidirectional Encoder Representations from Transformers)"
      ]
    },
    {
      "cell_type": "code",
      "metadata": {
        "id": "vZWxz-MHuVm7",
        "colab_type": "code",
        "colab": {}
      },
      "source": [
        "%config InlineBackend.figure_format = 'retina'"
      ],
      "execution_count": 0,
      "outputs": []
    },
    {
      "cell_type": "code",
      "metadata": {
        "id": "PgCyzG9quifp",
        "colab_type": "code",
        "colab": {}
      },
      "source": [
        "%matplotlib inline\n",
        "import matplotlib.pyplot as plt\n",
        "import numpy as np\n",
        "import pandas as pd"
      ],
      "execution_count": 0,
      "outputs": []
    },
    {
      "cell_type": "code",
      "metadata": {
        "id": "0_7FOFpPu0Bj",
        "colab_type": "code",
        "colab": {}
      },
      "source": [
        "pd.options.display.max_colwidth=-1\n"
      ],
      "execution_count": 0,
      "outputs": []
    },
    {
      "cell_type": "code",
      "metadata": {
        "id": "sSpa7B9w0Rwp",
        "colab_type": "code",
        "colab": {}
      },
      "source": [
        "import spacy"
      ],
      "execution_count": 0,
      "outputs": []
    },
    {
      "cell_type": "code",
      "metadata": {
        "id": "_4J6DAFHozIL",
        "colab_type": "code",
        "colab": {
          "base_uri": "https://localhost:8080/",
          "height": 564
        },
        "outputId": "eca919ca-35e5-4abd-b6fa-74cc8f149c20"
      },
      "source": [
        "!pip install pytorch-transformers"
      ],
      "execution_count": 2,
      "outputs": [
        {
          "output_type": "stream",
          "text": [
            "Collecting pytorch-transformers\n",
            "\u001b[?25l  Downloading https://files.pythonhosted.org/packages/50/89/ad0d6bb932d0a51793eaabcf1617a36ff530dc9ab9e38f765a35dc293306/pytorch_transformers-1.1.0-py3-none-any.whl (158kB)\n",
            "\u001b[K     |████████████████████████████████| 163kB 4.8MB/s \n",
            "\u001b[?25hRequirement already satisfied: torch>=1.0.0 in /usr/local/lib/python3.6/dist-packages (from pytorch-transformers) (1.1.0)\n",
            "Requirement already satisfied: numpy in /usr/local/lib/python3.6/dist-packages (from pytorch-transformers) (1.16.4)\n",
            "Requirement already satisfied: requests in /usr/local/lib/python3.6/dist-packages (from pytorch-transformers) (2.21.0)\n",
            "Collecting sentencepiece (from pytorch-transformers)\n",
            "\u001b[?25l  Downloading https://files.pythonhosted.org/packages/14/3d/efb655a670b98f62ec32d66954e1109f403db4d937c50d779a75b9763a29/sentencepiece-0.1.83-cp36-cp36m-manylinux1_x86_64.whl (1.0MB)\n",
            "\u001b[K     |████████████████████████████████| 1.0MB 43.8MB/s \n",
            "\u001b[?25hRequirement already satisfied: boto3 in /usr/local/lib/python3.6/dist-packages (from pytorch-transformers) (1.9.205)\n",
            "Requirement already satisfied: tqdm in /usr/local/lib/python3.6/dist-packages (from pytorch-transformers) (4.28.1)\n",
            "Collecting regex (from pytorch-transformers)\n",
            "\u001b[?25l  Downloading https://files.pythonhosted.org/packages/6f/a6/99eeb5904ab763db87af4bd71d9b1dfdd9792681240657a4c0a599c10a81/regex-2019.08.19.tar.gz (654kB)\n",
            "\u001b[K     |████████████████████████████████| 655kB 40.6MB/s \n",
            "\u001b[?25hRequirement already satisfied: urllib3<1.25,>=1.21.1 in /usr/local/lib/python3.6/dist-packages (from requests->pytorch-transformers) (1.24.3)\n",
            "Requirement already satisfied: certifi>=2017.4.17 in /usr/local/lib/python3.6/dist-packages (from requests->pytorch-transformers) (2019.6.16)\n",
            "Requirement already satisfied: chardet<3.1.0,>=3.0.2 in /usr/local/lib/python3.6/dist-packages (from requests->pytorch-transformers) (3.0.4)\n",
            "Requirement already satisfied: idna<2.9,>=2.5 in /usr/local/lib/python3.6/dist-packages (from requests->pytorch-transformers) (2.8)\n",
            "Requirement already satisfied: jmespath<1.0.0,>=0.7.1 in /usr/local/lib/python3.6/dist-packages (from boto3->pytorch-transformers) (0.9.4)\n",
            "Requirement already satisfied: botocore<1.13.0,>=1.12.205 in /usr/local/lib/python3.6/dist-packages (from boto3->pytorch-transformers) (1.12.205)\n",
            "Requirement already satisfied: s3transfer<0.3.0,>=0.2.0 in /usr/local/lib/python3.6/dist-packages (from boto3->pytorch-transformers) (0.2.1)\n",
            "Requirement already satisfied: docutils<0.15,>=0.10 in /usr/local/lib/python3.6/dist-packages (from botocore<1.13.0,>=1.12.205->boto3->pytorch-transformers) (0.14)\n",
            "Requirement already satisfied: python-dateutil<3.0.0,>=2.1; python_version >= \"2.7\" in /usr/local/lib/python3.6/dist-packages (from botocore<1.13.0,>=1.12.205->boto3->pytorch-transformers) (2.5.3)\n",
            "Requirement already satisfied: six>=1.5 in /usr/local/lib/python3.6/dist-packages (from python-dateutil<3.0.0,>=2.1; python_version >= \"2.7\"->botocore<1.13.0,>=1.12.205->boto3->pytorch-transformers) (1.12.0)\n",
            "Building wheels for collected packages: regex\n",
            "  Building wheel for regex (setup.py) ... \u001b[?25l\u001b[?25hdone\n",
            "  Created wheel for regex: filename=regex-2019.8.19-cp36-cp36m-linux_x86_64.whl size=609236 sha256=a223c87dbd6d25f68fe6d4d92438a80ec43aa98d76718fe6d5f2e4cf9f542bbf\n",
            "  Stored in directory: /root/.cache/pip/wheels/90/04/07/b5010fb816721eb3d6dd64ed5cc8111ca23f97fdab8619b5be\n",
            "Successfully built regex\n",
            "Installing collected packages: sentencepiece, regex, pytorch-transformers\n",
            "Successfully installed pytorch-transformers-1.1.0 regex-2019.8.19 sentencepiece-0.1.83\n"
          ],
          "name": "stdout"
        }
      ]
    },
    {
      "cell_type": "code",
      "metadata": {
        "id": "N6f9L_sbe-5U",
        "colab_type": "code",
        "colab": {}
      },
      "source": [
        "import torch\n",
        "from pytorch_transformers import BertModel, BertTokenizer"
      ],
      "execution_count": 0,
      "outputs": []
    },
    {
      "cell_type": "code",
      "metadata": {
        "id": "3dLZ7bQRowT0",
        "colab_type": "code",
        "colab": {
          "base_uri": "https://localhost:8080/",
          "height": 34
        },
        "outputId": "9b01e854-7f0d-474b-e243-3897c3fa6564"
      },
      "source": [
        "pretrained_weights = 'bert-base-uncased'\n",
        "tokenizer = BertTokenizer.from_pretrained(pretrained_weights)"
      ],
      "execution_count": 4,
      "outputs": [
        {
          "output_type": "stream",
          "text": [
            "100%|██████████| 231508/231508 [00:00<00:00, 1233609.73B/s]\n"
          ],
          "name": "stderr"
        }
      ]
    },
    {
      "cell_type": "code",
      "metadata": {
        "id": "DPrusvNrpdA_",
        "colab_type": "code",
        "colab": {
          "base_uri": "https://localhost:8080/",
          "height": 204
        },
        "outputId": "c985abc4-ee1f-4c7f-fc69-2c86da4514da"
      },
      "source": [
        "!wget https://s3.amazonaws.com/fast-ai-nlp/yelp_review_full_csv.tgz\n"
      ],
      "execution_count": 6,
      "outputs": [
        {
          "output_type": "stream",
          "text": [
            "--2019-08-22 05:08:15--  https://s3.amazonaws.com/fast-ai-nlp/yelp_review_full_csv.tgz\n",
            "Resolving s3.amazonaws.com (s3.amazonaws.com)... 52.216.164.229\n",
            "Connecting to s3.amazonaws.com (s3.amazonaws.com)|52.216.164.229|:443... connected.\n",
            "HTTP request sent, awaiting response... 200 OK\n",
            "Length: 196146755 (187M) [application/x-tar]\n",
            "Saving to: ‘yelp_review_full_csv.tgz’\n",
            "\n",
            "yelp_review_full_cs 100%[===================>] 187.06M  42.9MB/s    in 4.7s    \n",
            "\n",
            "2019-08-22 05:08:20 (40.0 MB/s) - ‘yelp_review_full_csv.tgz’ saved [196146755/196146755]\n",
            "\n"
          ],
          "name": "stdout"
        }
      ]
    },
    {
      "cell_type": "code",
      "metadata": {
        "id": "eYWxWq8uuaoj",
        "colab_type": "code",
        "colab": {
          "base_uri": "https://localhost:8080/",
          "height": 85
        },
        "outputId": "741c9a56-802c-4fa7-f40b-bddf988cf375"
      },
      "source": [
        "!tar xvfz yelp_review_full_csv.tgz\n"
      ],
      "execution_count": 7,
      "outputs": [
        {
          "output_type": "stream",
          "text": [
            "yelp_review_full_csv/\n",
            "yelp_review_full_csv/train.csv\n",
            "yelp_review_full_csv/readme.txt\n",
            "yelp_review_full_csv/test.csv\n"
          ],
          "name": "stdout"
        }
      ]
    },
    {
      "cell_type": "markdown",
      "metadata": {
        "id": "fI55dqHauohg",
        "colab_type": "text"
      },
      "source": [
        "## Load Yelp Reviews"
      ]
    },
    {
      "cell_type": "code",
      "metadata": {
        "id": "1dxN9RXmuc2T",
        "colab_type": "code",
        "colab": {}
      },
      "source": [
        "DATA_DIR = \"./yelp_review_full_csv/\"\n"
      ],
      "execution_count": 0,
      "outputs": []
    },
    {
      "cell_type": "code",
      "metadata": {
        "id": "QMmngu48utNw",
        "colab_type": "code",
        "colab": {}
      },
      "source": [
        "df = pd.read_csv(DATA_DIR + \"train.csv\", header=None, names=['rating', 'review'])\n"
      ],
      "execution_count": 0,
      "outputs": []
    },
    {
      "cell_type": "code",
      "metadata": {
        "id": "6G-YMQbNuu4H",
        "colab_type": "code",
        "colab": {
          "base_uri": "https://localhost:8080/",
          "height": 323
        },
        "outputId": "26ee5b61-0221-4efb-ffc7-43a231629ed1"
      },
      "source": [
        "df[df.review.str.contains(\"indian\")].sample(5)\n"
      ],
      "execution_count": 14,
      "outputs": [
        {
          "output_type": "execute_result",
          "data": {
            "text/html": [
              "<div>\n",
              "<style scoped>\n",
              "    .dataframe tbody tr th:only-of-type {\n",
              "        vertical-align: middle;\n",
              "    }\n",
              "\n",
              "    .dataframe tbody tr th {\n",
              "        vertical-align: top;\n",
              "    }\n",
              "\n",
              "    .dataframe thead th {\n",
              "        text-align: right;\n",
              "    }\n",
              "</style>\n",
              "<table border=\"1\" class=\"dataframe\">\n",
              "  <thead>\n",
              "    <tr style=\"text-align: right;\">\n",
              "      <th></th>\n",
              "      <th>rating</th>\n",
              "      <th>review</th>\n",
              "    </tr>\n",
              "  </thead>\n",
              "  <tbody>\n",
              "    <tr>\n",
              "      <th>16328</th>\n",
              "      <td>1</td>\n",
              "      <td>Placed a take-out order of vegetable pakoras, shahi paneer, garlic naan, and papadum. Did not receive the pakoras at all, the naan was COLD (not even lukewarm), the papadum was burned, and the shahi paneer was crappy. As your lawyer, I advise you to become a patron of any other indian place in the valley but this one.</td>\n",
              "    </tr>\n",
              "    <tr>\n",
              "      <th>635579</th>\n",
              "      <td>3</td>\n",
              "      <td>Simple store with basic indian groceries. Store is clean and staff are courteous. Items are pricey , minimum of 20% more than market price. I like the store except for the prices</td>\n",
              "    </tr>\n",
              "    <tr>\n",
              "      <th>33289</th>\n",
              "      <td>2</td>\n",
              "      <td>I've eaten here several times and I think the food tastes very good. The buffet is the only way to go here because the meals are overpriced and  portions are small,  Now the service is horrible, inattentive at best , I don't feel welcomed and the servers I have had were flippant and the last time argued with us regarding the tea, we were served tea that was old but he insisted it was fine. Kinda aggravating. So if you are just looking for some good indian buffet, with out service not a bad place.</td>\n",
              "    </tr>\n",
              "    <tr>\n",
              "      <th>85181</th>\n",
              "      <td>4</td>\n",
              "      <td>Took some friends there to thank them for helping me move. We needed good vegetarian food and good beer within walking distance of my place, and it fit the bill perfectly. \\nI thought the chef's choice appetizers were delicious and a great deal, as well as the beer selection and prices. The entrees were tasty too, but I've had much better indian food.\\nOur waiter was patient and cheerful, and best of all, we ate al fresco, and the weather was so gorgeous, a man at the table next to us in his magnanimity, treated us to almond joy ice cream. mmm.</td>\n",
              "    </tr>\n",
              "    <tr>\n",
              "      <th>361192</th>\n",
              "      <td>2</td>\n",
              "      <td>The place was just ill maintained and dirty. All the tables had food remnants. The food was really bad - the snacks were soaked in oil and served in paper plates and cups. The batata wada was stale. The thali was tolerable but mostly insipid. The cherry on the pan had gone bad. The serving staff were simultaneously serving and mopping the floor. \\n\\nWe go often to the Rajbhog in the triangle area but this one in Charlotte just does not cut the mustard. You'll be better off at Woodlands or some other indian joint.</td>\n",
              "    </tr>\n",
              "  </tbody>\n",
              "</table>\n",
              "</div>"
            ],
            "text/plain": [
              "        rating                                                                                                                                                                                                                                                                                                                                                                                                                                                                                                                                                                  review\n",
              "16328   1       Placed a take-out order of vegetable pakoras, shahi paneer, garlic naan, and papadum. Did not receive the pakoras at all, the naan was COLD (not even lukewarm), the papadum was burned, and the shahi paneer was crappy. As your lawyer, I advise you to become a patron of any other indian place in the valley but this one.                                                                                                                                                                                                                                       \n",
              "635579  3       Simple store with basic indian groceries. Store is clean and staff are courteous. Items are pricey , minimum of 20% more than market price. I like the store except for the prices                                                                                                                                                                                                                                                                                                                                                                                    \n",
              "33289   2       I've eaten here several times and I think the food tastes very good. The buffet is the only way to go here because the meals are overpriced and  portions are small,  Now the service is horrible, inattentive at best , I don't feel welcomed and the servers I have had were flippant and the last time argued with us regarding the tea, we were served tea that was old but he insisted it was fine. Kinda aggravating. So if you are just looking for some good indian buffet, with out service not a bad place.                                                 \n",
              "85181   4       Took some friends there to thank them for helping me move. We needed good vegetarian food and good beer within walking distance of my place, and it fit the bill perfectly. \\nI thought the chef's choice appetizers were delicious and a great deal, as well as the beer selection and prices. The entrees were tasty too, but I've had much better indian food.\\nOur waiter was patient and cheerful, and best of all, we ate al fresco, and the weather was so gorgeous, a man at the table next to us in his magnanimity, treated us to almond joy ice cream. mmm.\n",
              "361192  2       The place was just ill maintained and dirty. All the tables had food remnants. The food was really bad - the snacks were soaked in oil and served in paper plates and cups. The batata wada was stale. The thali was tolerable but mostly insipid. The cherry on the pan had gone bad. The serving staff were simultaneously serving and mopping the floor. \\n\\nWe go often to the Rajbhog in the triangle area but this one in Charlotte just does not cut the mustard. You'll be better off at Woodlands or some other indian joint.                                "
            ]
          },
          "metadata": {
            "tags": []
          },
          "execution_count": 14
        }
      ]
    },
    {
      "cell_type": "markdown",
      "metadata": {
        "id": "fx6G5787xiZ_",
        "colab_type": "text"
      },
      "source": [
        "## BERT Tokenization"
      ]
    },
    {
      "cell_type": "markdown",
      "metadata": {
        "id": "9LoromIYy1WK",
        "colab_type": "text"
      },
      "source": [
        "Notice the small vocabulary size: 30522!"
      ]
    },
    {
      "cell_type": "code",
      "metadata": {
        "id": "E-NVFq_pxeAT",
        "colab_type": "code",
        "colab": {
          "base_uri": "https://localhost:8080/",
          "height": 34
        },
        "outputId": "6c8cc9c6-47c5-4aaf-bb50-d9b9ea7fe946"
      },
      "source": [
        "tokenizer.vocab_size"
      ],
      "execution_count": 33,
      "outputs": [
        {
          "output_type": "execute_result",
          "data": {
            "text/plain": [
              "30522"
            ]
          },
          "metadata": {
            "tags": []
          },
          "execution_count": 33
        }
      ]
    },
    {
      "cell_type": "code",
      "metadata": {
        "id": "MlnG_jtjuyF-",
        "colab_type": "code",
        "colab": {}
      },
      "source": [
        "\n",
        "# 16328\n",
        "review = \"\"\"Placed a take-out order of vegetable pakoras, shahi paneer, \n",
        "            garlic naan, and papadum. Did not receive the pakoras at all, \n",
        "            the naan was COLD (not even lukewarm), the papadum was burned, \n",
        "            and the shahi paneer was crappy. As your lawyer, I advise you \n",
        "            to become a patron of any other indian place in the valley \n",
        "            but this one.\"\"\""
      ],
      "execution_count": 0,
      "outputs": []
    },
    {
      "cell_type": "code",
      "metadata": {
        "id": "W_wxTXQTzvl6",
        "colab_type": "code",
        "colab": {}
      },
      "source": [
        "nlp = spacy.load(\"en\")"
      ],
      "execution_count": 0,
      "outputs": []
    },
    {
      "cell_type": "code",
      "metadata": {
        "id": "VzektLXN0bhv",
        "colab_type": "code",
        "colab": {
          "base_uri": "https://localhost:8080/",
          "height": 119
        },
        "outputId": "8d83412a-fd11-469d-e1d8-09007a3364de"
      },
      "source": [
        "list(nlp(review))"
      ],
      "execution_count": 46,
      "outputs": [
        {
          "output_type": "execute_result",
          "data": {
            "text/plain": [
              "[Placed, a, take, -, out, order, of, vegetable, pakoras, ,, shahi, paneer, ,, \n",
              "             , garlic, naan, ,, and, papadum, ., Did, not, receive, the, pakoras, at, all, ,, \n",
              "             , the, naan, was, COLD, (, not, even, lukewarm, ), ,, the, papadum, was, burned, ,, \n",
              "             , and, the, shahi, paneer, was, crappy, ., As, your, lawyer, ,, I, advise, you, \n",
              "             , to, become, a, patron, of, any, other, indian, place, in, the, valley, \n",
              "             , but, this, one, .]"
            ]
          },
          "metadata": {
            "tags": []
          },
          "execution_count": 46
        }
      ]
    },
    {
      "cell_type": "code",
      "metadata": {
        "id": "d2VUI6YQ0hsP",
        "colab_type": "code",
        "colab": {
          "base_uri": "https://localhost:8080/",
          "height": 34
        },
        "outputId": "add3c360-f5d1-414e-f7f9-d174c2274ea3"
      },
      "source": [
        "len(list(nlp(review)))"
      ],
      "execution_count": 47,
      "outputs": [
        {
          "output_type": "execute_result",
          "data": {
            "text/plain": [
              "77"
            ]
          },
          "metadata": {
            "tags": []
          },
          "execution_count": 47
        }
      ]
    },
    {
      "cell_type": "code",
      "metadata": {
        "id": "Q_hk5XcF0koe",
        "colab_type": "code",
        "colab": {
          "base_uri": "https://localhost:8080/",
          "height": 34
        },
        "outputId": "56c519ff-2b14-45b5-fe5a-3ee1c94a4fa9"
      },
      "source": [
        "len(tokenizer.tokenize(review))"
      ],
      "execution_count": 49,
      "outputs": [
        {
          "output_type": "execute_result",
          "data": {
            "text/plain": [
              "89"
            ]
          },
          "metadata": {
            "tags": []
          },
          "execution_count": 49
        }
      ]
    },
    {
      "cell_type": "code",
      "metadata": {
        "id": "IG9mClyn1MwM",
        "colab_type": "code",
        "colab": {
          "base_uri": "https://localhost:8080/",
          "height": 1000
        },
        "outputId": "e864d5c2-179c-4f51-ed1b-476dec8ef224"
      },
      "source": [
        "tokenizer.tokenize(review)"
      ],
      "execution_count": 50,
      "outputs": [
        {
          "output_type": "execute_result",
          "data": {
            "text/plain": [
              "['placed',\n",
              " 'a',\n",
              " 'take',\n",
              " '-',\n",
              " 'out',\n",
              " 'order',\n",
              " 'of',\n",
              " 'vegetable',\n",
              " 'pak',\n",
              " '##ora',\n",
              " '##s',\n",
              " ',',\n",
              " 'shah',\n",
              " '##i',\n",
              " 'pan',\n",
              " '##eer',\n",
              " ',',\n",
              " 'garlic',\n",
              " 'na',\n",
              " '##an',\n",
              " ',',\n",
              " 'and',\n",
              " 'papa',\n",
              " '##du',\n",
              " '##m',\n",
              " '.',\n",
              " 'did',\n",
              " 'not',\n",
              " 'receive',\n",
              " 'the',\n",
              " 'pak',\n",
              " '##ora',\n",
              " '##s',\n",
              " 'at',\n",
              " 'all',\n",
              " ',',\n",
              " 'the',\n",
              " 'na',\n",
              " '##an',\n",
              " 'was',\n",
              " 'cold',\n",
              " '(',\n",
              " 'not',\n",
              " 'even',\n",
              " 'luke',\n",
              " '##war',\n",
              " '##m',\n",
              " ')',\n",
              " ',',\n",
              " 'the',\n",
              " 'papa',\n",
              " '##du',\n",
              " '##m',\n",
              " 'was',\n",
              " 'burned',\n",
              " ',',\n",
              " 'and',\n",
              " 'the',\n",
              " 'shah',\n",
              " '##i',\n",
              " 'pan',\n",
              " '##eer',\n",
              " 'was',\n",
              " 'crap',\n",
              " '##py',\n",
              " '.',\n",
              " 'as',\n",
              " 'your',\n",
              " 'lawyer',\n",
              " ',',\n",
              " 'i',\n",
              " 'advise',\n",
              " 'you',\n",
              " 'to',\n",
              " 'become',\n",
              " 'a',\n",
              " 'patron',\n",
              " 'of',\n",
              " 'any',\n",
              " 'other',\n",
              " 'indian',\n",
              " 'place',\n",
              " 'in',\n",
              " 'the',\n",
              " 'valley',\n",
              " 'but',\n",
              " 'this',\n",
              " 'one',\n",
              " '.']"
            ]
          },
          "metadata": {
            "tags": []
          },
          "execution_count": 50
        }
      ]
    },
    {
      "cell_type": "code",
      "metadata": {
        "id": "qBiXGTNtvkGE",
        "colab_type": "code",
        "colab": {
          "base_uri": "https://localhost:8080/",
          "height": 34
        },
        "outputId": "14cf02e8-1ddb-4ab2-b1f7-e417591d5362"
      },
      "source": [
        "tokenizer.decode(tokenizer.encode('papadum'))"
      ],
      "execution_count": 51,
      "outputs": [
        {
          "output_type": "execute_result",
          "data": {
            "text/plain": [
              "'papadum'"
            ]
          },
          "metadata": {
            "tags": []
          },
          "execution_count": 51
        }
      ]
    },
    {
      "cell_type": "code",
      "metadata": {
        "id": "16mmL8DSvLve",
        "colab_type": "code",
        "colab": {
          "base_uri": "https://localhost:8080/",
          "height": 54
        },
        "outputId": "e0f7a6ae-77de-420a-e9a1-5a9a621a08c9"
      },
      "source": [
        "tokenizer.decode(tokenizer.encode(review))"
      ],
      "execution_count": 16,
      "outputs": [
        {
          "output_type": "execute_result",
          "data": {
            "text/plain": [
              "'placed a take - out order of vegetable pakoras, shahi paneer, garlic naan, and papadum. did not receive the pakoras at all, the naan was cold ( not even lukewarm ), the papadum was burned, and the shahi paneer was crappy. as your lawyer, i advise you to become a patron of any other indian place in the valley but this one.'"
            ]
          },
          "metadata": {
            "tags": []
          },
          "execution_count": 16
        }
      ]
    },
    {
      "cell_type": "markdown",
      "metadata": {
        "id": "htu7z8mZ2BLX",
        "colab_type": "text"
      },
      "source": [
        "BERT uses a sub-word tokenization algorithm called [WordPiece](https://stackoverflow.com/questions/55382596/how-is-wordpiece-tokenization-helpful-to-effectively-deal-with-rare-words-proble) to handle rare words.\n"
      ]
    },
    {
      "cell_type": "code",
      "metadata": {
        "id": "2u9xrRGF0oCR",
        "colab_type": "code",
        "colab": {}
      },
      "source": [
        ""
      ],
      "execution_count": 0,
      "outputs": []
    }
  ]
}